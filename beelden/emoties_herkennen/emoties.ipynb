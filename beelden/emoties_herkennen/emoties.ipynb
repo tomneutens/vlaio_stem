{
 "cells": [
  {
   "cell_type": "markdown",
   "metadata": {},
   "source": [
    "# Emoties herkennen\n",
    "\n",
    "In deze activiteit zal je een AI systeem ontwikkelen dat in staat is om emoties te herkennen. Zo leer je, stap voor stap, verschillende principes van AI en machinaal leren. "
   ]
  },
  {
   "cell_type": "markdown",
   "metadata": {},
   "source": [
    "## Voorkennis\n",
    "\n",
    "Om met deze notebook aan de slag te gaan, heb je een basiskennis nodig van het Python programmeren. We gebruiken in deze notebook datatypes, operatoren, structuren en functies. Ben je niet zeker dat je voldoende Python kennis hebt voor deze notebook, dan kun je terecht op [dwengo.org/python_programming](https://dwengo.org/python_programming/). Daar worden alle basisprincipes stap voor stap uitgelegd."
   ]
  },
  {
   "cell_type": "markdown",
   "metadata": {},
   "source": [
    "## Importeren van de nodige bibliotheken\n",
    "\n",
    "Voor we starten met ons systeem te bouwen, laden we eerst een aantal bibliotheken in. Deze bevatten voorgeprogrammeerde functies die we in de analyse nodig zullen hebben."
   ]
  },
  {
   "cell_type": "code",
   "execution_count": 1,
   "metadata": {},
   "outputs": [],
   "source": [
    "# Bibliotheken inladen\n",
    "import matplotlib.pyplot as plt\n",
    "from PIL import Image"
   ]
  },
  {
   "cell_type": "markdown",
   "metadata": {},
   "source": [
    "## Eenvoudig starten\n",
    "\n",
    "Wanneer je een nieuw systeem bouwt, is het altijd handig om te beginnen met een vereenvoudigde versie van het probleem. Hier doen we dat door een systeem te bouwen dat de emoties van emoticons kan detecteren. Voer onderstaande codecellen uit om een aantal voorbeelden van deze emoticons te bekijken."
   ]
  },
  {
   "cell_type": "code",
   "execution_count": null,
   "metadata": {},
   "outputs": [],
   "source": []
  }
 ],
 "metadata": {
  "kernelspec": {
   "display_name": "Python 3",
   "language": "python",
   "name": "python3"
  },
  "language_info": {
   "codemirror_mode": {
    "name": "ipython",
    "version": 3
   },
   "file_extension": ".py",
   "mimetype": "text/x-python",
   "name": "python",
   "nbconvert_exporter": "python",
   "pygments_lexer": "ipython3",
   "version": "3.12.0b2"
  }
 },
 "nbformat": 4,
 "nbformat_minor": 2
}
