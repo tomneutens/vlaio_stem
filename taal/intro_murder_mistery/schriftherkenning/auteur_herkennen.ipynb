{
 "cells": [
  {
   "cell_type": "markdown",
   "metadata": {},
   "source": [
    "# Het misterie van de dood van Heloisa\n",
    "\n",
    "In het kasteel van barones Heloisa Argentoliensis heeft er zich een drama afgespeeld. Tijdens de nacht van de laatste volle maan werd de barones dood teruggevonden in haar torenkamer. Het overlijden is niet in het minst verdacht te noemen. De barones was nog jong en gezond. Er waren geen indicaties van ziekte. Het plotse overlijden had dus iedereen verrast. Er werd een onderzoek opgestart naar deze mysterieuze moord maar door een gebrek aan bewijs, werd nooit duidelijk wat er echt gebeurd is met barones Heloisa.\n",
    "\n",
    "Geschiedkundigen vermoeden dat Heloisa vermoord werd door iemand die uit was op haar erfenis. Het testament dat naast haar gevonden werd, is waarschijnlijk geschreven door de dader en niet door Heloise zelf. In dat testament staan vier personen die elk een deel van de erfenis krijgen. In de torenkamer van Heloisa werden verschillende briefwisselingen teruggevonden met elk van deze personen. Deze brieven zullen ons helpen om de dader te identificeren.\n",
    "\n",
    "Kan jij met behulp van deze notebook achterhalen wie verantwoordelijk is voor de moord van Heloisa?"
   ]
  },
  {
   "cell_type": "markdown",
   "metadata": {},
   "source": [
    "## Voorkennis\n",
    "\n",
    "Om met deze notebook aan de slag te gaan, heb je een basiskennis nodig van het Python programmeren. We gebruiken in deze notebook datatypes, operatoren, structuren en functies. Ben je niet zeker dat je voldoende Python kennis hebt voor deze notebook, dan kan je terecht op [dwengo.org/python_programming](https://dwengo.org/python_programming/). Daar worden alle basisprincipes stap voor stap uitgelegd."
   ]
  },
  {
   "cell_type": "markdown",
   "metadata": {},
   "source": [
    "## Importeren van de nodige bibliotheken\n",
    "\n",
    "Voor we starten met ons onderzoek, laden we eerst twee bibliotheken in. Deze bevatten voorgeprogrammeerde functies die we in de analyse nodig zullen hebben."
   ]
  },
  {
   "cell_type": "code",
   "execution_count": 111,
   "metadata": {},
   "outputs": [],
   "source": [
    "# Importeer de nodige Python modules\n",
    "import os\n",
    "import string\n",
    "import numpy as np\n",
    "import matplotlib.pyplot as plt\n",
    "from sklearn.cluster import KMeans\n",
    "from sklearn.decomposition import PCA"
   ]
  },
  {
   "cell_type": "markdown",
   "metadata": {},
   "source": [
    "## Het testament\n",
    "\n",
    "Onderstaande code laadt het testament van Heloise in in Python en drukt het af. Voer de volgende drie cellen uit en lees het testament van Heloise. "
   ]
  },
  {
   "cell_type": "code",
   "execution_count": 112,
   "metadata": {},
   "outputs": [],
   "source": [
    "# Deze functie leest de tekst in een bestand en geeft die terug als een string.\n",
    "def lees_bestand(bestandsnaam):\n",
    "    with open(bestandsnaam) as f:\n",
    "        inhoud = f.read()\n",
    "    return inhoud"
   ]
  },
  {
   "cell_type": "code",
   "execution_count": 113,
   "metadata": {},
   "outputs": [],
   "source": [
    "# Lees de tekst in het bestand testament.txt en sla het op in de variabele testament.\n",
    "testament = lees_bestand(\"documenten/testament.txt\")"
   ]
  },
  {
   "cell_type": "code",
   "execution_count": 114,
   "metadata": {},
   "outputs": [
    {
     "name": "stdout",
     "output_type": "stream",
     "text": [
      "In naam van de Almachtige God, Amen.\n",
      "\n",
      "Ik, Heloisa, barones van het illustere huis Abaelardus, in het volledig bewustzijn van mijn vergankelijkheid, stel dit testament op om de wereldse bezittingen te verdelen naar mijn wil en geweten. Moge deze getuigenis de diepste van mijn intenties weerspiegelen, vastberaden en onveranderlijk.\n",
      "\n",
      "Als eerste daad van mijn nalatenschap verkondig ik dat de helft van mijn vergaarde goudschatten, opgebouwd door de jaren van toewijding, geschonken zal worden aan de heilige kerk, ter bevordering van haar goddelijke missie op aarde, zodat haar werk van mededogen en naastenliefde voort kan blijven bestaan.\n",
      "\n",
      "Voorts beslis ik dat mijn geliefde oudste zoon Hugo, wiens trouw aan het huis Abaelardus onwrikbaar is gebleken, rechtmatige erfgenaam zal zijn van ons eerbiedwaardige kasteel, waar hij de tradities van onze familie zal voortzetten en onze naam met eer zal dragen.\n",
      "\n",
      "Aan mijn dierbare dochter Elisabeth, de bron van mijn moederlijke trots, schenk ik het beheer over onze kostbare paardenstallen en onderliggende landerijen. Moge zij met dezelfde toewijding als ikzelf, deze erfenis koesteren en beschermen, en onze edele paardenfokkerij voortzetten.\n",
      "\n",
      "Evenzo wijs ik mijn geliefde jongste zoon Johannes aan als de beheerder van ons buitenverblijf in het Noorden, waar hij de verantwoordelijkheid zal dragen voor het behoud en de bescherming van ons erfgoed in die regio, ter ere van ons huis en onze naam.\n",
      "\n",
      "Wat betreft mijn overgebleven goudschatten, verklaar ik dat deze eerlijk verdeeld zullen worden onder al mijn kinderen, als een teken van mijn liefde en zorg voor hen allen.\n",
      "\n",
      "Ik bevestig dit testament met mijn handtekening en zegel, vastgelegd op de dag van (datum), in aanwezigheid van getuigen die gevraagd zijn om mijn laatste wil te bevestigen en mijn oprechte intenties te bekrachtigen.\n",
      "\n",
      "Getekend,\n",
      "\n",
      "Barones Heloisa Abaelardus\n"
     ]
    }
   ],
   "source": [
    "# Druk de waarde van de variabele testament af.\n",
    "print(testament)"
   ]
  },
  {
   "cell_type": "markdown",
   "metadata": {},
   "source": [
    "Lees het testament van Heloise. Wie krijgt welke delen van haar fortuin? Wat is de relatie tussen Heloise en de begunstigden in haar testament?"
   ]
  },
  {
   "cell_type": "markdown",
   "metadata": {},
   "source": [
    "## Briefwisselingen\n",
    "\n",
    "Heloise had nauw contact met de vier begunstigden in haar testament. In haar torenkamer werden verschillende brieven teruggevonden van elk van deze personen. Hieronder bekijken we de inhoud van een aantal van die brieven."
   ]
  },
  {
   "cell_type": "markdown",
   "metadata": {},
   "source": [
    "De functies in onderstaande cel zullen ons helpen om de teksten uit de verschillende brieven in te lezen in Python."
   ]
  },
  {
   "cell_type": "code",
   "execution_count": 115,
   "metadata": {},
   "outputs": [],
   "source": [
    "# Deze functie leest de tekst in alle bestanden in een map en geeft die terug als een string.\n",
    "def lees_bestanden_in_map(mapnaam):\n",
    "    bestanden = os.listdir(mapnaam)\n",
    "    inhoud = []\n",
    "    for bestand in bestanden:\n",
    "        if bestand.endswith(\".txt\"):\n",
    "            inhoud.append(lees_bestand(mapnaam + \"/\" + bestand))\n",
    "    return inhoud\n",
    "\n",
    "# Deze functie overloopt de mappen met auteurs en leest alle teksten van die auteurs in.\n",
    "def overloop_mappen_in_map(mapnaam):\n",
    "    auteurs = {}\n",
    "    mappen = os.listdir(mapnaam)\n",
    "    for map in mappen:\n",
    "        if os.path.isdir(mapnaam + \"/\" + map):\n",
    "            auteurs[map] = lees_bestanden_in_map(mapnaam + \"/\" + map)\n",
    "    return auteurs"
   ]
  },
  {
   "cell_type": "code",
   "execution_count": 116,
   "metadata": {},
   "outputs": [],
   "source": [
    "# Lees de tekst voor elke auteurs in de map documenten en sla die op in een dictionary.\n",
    "teksten_per_auteur = overloop_mappen_in_map(\"documenten\")"
   ]
  },
  {
   "cell_type": "markdown",
   "metadata": {},
   "source": [
    "Eerst bekijken we van welke auteurs we brieven hebben."
   ]
  },
  {
   "cell_type": "code",
   "execution_count": 117,
   "metadata": {},
   "outputs": [
    {
     "name": "stdout",
     "output_type": "stream",
     "text": [
      "dict_keys(['Elisabeth', 'Gregorius', 'Heloise', 'Hugo', 'Johannes'])\n"
     ]
    }
   ],
   "source": [
    "# Druk de namen van de auteurs af.  \n",
    "print(teksten_per_auteur.keys())"
   ]
  },
  {
   "cell_type": "markdown",
   "metadata": {},
   "source": [
    "We zien dat we brieven hebben van elke begunstigde in het testament van Heloise.\n",
    "* Elisabeth: de dochter van Heloise.\n",
    "* Hugo: de oudste zoon van Heloise.\n",
    "* Johannes: de jongste zoon van Heloise.\n",
    "* Gregorius: de kannunik van de lokale kerkgemeenschap."
   ]
  },
  {
   "cell_type": "markdown",
   "metadata": {},
   "source": [
    "Laten we nu de inhoud van een aantal van de brieven bekijken."
   ]
  },
  {
   "cell_type": "code",
   "execution_count": 118,
   "metadata": {},
   "outputs": [
    {
     "name": "stdout",
     "output_type": "stream",
     "text": [
      "\n",
      "Lieve moeder,\n",
      "\n",
      "Hopelijk bereikt brief je in goede gezondheid. Hij komt vanuit strijdtoneel bij Trier, waar zojuist hevige veldslag heeft plaatsgevonden. Het was zware dag, maar wilde je meteen informeren over mijn toestand.\n",
      "\n",
      "Strijd was intens en vol verrassingen, maar gelukkig ben ik veilig en wel. Met Gods genade en ons familie-erfgoed aan mijn zijde heb ik me door chaos weten te manoeuvreren en onze eer verdedigd. Vijand heeft aanzienlijke verliezen geleden, maar we hebben standgehouden en onze positie behouden.\n",
      "\n",
      "Ik voel trots over mijn rol in strijd en ik weet dat jij dat ook zult zijn. Ik kijk ernaar uit om je spoedig weer te zien en je persoonlijk verslag te geven van onze heldhaftige daden. Tot tijd bid ik voor jouw veiligheid en welzijn.\n",
      "\n",
      "Met liefde,\n",
      "\n",
      "Hugo\n"
     ]
    }
   ],
   "source": [
    "# Druk de inhoud van de eerste brief van Hugo af.\n",
    "print(teksten_per_auteur[\"Hugo\"][0])"
   ]
  },
  {
   "cell_type": "code",
   "execution_count": 119,
   "metadata": {},
   "outputs": [
    {
     "name": "stdout",
     "output_type": "stream",
     "text": [
      "Eerbiedwaardige Barones Heloisa Abaelardus,\n",
      "\n",
      "Het is met oprechte bezorgdheid dat ik u opnieuw benader om het belang van een royale donatie aan de kerk te benadrukken. Als dienaar van de Heilige Kerk voel ik het mijn plicht om u te herinneren aan de zegeningen die voortvloeien uit vrijgevigheid jegens de kerk.\n",
      "\n",
      "Door uw rijkdommen te delen met de Heilige Kerk, kunt u niet alleen uw eigen zielenheil veiligstellen, maar ook bijdragen aan de voortgang van Gods werk op aarde. Uw vrijgevigheid zal een zegen zijn voor de minderbedeelden en zal de verspreiding van Gods liefde en genade bevorderen.\n",
      "\n",
      "Ik wil u ook waarschuwen voor de gevaren van het niet doneren aan de kerk. De wereldse rijkdommen die u hier vergaart, zijn vergankelijk en zullen uiteindelijk vergaan. Alleen door uw schatten te investeren in het koninkrijk van God kunt u ware vervulling vinden en uw eeuwige bestemming veiligstellen.\n",
      "\n",
      "Ik smeek u daarom, eerbiedwaardige Barones, om de voordelen van een royale donatie aan de kerk serieus te overwegen. Moge uw vrijgevigheid overvloedig zijn en moge u rijkelijk worden beloond in het hiernamaals.\n",
      "\n",
      "Met hoogachting,\n",
      "\n",
      "Kannunik Gregorius\n"
     ]
    }
   ],
   "source": [
    "# Druk de inhoud van de vijfde brief van Gregorius af.\n",
    "print(teksten_per_auteur[\"Gregorius\"][4])"
   ]
  },
  {
   "cell_type": "markdown",
   "metadata": {},
   "source": [
    "**Opdracht:** Vul onderstaande code aan zodat je de brieven kan lezen die Elisabeth naar haar moeder schreef."
   ]
  },
  {
   "cell_type": "code",
   "execution_count": 120,
   "metadata": {},
   "outputs": [],
   "source": [
    "#print(teksten_per_auteur[___][___])"
   ]
  },
  {
   "cell_type": "markdown",
   "metadata": {},
   "source": [
    "## Schrijfstijl\n",
    "\n",
    "Elke persoon heeft een eigen schrijfstijl. Door deze stijl te analyseren, kunnen we achterhalen welke teksten door een en dezelfde auteur geschreven zijn. Deze techniek kunnen we hier ook toepassen. Door de schrijfstijl van het testament te vergelijken met die van de begunstigden in het testament, kunnen we een verdachte voor de moord identificeren.\n",
    "\n",
    "Hier gebruiken we een eenvoudige techniek om de schrijfstijl van een auteur te bepalen. Dat doen we door te tellen hoe vaak de schrijver bepaalde eenvoudige woorden zoals de, het, u, jij, ... gebruikt in hun tekst. Het aantal keer dat elk van deze woorden voorkomt in een tekst van een auteur noemen we de vingerafdruk van deze auteur."
   ]
  },
  {
   "cell_type": "markdown",
   "metadata": {},
   "source": [
    "Om de vingerafdruk van een auteur te kunnen bepalen, moeten we de volgende stappen uitvoeren.\n",
    "\n",
    "* **Lowercasing**: Alle hoofdletters in de tekst worden vervangen door kleine letters. Lowercasing is nodig omdat we gaan tellen hoeveel keer elk woord voorkomt en we het woord met en zonder hoofdletter op dezelfde manier willen tellen.\n",
    "* **Tokenisering:**: Alle zinnen worden in betekenisvolle eenheden of 'tokens' gesplitst, zoals woorden en leestekens. Deze splitsing gebeurt op basis van de aanwezige spaties in de zinnen; daarom zullen de woorden van elkaar moeten gescheiden zijn door een spatie.\n",
    "* **Filteren**: Om een vingerafdruk van de tekst te maken, kijken we enkel naar het gebruik van veelvoorkomende woorden (bv. de, het, u, uw, je, jij, ...). Woorden die niet vaak voorkopen filteren we dus weg uit de tekst.\n",
    "* **Frequentie analyse**: Hier tellen we hoe vaak deze bepaalde woorden gebruikt. Zo krijgen we een vingerafdruk van de tekst die we kunnen vergelijken met die van andere teksten.\n",
    "* **Normaliseren**: Om ervoor te zorgen dat we teksten van verschillende lengte met elkaar kunnen vergelijken, normaliseren we de frequentie van elk woord."
   ]
  },
  {
   "cell_type": "markdown",
   "metadata": {},
   "source": [
    "## De vingerafdruk van het testament\n",
    "\n",
    "Eerst bepalen we de vingerafdruk van het testament. Deze vingerafdruk kunnen we dan later vergelijken met die van de teksten van de verschillende auteurs."
   ]
  },
  {
   "cell_type": "markdown",
   "metadata": {},
   "source": [
    "### Lowercasing\n",
    "\n",
    "Hier vervangen we in het testament hoofdletters door kleine letters."
   ]
  },
  {
   "cell_type": "code",
   "execution_count": 121,
   "metadata": {},
   "outputs": [
    {
     "name": "stdout",
     "output_type": "stream",
     "text": [
      "In naam van de Almachtige God, Amen.\n",
      "\n",
      "Ik, Heloisa, barones van het illustere huis Abaelardus, in het volledig bewustzijn van mijn vergankelijkheid, stel dit testament op om de wereldse bezittingen te verdelen naar mijn wil en geweten. Moge deze getuigenis de diepste van mijn intenties weerspiegelen, vastberaden en onveranderlijk.\n",
      "\n",
      "Als eerste daad van mijn nalatenschap verkondig ik dat de helft van mijn vergaarde goudschatten, opgebouwd door de jaren van toewijding, geschonken zal worden aan de heilige kerk, ter bevordering van haar goddelijke missie op aarde, zodat haar werk van mededogen en naastenliefde voort kan blijven bestaan.\n",
      "\n",
      "Voorts beslis ik dat mijn geliefde oudste zoon Hugo, wiens trouw aan het huis Abaelardus onwrikbaar is gebleken, rechtmatige erfgenaam zal zijn van ons eerbiedwaardige kasteel, waar hij de tradities van onze familie zal voortzetten en onze naam met eer zal dragen.\n",
      "\n",
      "Aan mijn dierbare dochter Elisabeth, de bron van mijn moederlijke trots, schenk ik het beheer over onze kostbare paardenstallen en onderliggende landerijen. Moge zij met dezelfde toewijding als ikzelf, deze erfenis koesteren en beschermen, en onze edele paardenfokkerij voortzetten.\n",
      "\n",
      "Evenzo wijs ik mijn geliefde jongste zoon Johannes aan als de beheerder van ons buitenverblijf in het Noorden, waar hij de verantwoordelijkheid zal dragen voor het behoud en de bescherming van ons erfgoed in die regio, ter ere van ons huis en onze naam.\n",
      "\n",
      "Wat betreft mijn overgebleven goudschatten, verklaar ik dat deze eerlijk verdeeld zullen worden onder al mijn kinderen, als een teken van mijn liefde en zorg voor hen allen.\n",
      "\n",
      "Ik bevestig dit testament met mijn handtekening en zegel, vastgelegd op de dag van (datum), in aanwezigheid van getuigen die gevraagd zijn om mijn laatste wil te bevestigen en mijn oprechte intenties te bekrachtigen.\n",
      "\n",
      "Getekend,\n",
      "\n",
      "Barones Heloisa Abaelardus\n",
      "in naam van de almachtige god, amen.\n",
      "\n",
      "ik, heloisa, barones van het illustere huis abaelardus, in het volledig bewustzijn van mijn vergankelijkheid, stel dit testament op om de wereldse bezittingen te verdelen naar mijn wil en geweten. moge deze getuigenis de diepste van mijn intenties weerspiegelen, vastberaden en onveranderlijk.\n",
      "\n",
      "als eerste daad van mijn nalatenschap verkondig ik dat de helft van mijn vergaarde goudschatten, opgebouwd door de jaren van toewijding, geschonken zal worden aan de heilige kerk, ter bevordering van haar goddelijke missie op aarde, zodat haar werk van mededogen en naastenliefde voort kan blijven bestaan.\n",
      "\n",
      "voorts beslis ik dat mijn geliefde oudste zoon hugo, wiens trouw aan het huis abaelardus onwrikbaar is gebleken, rechtmatige erfgenaam zal zijn van ons eerbiedwaardige kasteel, waar hij de tradities van onze familie zal voortzetten en onze naam met eer zal dragen.\n",
      "\n",
      "aan mijn dierbare dochter elisabeth, de bron van mijn moederlijke trots, schenk ik het beheer over onze kostbare paardenstallen en onderliggende landerijen. moge zij met dezelfde toewijding als ikzelf, deze erfenis koesteren en beschermen, en onze edele paardenfokkerij voortzetten.\n",
      "\n",
      "evenzo wijs ik mijn geliefde jongste zoon johannes aan als de beheerder van ons buitenverblijf in het noorden, waar hij de verantwoordelijkheid zal dragen voor het behoud en de bescherming van ons erfgoed in die regio, ter ere van ons huis en onze naam.\n",
      "\n",
      "wat betreft mijn overgebleven goudschatten, verklaar ik dat deze eerlijk verdeeld zullen worden onder al mijn kinderen, als een teken van mijn liefde en zorg voor hen allen.\n",
      "\n",
      "ik bevestig dit testament met mijn handtekening en zegel, vastgelegd op de dag van (datum), in aanwezigheid van getuigen die gevraagd zijn om mijn laatste wil te bevestigen en mijn oprechte intenties te bekrachtigen.\n",
      "\n",
      "getekend,\n",
      "\n",
      "barones heloisa abaelardus\n"
     ]
    }
   ],
   "source": [
    "print(testament)\n",
    "testament = testament.lower()\n",
    "print(testament)"
   ]
  },
  {
   "cell_type": "markdown",
   "metadata": {},
   "source": [
    "### Tokenizering\n",
    "\n",
    "Hier splitsen we de tekst op in afzonderlijke woorden. Daarvoor verwijderen we eerst de leestekens, daarna splisten we de tekst overal waar een spatie staat. Zo krijgen we een lijst van afzonderlijke woorden."
   ]
  },
  {
   "cell_type": "code",
   "execution_count": 122,
   "metadata": {},
   "outputs": [],
   "source": [
    "# Eerst verwijderen we de leestekens uit de tekst\n",
    "def verwijder_leestekens(tekst):\n",
    "    leestekens = string.punctuation\n",
    "    tekst_zonder_leestekens = \"\"\n",
    "    for karakter in tekst:\n",
    "        if karakter not in leestekens:\n",
    "            tekst_zonder_leestekens = tekst_zonder_leestekens + karakter\n",
    "            \n",
    "    return tekst_zonder_leestekens"
   ]
  },
  {
   "cell_type": "code",
   "execution_count": 123,
   "metadata": {},
   "outputs": [],
   "source": [
    "# Verwijder de leestekens en splits de tekst in woorden.\n",
    "testament = verwijder_leestekens(testament).split()"
   ]
  },
  {
   "cell_type": "code",
   "execution_count": 124,
   "metadata": {},
   "outputs": [
    {
     "name": "stdout",
     "output_type": "stream",
     "text": [
      "['in', 'naam', 'van', 'de', 'almachtige', 'god', 'amen', 'ik', 'heloisa', 'barones', 'van', 'het', 'illustere', 'huis', 'abaelardus', 'in', 'het', 'volledig', 'bewustzijn', 'van', 'mijn', 'vergankelijkheid', 'stel', 'dit', 'testament', 'op', 'om', 'de', 'wereldse', 'bezittingen', 'te', 'verdelen', 'naar', 'mijn', 'wil', 'en', 'geweten', 'moge', 'deze', 'getuigenis', 'de', 'diepste', 'van', 'mijn', 'intenties', 'weerspiegelen', 'vastberaden', 'en', 'onveranderlijk', 'als', 'eerste', 'daad', 'van', 'mijn', 'nalatenschap', 'verkondig', 'ik', 'dat', 'de', 'helft', 'van', 'mijn', 'vergaarde', 'goudschatten', 'opgebouwd', 'door', 'de', 'jaren', 'van', 'toewijding', 'geschonken', 'zal', 'worden', 'aan', 'de', 'heilige', 'kerk', 'ter', 'bevordering', 'van', 'haar', 'goddelijke', 'missie', 'op', 'aarde', 'zodat', 'haar', 'werk', 'van', 'mededogen', 'en', 'naastenliefde', 'voort', 'kan', 'blijven', 'bestaan', 'voorts', 'beslis', 'ik', 'dat', 'mijn', 'geliefde', 'oudste', 'zoon', 'hugo', 'wiens', 'trouw', 'aan', 'het', 'huis', 'abaelardus', 'onwrikbaar', 'is', 'gebleken', 'rechtmatige', 'erfgenaam', 'zal', 'zijn', 'van', 'ons', 'eerbiedwaardige', 'kasteel', 'waar', 'hij', 'de', 'tradities', 'van', 'onze', 'familie', 'zal', 'voortzetten', 'en', 'onze', 'naam', 'met', 'eer', 'zal', 'dragen', 'aan', 'mijn', 'dierbare', 'dochter', 'elisabeth', 'de', 'bron', 'van', 'mijn', 'moederlijke', 'trots', 'schenk', 'ik', 'het', 'beheer', 'over', 'onze', 'kostbare', 'paardenstallen', 'en', 'onderliggende', 'landerijen', 'moge', 'zij', 'met', 'dezelfde', 'toewijding', 'als', 'ikzelf', 'deze', 'erfenis', 'koesteren', 'en', 'beschermen', 'en', 'onze', 'edele', 'paardenfokkerij', 'voortzetten', 'evenzo', 'wijs', 'ik', 'mijn', 'geliefde', 'jongste', 'zoon', 'johannes', 'aan', 'als', 'de', 'beheerder', 'van', 'ons', 'buitenverblijf', 'in', 'het', 'noorden', 'waar', 'hij', 'de', 'verantwoordelijkheid', 'zal', 'dragen', 'voor', 'het', 'behoud', 'en', 'de', 'bescherming', 'van', 'ons', 'erfgoed', 'in', 'die', 'regio', 'ter', 'ere', 'van', 'ons', 'huis', 'en', 'onze', 'naam', 'wat', 'betreft', 'mijn', 'overgebleven', 'goudschatten', 'verklaar', 'ik', 'dat', 'deze', 'eerlijk', 'verdeeld', 'zullen', 'worden', 'onder', 'al', 'mijn', 'kinderen', 'als', 'een', 'teken', 'van', 'mijn', 'liefde', 'en', 'zorg', 'voor', 'hen', 'allen', 'ik', 'bevestig', 'dit', 'testament', 'met', 'mijn', 'handtekening', 'en', 'zegel', 'vastgelegd', 'op', 'de', 'dag', 'van', 'datum', 'in', 'aanwezigheid', 'van', 'getuigen', 'die', 'gevraagd', 'zijn', 'om', 'mijn', 'laatste', 'wil', 'te', 'bevestigen', 'en', 'mijn', 'oprechte', 'intenties', 'te', 'bekrachtigen', 'getekend', 'barones', 'heloisa', 'abaelardus']\n"
     ]
    }
   ],
   "source": [
    "print(testament)"
   ]
  },
  {
   "cell_type": "markdown",
   "metadata": {},
   "source": [
    "### Filteren\n",
    "\n",
    "Om een fingerafdruk van een tekst te maken, gebruiken we enkel een vaste verzameling van veelvoorkomende woorden. In de volgende codecel, filteren we elke tekst en houden we enkel de woorden over die nuttig zijn voor de vingerafdruk."
   ]
  },
  {
   "cell_type": "code",
   "execution_count": 125,
   "metadata": {},
   "outputs": [],
   "source": [
    "# Dit is de lijst met woorden die we gaan tellen.\n",
    "vingerafdruk_woorden = [\"de\", \"het\", \"een\", \"en\", \"in\", \"op\", \"van\", \"voor\", \"achter\", \"onder\", \"boven\", \"tussen\", \"tegen\", \"met\", \"zonder\", \"bij\", \"door\", \"naar\", \"uit\", \"over\", \"langs\", \"rond\", \"om\", \"naast\", \"binnen\", \"buiten\", \"ik\", \"jij\", \"u\", \"wij\", \"jullie\", \"zij\", \"mijn\", \"jouw\", \"uw\", \"zijn\", \"haar\", \"onze\", \"hun\", \"die\", \"dat\", \"wie\", \"wat\", \"welke\", \"men\"]\n",
    "\n",
    "# Maak een nieuwe lijst met enkel de woorden die in de vingerafdruk kunnen voorkomen.\n",
    "testament = [woord for woord in testament if woord in vingerafdruk_woorden]"
   ]
  },
  {
   "cell_type": "code",
   "execution_count": 126,
   "metadata": {},
   "outputs": [
    {
     "name": "stdout",
     "output_type": "stream",
     "text": [
      "['in', 'van', 'de', 'ik', 'van', 'het', 'in', 'het', 'van', 'mijn', 'op', 'om', 'de', 'naar', 'mijn', 'en', 'de', 'van', 'mijn', 'en', 'van', 'mijn', 'ik', 'dat', 'de', 'van', 'mijn', 'door', 'de', 'van', 'de', 'van', 'haar', 'op', 'haar', 'van', 'en', 'ik', 'dat', 'mijn', 'het', 'zijn', 'van', 'de', 'van', 'onze', 'en', 'onze', 'met', 'mijn', 'de', 'van', 'mijn', 'ik', 'het', 'over', 'onze', 'en', 'zij', 'met', 'en', 'en', 'onze', 'ik', 'mijn', 'de', 'van', 'in', 'het', 'de', 'voor', 'het', 'en', 'de', 'van', 'in', 'die', 'van', 'en', 'onze', 'wat', 'mijn', 'ik', 'dat', 'onder', 'mijn', 'een', 'van', 'mijn', 'en', 'voor', 'ik', 'met', 'mijn', 'en', 'op', 'de', 'van', 'in', 'van', 'die', 'zijn', 'om', 'mijn', 'en', 'mijn']\n"
     ]
    }
   ],
   "source": [
    "print(testament)"
   ]
  },
  {
   "cell_type": "markdown",
   "metadata": {},
   "source": [
    "### Frequentie analyse\n",
    "\n",
    "Nu we enkel nog woorden over hebben die van belang zijn voor onze vingerafdruk, tellen we hoe vaak elk van deze woorden voorkomt in de tekst."
   ]
  },
  {
   "cell_type": "code",
   "execution_count": 127,
   "metadata": {},
   "outputs": [],
   "source": [
    "# Bereken de frequentie van elk woord in het testament.\n",
    "frequentie_testament = {}\n",
    "for woord in vingerafdruk_woorden:\n",
    "    frequentie_testament[woord] = testament.count(woord)"
   ]
  },
  {
   "cell_type": "code",
   "execution_count": 128,
   "metadata": {},
   "outputs": [
    {
     "name": "stdout",
     "output_type": "stream",
     "text": [
      "{'de': 12, 'het': 6, 'een': 1, 'en': 12, 'in': 5, 'op': 3, 'van': 18, 'voor': 2, 'achter': 0, 'onder': 1, 'boven': 0, 'tussen': 0, 'tegen': 0, 'met': 3, 'zonder': 0, 'bij': 0, 'door': 1, 'naar': 1, 'uit': 0, 'over': 1, 'langs': 0, 'rond': 0, 'om': 2, 'naast': 0, 'binnen': 0, 'buiten': 0, 'ik': 7, 'jij': 0, 'u': 0, 'wij': 0, 'jullie': 0, 'zij': 1, 'mijn': 15, 'jouw': 0, 'uw': 0, 'zijn': 2, 'haar': 2, 'onze': 5, 'hun': 0, 'die': 2, 'dat': 3, 'wie': 0, 'wat': 1, 'welke': 0, 'men': 0}\n"
     ]
    }
   ],
   "source": [
    "print(frequentie_testament)"
   ]
  },
  {
   "cell_type": "markdown",
   "metadata": {},
   "source": [
    "### Normaliseren\n",
    "\n",
    "Omdat het aantal woorden dat we tellen afhankelijk is van de lengte van de tekst is het moeilijk om teksten van verschillende lengte te vergelijken. Om toch teksten van verschillende lengte te kunnen vergelijken, kunnen we de frequentie van elk woord normaliseren. Normalisatie is een stap die heel vaak gebruikt wordt in AI systemen en nodig is om inputs op een gelijkaardig \"niveau\" te brengen. Hier normaliseren we het aantal voorkomens van een woord door het te delen door het totaal aantal woorden dat we geteld hebben."
   ]
  },
  {
   "cell_type": "code",
   "execution_count": 129,
   "metadata": {},
   "outputs": [],
   "source": [
    "# Deze functie normaliseert de frequentie van elk woord in een tekst.\n",
    "def normaliseer(frequentie):\n",
    "    som = sum(frequentie.values())\n",
    "    for woord in frequentie:\n",
    "        if som > 0:\n",
    "            frequentie[woord] = frequentie[woord] / som\n",
    "        else:\n",
    "            frequentie[woord] = 0\n",
    "    return frequentie"
   ]
  },
  {
   "cell_type": "code",
   "execution_count": 130,
   "metadata": {},
   "outputs": [],
   "source": [
    "frequentie_testament = normaliseer(frequentie_testament)"
   ]
  },
  {
   "cell_type": "code",
   "execution_count": 131,
   "metadata": {},
   "outputs": [
    {
     "name": "stdout",
     "output_type": "stream",
     "text": [
      "{'de': 0.11320754716981132, 'het': 0.05660377358490566, 'een': 0.009433962264150943, 'en': 0.11320754716981132, 'in': 0.04716981132075472, 'op': 0.02830188679245283, 'van': 0.16981132075471697, 'voor': 0.018867924528301886, 'achter': 0.0, 'onder': 0.009433962264150943, 'boven': 0.0, 'tussen': 0.0, 'tegen': 0.0, 'met': 0.02830188679245283, 'zonder': 0.0, 'bij': 0.0, 'door': 0.009433962264150943, 'naar': 0.009433962264150943, 'uit': 0.0, 'over': 0.009433962264150943, 'langs': 0.0, 'rond': 0.0, 'om': 0.018867924528301886, 'naast': 0.0, 'binnen': 0.0, 'buiten': 0.0, 'ik': 0.0660377358490566, 'jij': 0.0, 'u': 0.0, 'wij': 0.0, 'jullie': 0.0, 'zij': 0.009433962264150943, 'mijn': 0.14150943396226415, 'jouw': 0.0, 'uw': 0.0, 'zijn': 0.018867924528301886, 'haar': 0.018867924528301886, 'onze': 0.04716981132075472, 'hun': 0.0, 'die': 0.018867924528301886, 'dat': 0.02830188679245283, 'wie': 0.0, 'wat': 0.009433962264150943, 'welke': 0.0, 'men': 0.0}\n"
     ]
    }
   ],
   "source": [
    "print(frequentie_testament)"
   ]
  },
  {
   "cell_type": "markdown",
   "metadata": {},
   "source": [
    "We kunnen deze frequenties ook weergeven in een grafiek. Zo krijgen we een visuele weergave van onze vingerafdruk."
   ]
  },
  {
   "cell_type": "code",
   "execution_count": 132,
   "metadata": {},
   "outputs": [
    {
     "data": {
      "image/png": "[encoded data removed]",
      "text/plain": [
       "<Figure size 2000x1000 with 1 Axes>"
      ]
     },
     "metadata": {},
     "output_type": "display_data"
    }
   ],
   "source": [
    "# Maak voor elke auteur en voor het testament een histogram van de frequenties van de woorden.\n",
    "x = np.arange(len(vingerafdruk_woorden))\n",
    "breedte = 1\n",
    "\n",
    "fig, ax = plt.subplots(figsize=(20, 10))\n",
    "rects_testament = ax.bar(x - breedte/2, list(frequentie_testament.values()), breedte, label='Testament')\n",
    "ax.set_xticks(x)\n",
    "ax.set_xticklabels(vingerafdruk_woorden, rotation=45, ha=\"right\")\n",
    "ax.legend()\n",
    "plt.show()"
   ]
  },
  {
   "cell_type": "markdown",
   "metadata": {},
   "source": [
    "## Toepassen op de brieven\n",
    "\n",
    "We hebben nu alle stappen doorlopen om een vingerafdruk van onze tekst te maken. Deze zelfde stappen kunnen we nu toepassen op de brieven van de kenissen van Heloise. Om dat op een ovezichtelijke manier te doen, schrijven we een functie die de vingerafdruk van een stuk tekst kan bepalen."
   ]
  },
  {
   "cell_type": "code",
   "execution_count": 133,
   "metadata": {},
   "outputs": [],
   "source": [
    "def zet_tekst_om_naar_vingerafdruk(tekst):\n",
    "    tekst = tekst.lower() # Lowercasing\n",
    "    tekst = verwijder_leestekens(tekst).split() # Verwijder leestekens en splits in woorden\n",
    "    tekst = [woord for woord in tekst if woord in vingerafdruk_woorden] # Enkel de woorden die in de vingerafdruk kunnen voorkomen\n",
    "    # Bereken de frequentie van elk woord in de tekst\n",
    "    frequentie = {}\n",
    "    for woord in vingerafdruk_woorden:\n",
    "        frequentie[woord] = tekst.count(woord)\n",
    "    frequentie = normaliseer(frequentie) # Normaliseer de frequentie\n",
    "    return frequentie"
   ]
  },
  {
   "cell_type": "markdown",
   "metadata": {},
   "source": [
    "We maken ook een functie die de vingerafdruk kan visualiseren."
   ]
  },
  {
   "cell_type": "code",
   "execution_count": 134,
   "metadata": {},
   "outputs": [],
   "source": [
    "def visualiseer_vingerafdruk(frequentie, titel):\n",
    "    x = np.arange(len(vingerafdruk_woorden))\n",
    "    breedte = 1\n",
    "\n",
    "    fig, ax = plt.subplots(figsize=(20, 10))\n",
    "    rects = ax.bar(x - breedte/2, list(frequentie.values()), breedte, label=titel)\n",
    "    ax.set_xticks(x)\n",
    "    ax.set_xticklabels(vingerafdruk_woorden, rotation=45, ha=\"right\")\n",
    "    ax.legend()\n",
    "    ax.title.set_text(titel)\n",
    "    plt.show()"
   ]
  },
  {
   "cell_type": "markdown",
   "metadata": {},
   "source": [
    "Hieronder zetten we de eerste brief van Elisabet om naar een vingerafdruk en tonen die op het scherm."
   ]
  },
  {
   "cell_type": "code",
   "execution_count": 135,
   "metadata": {},
   "outputs": [
    {
     "name": "stdout",
     "output_type": "stream",
     "text": [
      "{'de': 0.11864406779661017, 'het': 0.06779661016949153, 'een': 0.03389830508474576, 'en': 0.11864406779661017, 'in': 0.01694915254237288, 'op': 0.01694915254237288, 'van': 0.13559322033898305, 'voor': 0.05084745762711865, 'achter': 0.0, 'onder': 0.0, 'boven': 0.0, 'tussen': 0.0, 'tegen': 0.0, 'met': 0.05084745762711865, 'zonder': 0.0, 'bij': 0.0, 'door': 0.0, 'naar': 0.01694915254237288, 'uit': 0.01694915254237288, 'over': 0.01694915254237288, 'langs': 0.0, 'rond': 0.0, 'om': 0.0, 'naast': 0.0, 'binnen': 0.01694915254237288, 'buiten': 0.01694915254237288, 'ik': 0.03389830508474576, 'jij': 0.0, 'u': 0.03389830508474576, 'wij': 0.0, 'jullie': 0.0, 'zij': 0.0, 'mijn': 0.0, 'jouw': 0.0, 'uw': 0.03389830508474576, 'zijn': 0.01694915254237288, 'haar': 0.0, 'onze': 0.15254237288135594, 'hun': 0.01694915254237288, 'die': 0.0, 'dat': 0.01694915254237288, 'wie': 0.0, 'wat': 0.0, 'welke': 0.0, 'men': 0.0}\n"
     ]
    },
    {
     "data": {
      "image/png": "[encoded data removed]",
      "text/plain": [
       "<Figure size 2000x1000 with 1 Axes>"
      ]
     },
     "metadata": {},
     "output_type": "display_data"
    }
   ],
   "source": [
    "vingerafdruk = zet_tekst_om_naar_vingerafdruk(teksten_per_auteur[\"Elisabeth\"][0])\n",
    "print(vingerafdruk)\n",
    "visualiseer_vingerafdruk(vingerafdruk, \"Elisabeth 0\")"
   ]
  },
  {
   "cell_type": "code",
   "execution_count": 136,
   "metadata": {},
   "outputs": [
    {
     "name": "stdout",
     "output_type": "stream",
     "text": [
      "{'de': 0.1111111111111111, 'het': 0.09259259259259259, 'een': 0.018518518518518517, 'en': 0.14814814814814814, 'in': 0.018518518518518517, 'op': 0.0, 'van': 0.18518518518518517, 'voor': 0.0, 'achter': 0.018518518518518517, 'onder': 0.018518518518518517, 'boven': 0.0, 'tussen': 0.0, 'tegen': 0.0, 'met': 0.05555555555555555, 'zonder': 0.0, 'bij': 0.0, 'door': 0.018518518518518517, 'naar': 0.0, 'uit': 0.018518518518518517, 'over': 0.018518518518518517, 'langs': 0.0, 'rond': 0.0, 'om': 0.018518518518518517, 'naast': 0.0, 'binnen': 0.0, 'buiten': 0.0, 'ik': 0.05555555555555555, 'jij': 0.0, 'u': 0.018518518518518517, 'wij': 0.0, 'jullie': 0.0, 'zij': 0.0, 'mijn': 0.09259259259259259, 'jouw': 0.0, 'uw': 0.018518518518518517, 'zijn': 0.018518518518518517, 'haar': 0.0, 'onze': 0.018518518518518517, 'hun': 0.0, 'die': 0.037037037037037035, 'dat': 0.0, 'wie': 0.0, 'wat': 0.0, 'welke': 0.0, 'men': 0.0}\n",
      "{'de': 0.11320754716981132, 'het': 0.05660377358490566, 'een': 0.009433962264150943, 'en': 0.11320754716981132, 'in': 0.04716981132075472, 'op': 0.02830188679245283, 'van': 0.16981132075471697, 'voor': 0.018867924528301886, 'achter': 0.0, 'onder': 0.009433962264150943, 'boven': 0.0, 'tussen': 0.0, 'tegen': 0.0, 'met': 0.02830188679245283, 'zonder': 0.0, 'bij': 0.0, 'door': 0.009433962264150943, 'naar': 0.009433962264150943, 'uit': 0.0, 'over': 0.009433962264150943, 'langs': 0.0, 'rond': 0.0, 'om': 0.018867924528301886, 'naast': 0.0, 'binnen': 0.0, 'buiten': 0.0, 'ik': 0.0660377358490566, 'jij': 0.0, 'u': 0.0, 'wij': 0.0, 'jullie': 0.0, 'zij': 0.009433962264150943, 'mijn': 0.14150943396226415, 'jouw': 0.0, 'uw': 0.0, 'zijn': 0.018867924528301886, 'haar': 0.018867924528301886, 'onze': 0.04716981132075472, 'hun': 0.0, 'die': 0.018867924528301886, 'dat': 0.02830188679245283, 'wie': 0.0, 'wat': 0.009433962264150943, 'welke': 0.0, 'men': 0.0}\n"
     ]
    }
   ],
   "source": [
    "vingerafdruk = zet_tekst_om_naar_vingerafdruk(teksten_per_auteur[\"Elisabeth\"][2])\n",
    "print(vingerafdruk)\n",
    "print(frequentie_testament)"
   ]
  },
  {
   "cell_type": "markdown",
   "metadata": {},
   "source": [
    "**Opdracht:** Pas onderstaande code aan en bekijk zo de vingerafdrukken van de volgende brieven:\n",
    "* De tweede brief van Hugo.\n",
    "* De derde brief van Johannes.\n",
    "* De vijfde brief van Gregorius."
   ]
  },
  {
   "cell_type": "code",
   "execution_count": 137,
   "metadata": {},
   "outputs": [],
   "source": [
    "#vingerafdruk = zet_tekst_om_naar_vingerafdruk(teksten_per_auteur[___][___])\n",
    "#print(vingerafdruk)\n",
    "#visualiseer_vingerafdruk(vingerafdruk, ___)"
   ]
  },
  {
   "cell_type": "markdown",
   "metadata": {},
   "source": [
    "## Afstand bepalen\n",
    "\n",
    "Om te achterhalen welke auteur een stijl heeft die overeenkomt met de stijl in het testament, vergelijken we de vingerafdruk van elke brief met deze van het testament. Dien doen we door de euclidische afstand te berekenen tussen de vingerafdruk van de brief en deze van het testament."
   ]
  },
  {
   "cell_type": "markdown",
   "metadata": {},
   "source": [
    "Om de afstand te kunnen bepalen, moeten we eerst elke brief omzetten naar een vingerafdruk. Dat kan je doen met onderstaande code."
   ]
  },
  {
   "cell_type": "code",
   "execution_count": 138,
   "metadata": {},
   "outputs": [],
   "source": [
    "# Hier overlopen we alle teksten per auteur en zetten we die om naar vingerafdrukken.\n",
    "vingerafdrukken = {}\n",
    "for auteur in teksten_per_auteur:\n",
    "    vingerafdrukken[auteur] = []\n",
    "    for i, tekst in enumerate(teksten_per_auteur[auteur]):\n",
    "        vingerafdrukken[auteur].append(zet_tekst_om_naar_vingerafdruk(tekst))"
   ]
  },
  {
   "cell_type": "markdown",
   "metadata": {},
   "source": [
    "Nu kunnen we de afstand berekenen tussen de vingerafdruk van elke brief en die van het testament."
   ]
  },
  {
   "cell_type": "code",
   "execution_count": 139,
   "metadata": {},
   "outputs": [],
   "source": [
    "# Bereken de afstand tussen elke vingerafdruk en het testament.\n",
    "afstanden = {}\n",
    "for auteur in vingerafdrukken:\n",
    "    afstanden[auteur] = []\n",
    "    for vingerafdruk in vingerafdrukken[auteur]:\n",
    "        afstand = 0\n",
    "        for woord in vingerafdruk:\n",
    "            afstand += abs(vingerafdruk[woord] - frequentie_testament[woord])\n",
    "        afstanden[auteur].append(afstand)"
   ]
  },
  {
   "cell_type": "code",
   "execution_count": 140,
   "metadata": {},
   "outputs": [
    {
     "name": "stdout",
     "output_type": "stream",
     "text": [
      "Elisabeth [0.7141029740965783, 0.7970071567989591, 0.4842767295597485, 0.6121593291404611, 0.7111756168359941]\n",
      "Gregorius [0.8937884248463006, 0.7450636243966651, 0.862533692722372, 0.8328461334041988, 0.8397518738692169]\n",
      "Heloise [0.8877855014895729, 0.9063109954456733, 1.0377358490566038, 0.85062893081761, 0.9193095142513047]\n",
      "Hugo [0.9255213505461765, 0.929919137466307, 0.9141509433962265, 0.9908519153802171, 0.8763102725366876]\n",
      "Johannes [1.0719613865730586, 1.1963284038755737, 1.270237370663421, 1.22533692722372, 0.9850811759543661]\n"
     ]
    }
   ],
   "source": [
    "# Druk de afstanden af.\n",
    "for auteur in afstanden:\n",
    "    print(auteur, afstanden[auteur])"
   ]
  },
  {
   "cell_type": "markdown",
   "metadata": {},
   "source": [
    "**Opdracht:**: Kan jij uit bovenstaande uitvoer aflezen welke auteur een stijl heeft die het dichtste ligt bij de stijl van het testament?"
   ]
  },
  {
   "cell_type": "markdown",
   "metadata": {},
   "source": [
    "## Clusteren\n",
    "\n",
    "Op basis van de afstanden kan het moeilijk zijn om te zien hoe ver de teksten van elke auteur van elkaar liggen. Om te zien welke teksten bij elkaar horen en welke niet, kan je clustering technieken gebruiken. Deze technieken zoeken structuren in data. Concreet groepeert deze techniek de elementen in de dataset die dicht bij elkaar liggen. Hieronder gebruiken we de K-means clusteringtechniek. Bij deze techniek moeten we vooraf opgeven hoeveel groepen we verwachten. Omdat we hier teksten van vijf auteurs hebben, kiezen we hier voor vijf groepen."
   ]
  },
  {
   "cell_type": "markdown",
   "metadata": {},
   "source": [
    "Om de gegevens te kunnen clusteren, moeten we deze omzetten naar een correct formaat. Onderstaande cel voegt de vingerafdruk van het testament en van de verschillende auteurs samen in een matrix. Daarnaast slaan we ook de namen van de auteurs op in een lijst. Deze lijst kunnen we gebruiken om te controleren hoe goed onze clustering is."
   ]
  },
  {
   "cell_type": "code",
   "execution_count": 141,
   "metadata": {},
   "outputs": [],
   "source": [
    "frequenties = []\n",
    "labels = []\n",
    "frequenties.append(list(frequentie_testament.values()))\n",
    "labels.append(\"Testament\")\n",
    "for auteur in vingerafdrukken:\n",
    "    for frequentie in vingerafdrukken[auteur]:\n",
    "        frequenties.append(list(frequentie.values()))\n",
    "        labels.append(auteur)"
   ]
  },
  {
   "cell_type": "markdown",
   "metadata": {},
   "source": [
    "De onderstaande cel zal onze data clusteren in vijf groepen."
   ]
  },
  {
   "cell_type": "code",
   "execution_count": 142,
   "metadata": {},
   "outputs": [
    {
     "data": {
      "text/html": [
       "<style>#sk-container-id-6 {\n",
       "  /* Definition of color scheme common for light and dark mode */\n",
       "  --sklearn-color-text: black;\n",
       "  --sklearn-color-line: gray;\n",
       "  /* Definition of color scheme for unfitted estimators */\n",
       "  --sklearn-color-unfitted-level-0: #fff5e6;\n",
       "  --sklearn-color-unfitted-level-1: #f6e4d2;\n",
       "  --sklearn-color-unfitted-level-2: #ffe0b3;\n",
       "  --sklearn-color-unfitted-level-3: chocolate;\n",
       "  /* Definition of color scheme for fitted estimators */\n",
       "  --sklearn-color-fitted-level-0: #f0f8ff;\n",
       "  --sklearn-color-fitted-level-1: #d4ebff;\n",
       "  --sklearn-color-fitted-level-2: #b3dbfd;\n",
       "  --sklearn-color-fitted-level-3: cornflowerblue;\n",
       "\n",
       "  /* Specific color for light theme */\n",
       "  --sklearn-color-text-on-default-background: var(--sg-text-color, var(--theme-code-foreground, var(--jp-content-font-color1, black)));\n",
       "  --sklearn-color-background: var(--sg-background-color, var(--theme-background, var(--jp-layout-color0, white)));\n",
       "  --sklearn-color-border-box: var(--sg-text-color, var(--theme-code-foreground, var(--jp-content-font-color1, black)));\n",
       "  --sklearn-color-icon: #696969;\n",
       "\n",
       "  @media (prefers-color-scheme: dark) {\n",
       "    /* Redefinition of color scheme for dark theme */\n",
       "    --sklearn-color-text-on-default-background: var(--sg-text-color, var(--theme-code-foreground, var(--jp-content-font-color1, white)));\n",
       "    --sklearn-color-background: var(--sg-background-color, var(--theme-background, var(--jp-layout-color0, #111)));\n",
       "    --sklearn-color-border-box: var(--sg-text-color, var(--theme-code-foreground, var(--jp-content-font-color1, white)));\n",
       "    --sklearn-color-icon: #878787;\n",
       "  }\n",
       "}\n",
       "\n",
       "#sk-container-id-6 {\n",
       "  color: var(--sklearn-color-text);\n",
       "}\n",
       "\n",
       "#sk-container-id-6 pre {\n",
       "  padding: 0;\n",
       "}\n",
       "\n",
       "#sk-container-id-6 input.sk-hidden--visually {\n",
       "  border: 0;\n",
       "  clip: rect(1px 1px 1px 1px);\n",
       "  clip: rect(1px, 1px, 1px, 1px);\n",
       "  height: 1px;\n",
       "  margin: -1px;\n",
       "  overflow: hidden;\n",
       "  padding: 0;\n",
       "  position: absolute;\n",
       "  width: 1px;\n",
       "}\n",
       "\n",
       "#sk-container-id-6 div.sk-dashed-wrapped {\n",
       "  border: 1px dashed var(--sklearn-color-line);\n",
       "  margin: 0 0.4em 0.5em 0.4em;\n",
       "  box-sizing: border-box;\n",
       "  padding-bottom: 0.4em;\n",
       "  background-color: var(--sklearn-color-background);\n",
       "}\n",
       "\n",
       "#sk-container-id-6 div.sk-container {\n",
       "  /* jupyter's `normalize.less` sets `[hidden] { display: none; }`\n",
       "     but bootstrap.min.css set `[hidden] { display: none !important; }`\n",
       "     so we also need the `!important` here to be able to override the\n",
       "     default hidden behavior on the sphinx rendered scikit-learn.org.\n",
       "     See: https://github.com/scikit-learn/scikit-learn/issues/21755 */\n",
       "  display: inline-block !important;\n",
       "  position: relative;\n",
       "}\n",
       "\n",
       "#sk-container-id-6 div.sk-text-repr-fallback {\n",
       "  display: none;\n",
       "}\n",
       "\n",
       "div.sk-parallel-item,\n",
       "div.sk-serial,\n",
       "div.sk-item {\n",
       "  /* draw centered vertical line to link estimators */\n",
       "  background-image: linear-gradient(var(--sklearn-color-text-on-default-background), var(--sklearn-color-text-on-default-background));\n",
       "  background-size: 2px 100%;\n",
       "  background-repeat: no-repeat;\n",
       "  background-position: center center;\n",
       "}\n",
       "\n",
       "/* Parallel-specific style estimator block */\n",
       "\n",
       "#sk-container-id-6 div.sk-parallel-item::after {\n",
       "  content: \"\";\n",
       "  width: 100%;\n",
       "  border-bottom: 2px solid var(--sklearn-color-text-on-default-background);\n",
       "  flex-grow: 1;\n",
       "}\n",
       "\n",
       "#sk-container-id-6 div.sk-parallel {\n",
       "  display: flex;\n",
       "  align-items: stretch;\n",
       "  justify-content: center;\n",
       "  background-color: var(--sklearn-color-background);\n",
       "  position: relative;\n",
       "}\n",
       "\n",
       "#sk-container-id-6 div.sk-parallel-item {\n",
       "  display: flex;\n",
       "  flex-direction: column;\n",
       "}\n",
       "\n",
       "#sk-container-id-6 div.sk-parallel-item:first-child::after {\n",
       "  align-self: flex-end;\n",
       "  width: 50%;\n",
       "}\n",
       "\n",
       "#sk-container-id-6 div.sk-parallel-item:last-child::after {\n",
       "  align-self: flex-start;\n",
       "  width: 50%;\n",
       "}\n",
       "\n",
       "#sk-container-id-6 div.sk-parallel-item:only-child::after {\n",
       "  width: 0;\n",
       "}\n",
       "\n",
       "/* Serial-specific style estimator block */\n",
       "\n",
       "#sk-container-id-6 div.sk-serial {\n",
       "  display: flex;\n",
       "  flex-direction: column;\n",
       "  align-items: center;\n",
       "  background-color: var(--sklearn-color-background);\n",
       "  padding-right: 1em;\n",
       "  padding-left: 1em;\n",
       "}\n",
       "\n",
       "\n",
       "/* Toggleable style: style used for estimator/Pipeline/ColumnTransformer box that is\n",
       "clickable and can be expanded/collapsed.\n",
       "- Pipeline and ColumnTransformer use this feature and define the default style\n",
       "- Estimators will overwrite some part of the style using the `sk-estimator` class\n",
       "*/\n",
       "\n",
       "/* Pipeline and ColumnTransformer style (default) */\n",
       "\n",
       "#sk-container-id-6 div.sk-toggleable {\n",
       "  /* Default theme specific background. It is overwritten whether we have a\n",
       "  specific estimator or a Pipeline/ColumnTransformer */\n",
       "  background-color: var(--sklearn-color-background);\n",
       "}\n",
       "\n",
       "/* Toggleable label */\n",
       "#sk-container-id-6 label.sk-toggleable__label {\n",
       "  cursor: pointer;\n",
       "  display: block;\n",
       "  width: 100%;\n",
       "  margin-bottom: 0;\n",
       "  padding: 0.5em;\n",
       "  box-sizing: border-box;\n",
       "  text-align: center;\n",
       "}\n",
       "\n",
       "#sk-container-id-6 label.sk-toggleable__label-arrow:before {\n",
       "  /* Arrow on the left of the label */\n",
       "  content: \"▸\";\n",
       "  float: left;\n",
       "  margin-right: 0.25em;\n",
       "  color: var(--sklearn-color-icon);\n",
       "}\n",
       "\n",
       "#sk-container-id-6 label.sk-toggleable__label-arrow:hover:before {\n",
       "  color: var(--sklearn-color-text);\n",
       "}\n",
       "\n",
       "/* Toggleable content - dropdown */\n",
       "\n",
       "#sk-container-id-6 div.sk-toggleable__content {\n",
       "  max-height: 0;\n",
       "  max-width: 0;\n",
       "  overflow: hidden;\n",
       "  text-align: left;\n",
       "  /* unfitted */\n",
       "  background-color: var(--sklearn-color-unfitted-level-0);\n",
       "}\n",
       "\n",
       "#sk-container-id-6 div.sk-toggleable__content.fitted {\n",
       "  /* fitted */\n",
       "  background-color: var(--sklearn-color-fitted-level-0);\n",
       "}\n",
       "\n",
       "#sk-container-id-6 div.sk-toggleable__content pre {\n",
       "  margin: 0.2em;\n",
       "  border-radius: 0.25em;\n",
       "  color: var(--sklearn-color-text);\n",
       "  /* unfitted */\n",
       "  background-color: var(--sklearn-color-unfitted-level-0);\n",
       "}\n",
       "\n",
       "#sk-container-id-6 div.sk-toggleable__content.fitted pre {\n",
       "  /* unfitted */\n",
       "  background-color: var(--sklearn-color-fitted-level-0);\n",
       "}\n",
       "\n",
       "#sk-container-id-6 input.sk-toggleable__control:checked~div.sk-toggleable__content {\n",
       "  /* Expand drop-down */\n",
       "  max-height: 200px;\n",
       "  max-width: 100%;\n",
       "  overflow: auto;\n",
       "}\n",
       "\n",
       "#sk-container-id-6 input.sk-toggleable__control:checked~label.sk-toggleable__label-arrow:before {\n",
       "  content: \"▾\";\n",
       "}\n",
       "\n",
       "/* Pipeline/ColumnTransformer-specific style */\n",
       "\n",
       "#sk-container-id-6 div.sk-label input.sk-toggleable__control:checked~label.sk-toggleable__label {\n",
       "  color: var(--sklearn-color-text);\n",
       "  background-color: var(--sklearn-color-unfitted-level-2);\n",
       "}\n",
       "\n",
       "#sk-container-id-6 div.sk-label.fitted input.sk-toggleable__control:checked~label.sk-toggleable__label {\n",
       "  background-color: var(--sklearn-color-fitted-level-2);\n",
       "}\n",
       "\n",
       "/* Estimator-specific style */\n",
       "\n",
       "/* Colorize estimator box */\n",
       "#sk-container-id-6 div.sk-estimator input.sk-toggleable__control:checked~label.sk-toggleable__label {\n",
       "  /* unfitted */\n",
       "  background-color: var(--sklearn-color-unfitted-level-2);\n",
       "}\n",
       "\n",
       "#sk-container-id-6 div.sk-estimator.fitted input.sk-toggleable__control:checked~label.sk-toggleable__label {\n",
       "  /* fitted */\n",
       "  background-color: var(--sklearn-color-fitted-level-2);\n",
       "}\n",
       "\n",
       "#sk-container-id-6 div.sk-label label.sk-toggleable__label,\n",
       "#sk-container-id-6 div.sk-label label {\n",
       "  /* The background is the default theme color */\n",
       "  color: var(--sklearn-color-text-on-default-background);\n",
       "}\n",
       "\n",
       "/* On hover, darken the color of the background */\n",
       "#sk-container-id-6 div.sk-label:hover label.sk-toggleable__label {\n",
       "  color: var(--sklearn-color-text);\n",
       "  background-color: var(--sklearn-color-unfitted-level-2);\n",
       "}\n",
       "\n",
       "/* Label box, darken color on hover, fitted */\n",
       "#sk-container-id-6 div.sk-label.fitted:hover label.sk-toggleable__label.fitted {\n",
       "  color: var(--sklearn-color-text);\n",
       "  background-color: var(--sklearn-color-fitted-level-2);\n",
       "}\n",
       "\n",
       "/* Estimator label */\n",
       "\n",
       "#sk-container-id-6 div.sk-label label {\n",
       "  font-family: monospace;\n",
       "  font-weight: bold;\n",
       "  display: inline-block;\n",
       "  line-height: 1.2em;\n",
       "}\n",
       "\n",
       "#sk-container-id-6 div.sk-label-container {\n",
       "  text-align: center;\n",
       "}\n",
       "\n",
       "/* Estimator-specific */\n",
       "#sk-container-id-6 div.sk-estimator {\n",
       "  font-family: monospace;\n",
       "  border: 1px dotted var(--sklearn-color-border-box);\n",
       "  border-radius: 0.25em;\n",
       "  box-sizing: border-box;\n",
       "  margin-bottom: 0.5em;\n",
       "  /* unfitted */\n",
       "  background-color: var(--sklearn-color-unfitted-level-0);\n",
       "}\n",
       "\n",
       "#sk-container-id-6 div.sk-estimator.fitted {\n",
       "  /* fitted */\n",
       "  background-color: var(--sklearn-color-fitted-level-0);\n",
       "}\n",
       "\n",
       "/* on hover */\n",
       "#sk-container-id-6 div.sk-estimator:hover {\n",
       "  /* unfitted */\n",
       "  background-color: var(--sklearn-color-unfitted-level-2);\n",
       "}\n",
       "\n",
       "#sk-container-id-6 div.sk-estimator.fitted:hover {\n",
       "  /* fitted */\n",
       "  background-color: var(--sklearn-color-fitted-level-2);\n",
       "}\n",
       "\n",
       "/* Specification for estimator info (e.g. \"i\" and \"?\") */\n",
       "\n",
       "/* Common style for \"i\" and \"?\" */\n",
       "\n",
       ".sk-estimator-doc-link,\n",
       "a:link.sk-estimator-doc-link,\n",
       "a:visited.sk-estimator-doc-link {\n",
       "  float: right;\n",
       "  font-size: smaller;\n",
       "  line-height: 1em;\n",
       "  font-family: monospace;\n",
       "  background-color: var(--sklearn-color-background);\n",
       "  border-radius: 1em;\n",
       "  height: 1em;\n",
       "  width: 1em;\n",
       "  text-decoration: none !important;\n",
       "  margin-left: 1ex;\n",
       "  /* unfitted */\n",
       "  border: var(--sklearn-color-unfitted-level-1) 1pt solid;\n",
       "  color: var(--sklearn-color-unfitted-level-1);\n",
       "}\n",
       "\n",
       ".sk-estimator-doc-link.fitted,\n",
       "a:link.sk-estimator-doc-link.fitted,\n",
       "a:visited.sk-estimator-doc-link.fitted {\n",
       "  /* fitted */\n",
       "  border: var(--sklearn-color-fitted-level-1) 1pt solid;\n",
       "  color: var(--sklearn-color-fitted-level-1);\n",
       "}\n",
       "\n",
       "/* On hover */\n",
       "div.sk-estimator:hover .sk-estimator-doc-link:hover,\n",
       ".sk-estimator-doc-link:hover,\n",
       "div.sk-label-container:hover .sk-estimator-doc-link:hover,\n",
       ".sk-estimator-doc-link:hover {\n",
       "  /* unfitted */\n",
       "  background-color: var(--sklearn-color-unfitted-level-3);\n",
       "  color: var(--sklearn-color-background);\n",
       "  text-decoration: none;\n",
       "}\n",
       "\n",
       "div.sk-estimator.fitted:hover .sk-estimator-doc-link.fitted:hover,\n",
       ".sk-estimator-doc-link.fitted:hover,\n",
       "div.sk-label-container:hover .sk-estimator-doc-link.fitted:hover,\n",
       ".sk-estimator-doc-link.fitted:hover {\n",
       "  /* fitted */\n",
       "  background-color: var(--sklearn-color-fitted-level-3);\n",
       "  color: var(--sklearn-color-background);\n",
       "  text-decoration: none;\n",
       "}\n",
       "\n",
       "/* Span, style for the box shown on hovering the info icon */\n",
       ".sk-estimator-doc-link span {\n",
       "  display: none;\n",
       "  z-index: 9999;\n",
       "  position: relative;\n",
       "  font-weight: normal;\n",
       "  right: .2ex;\n",
       "  padding: .5ex;\n",
       "  margin: .5ex;\n",
       "  width: min-content;\n",
       "  min-width: 20ex;\n",
       "  max-width: 50ex;\n",
       "  color: var(--sklearn-color-text);\n",
       "  box-shadow: 2pt 2pt 4pt #999;\n",
       "  /* unfitted */\n",
       "  background: var(--sklearn-color-unfitted-level-0);\n",
       "  border: .5pt solid var(--sklearn-color-unfitted-level-3);\n",
       "}\n",
       "\n",
       ".sk-estimator-doc-link.fitted span {\n",
       "  /* fitted */\n",
       "  background: var(--sklearn-color-fitted-level-0);\n",
       "  border: var(--sklearn-color-fitted-level-3);\n",
       "}\n",
       "\n",
       ".sk-estimator-doc-link:hover span {\n",
       "  display: block;\n",
       "}\n",
       "\n",
       "/* \"?\"-specific style due to the `<a>` HTML tag */\n",
       "\n",
       "#sk-container-id-6 a.estimator_doc_link {\n",
       "  float: right;\n",
       "  font-size: 1rem;\n",
       "  line-height: 1em;\n",
       "  font-family: monospace;\n",
       "  background-color: var(--sklearn-color-background);\n",
       "  border-radius: 1rem;\n",
       "  height: 1rem;\n",
       "  width: 1rem;\n",
       "  text-decoration: none;\n",
       "  /* unfitted */\n",
       "  color: var(--sklearn-color-unfitted-level-1);\n",
       "  border: var(--sklearn-color-unfitted-level-1) 1pt solid;\n",
       "}\n",
       "\n",
       "#sk-container-id-6 a.estimator_doc_link.fitted {\n",
       "  /* fitted */\n",
       "  border: var(--sklearn-color-fitted-level-1) 1pt solid;\n",
       "  color: var(--sklearn-color-fitted-level-1);\n",
       "}\n",
       "\n",
       "/* On hover */\n",
       "#sk-container-id-6 a.estimator_doc_link:hover {\n",
       "  /* unfitted */\n",
       "  background-color: var(--sklearn-color-unfitted-level-3);\n",
       "  color: var(--sklearn-color-background);\n",
       "  text-decoration: none;\n",
       "}\n",
       "\n",
       "#sk-container-id-6 a.estimator_doc_link.fitted:hover {\n",
       "  /* fitted */\n",
       "  background-color: var(--sklearn-color-fitted-level-3);\n",
       "}\n",
       "</style><div id=\"sk-container-id-6\" class=\"sk-top-container\"><div class=\"sk-text-repr-fallback\"><pre>KMeans(n_clusters=5)</pre><b>In a Jupyter environment, please rerun this cell to show the HTML representation or trust the notebook. <br />On GitHub, the HTML representation is unable to render, please try loading this page with nbviewer.org.</b></div><div class=\"sk-container\" hidden><div class=\"sk-item\"><div class=\"sk-estimator fitted sk-toggleable\"><input class=\"sk-toggleable__control sk-hidden--visually\" id=\"sk-estimator-id-6\" type=\"checkbox\" checked><label for=\"sk-estimator-id-6\" class=\"sk-toggleable__label fitted sk-toggleable__label-arrow fitted\">&nbsp;&nbsp;KMeans<a class=\"sk-estimator-doc-link fitted\" rel=\"noreferrer\" target=\"_blank\" href=\"https://scikit-learn.org/1.4/modules/generated/sklearn.cluster.KMeans.html\">?<span>Documentation for KMeans</span></a><span class=\"sk-estimator-doc-link fitted\">i<span>Fitted</span></span></label><div class=\"sk-toggleable__content fitted\"><pre>KMeans(n_clusters=5)</pre></div> </div></div></div></div>"
      ],
      "text/plain": [
       "KMeans(n_clusters=5)"
      ]
     },
     "execution_count": 142,
     "metadata": {},
     "output_type": "execute_result"
    }
   ],
   "source": [
    "# Cluster de verschillende teksten van de auteurs en het testament.\n",
    "kmeans = KMeans(n_clusters=5)\n",
    "kmeans.fit(frequenties)"
   ]
  },
  {
   "cell_type": "markdown",
   "metadata": {},
   "source": [
    "Nu kunnen we onze datapunten overlopen en afdrukken bij welke cluster horen."
   ]
  },
  {
   "cell_type": "code",
   "execution_count": 143,
   "metadata": {},
   "outputs": [
    {
     "name": "stdout",
     "output_type": "stream",
     "text": [
      "Tekst: Testament, Cluster: 0\n",
      "Tekst: Elisabeth, Cluster: 0\n",
      "Tekst: Elisabeth, Cluster: 0\n",
      "Tekst: Elisabeth, Cluster: 0\n",
      "Tekst: Elisabeth, Cluster: 0\n",
      "Tekst: Elisabeth, Cluster: 0\n",
      "Tekst: Gregorius, Cluster: 4\n",
      "Tekst: Gregorius, Cluster: 4\n",
      "Tekst: Gregorius, Cluster: 4\n",
      "Tekst: Gregorius, Cluster: 4\n",
      "Tekst: Gregorius, Cluster: 4\n",
      "Tekst: Heloise, Cluster: 1\n",
      "Tekst: Heloise, Cluster: 1\n",
      "Tekst: Heloise, Cluster: 1\n",
      "Tekst: Heloise, Cluster: 1\n",
      "Tekst: Heloise, Cluster: 1\n",
      "Tekst: Hugo, Cluster: 3\n",
      "Tekst: Hugo, Cluster: 3\n",
      "Tekst: Hugo, Cluster: 3\n",
      "Tekst: Hugo, Cluster: 3\n",
      "Tekst: Hugo, Cluster: 3\n",
      "Tekst: Johannes, Cluster: 2\n",
      "Tekst: Johannes, Cluster: 2\n",
      "Tekst: Johannes, Cluster: 2\n",
      "Tekst: Johannes, Cluster: 2\n",
      "Tekst: Johannes, Cluster: 2\n"
     ]
    }
   ],
   "source": [
    "# Druk de clusters af.\n",
    "for i, label in enumerate(labels):\n",
    "    print(f'Tekst: {label}, Cluster: {kmeans.labels_[i]}')"
   ]
  },
  {
   "cell_type": "markdown",
   "metadata": {},
   "source": [
    "Hierboven zie je telkens de naam van de auteur, elke van deze namen komt overeen met een van de teksten van die auteur. Ernaast zie je het cijfer van de groep waartoe deze tekst behoort. Merk op dat het resultaat van K-means niet altijd hetzelfde is. Dat komt omdat het algoritme begint met willekeurige middelpunten van de clusters. De keuze van deze punten heeft dus invloed op het uiteindelijke resultaat. Je kan bovenstaande twee cellen best een aantal keer uitvoeren. Zo zal je een idee krijgen van hoe de clustering kan variëren."
   ]
  },
  {
   "cell_type": "markdown",
   "metadata": {},
   "source": [
    "We kunnen het resultaat van onze clustering ook visualiseren. Om dat op een 2D vlak te kunnen doen moeten we onze vingerafdrukken, die nu uit een reeks van meerdere getallen bestaan, omzetten naar 2D coördinaten. Een techniek die we daarvoor kunnen gebruiken is PCA ofwel principle component analysis. Deze techniek zal onze vingerafdrukken (vectoren van lengte 45) omzetten naar 2D coördinaten."
   ]
  },
  {
   "cell_type": "code",
   "execution_count": 144,
   "metadata": {},
   "outputs": [],
   "source": [
    "# Gebruik PCA om onze vingerafdrukken om te zetten naar 2D coördinaten.  \n",
    "pca = PCA(n_components=2)\n",
    "pca.fit(frequenties)\n",
    "frequenties_pca = pca.transform(frequenties)"
   ]
  },
  {
   "cell_type": "markdown",
   "metadata": {},
   "source": [
    "Eens we de omzetting gedaan hebben, kunnen we de vingerafdrukken weergeven in een spreidingsdiagram. Tegelijk kunnen we ook de nummers van de clusters gebruiken om de punten op het diagram een kleur te geven die bij die kluster hoort. Zo kunnen we zien welke teksten er volgens het K-means algoritme samen horen."
   ]
  },
  {
   "cell_type": "code",
   "execution_count": 145,
   "metadata": {},
   "outputs": [
    {
     "data": {
      "image/png": "[encoded data removed]",
      "text/plain": [
       "<Figure size 640x480 with 1 Axes>"
      ]
     },
     "metadata": {},
     "output_type": "display_data"
    }
   ],
   "source": [
    "# Geef de vingerafdrukken weer in een spreidingsdiagram.\n",
    "plt.scatter(frequenties_pca[:, 0], frequenties_pca[:, 1], c=kmeans.labels_)\n",
    "for i, label in enumerate(labels):\n",
    "    plt.text(frequenties_pca[i, 0], frequenties_pca[i, 1], label)\n",
    "plt.show()"
   ]
  },
  {
   "cell_type": "markdown",
   "metadata": {},
   "source": [
    "Uit bovenstaande resultaten kunnen we opmaken dat de schrijfstijl van het testament het meeste lijkt op die van Elisabeth. Elisabeth wordt hierdoor dus onze hoofdverdachte. Dit is echter maar een beperkte hoeveelheid bewijs. Het is ook niet duidelijk wat het motief van Elisabeth geweest zou zijn. Om meer duidelijkheid te krijgen over het overlijden van Heloisa zal je nog andere bewijsstukken moeten analyseren."
   ]
  }
 ],
 "metadata": {
  "kernelspec": {
   "display_name": "Python 3",
   "language": "python",
   "name": "python3"
  },
  "language_info": {
   "codemirror_mode": {
    "name": "ipython",
    "version": 3
   },
   "file_extension": ".py",
   "mimetype": "text/x-python",
   "name": "python",
   "nbconvert_exporter": "python",
   "pygments_lexer": "ipython3",
   "version": "3.12.0b2"
  }
 },
 "nbformat": 4,
 "nbformat_minor": 2
}
