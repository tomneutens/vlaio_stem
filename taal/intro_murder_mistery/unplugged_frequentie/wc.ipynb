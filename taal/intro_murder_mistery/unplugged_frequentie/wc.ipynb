{
 "cells": [
  {
   "cell_type": "code",
   "execution_count": 3,
   "metadata": {},
   "outputs": [
    {
     "name": "stdout",
     "output_type": "stream",
     "text": [
      "[62, 25, 0, 0, 0, 12, 0]\n",
      "[0, 0, 100, 0, 0, 0, 0]\n"
     ]
    }
   ],
   "source": [
    "p1  = \"Het is werkelijk fascinerend hoe deze zaak van barones Heloisa Argentoliensis mij blijft intrigeren. Ik zie het mysterie rond haar dood rechtstreeks uit een roman te komen. Ik ben het volledig met je eens. Het testament dat naast haar lichaam werd gevonden, lijkt me bijzonder verdacht. De omstandigheden suggereren sterk dat het niet door Heloisa zelf is geschreven, maar eerder door iemand die uit was op haar erfenis. Interessant punt, maar ik denk dat we ook de briefwisselingen die in Heloisa's torenkamer zijn ontdekt niet mogen vergeten. Elk van die brieven biedt mogelijk cruciale informatie over de relaties tussen Heloisa en deze vier personen. Ze zouden ons volgens mij kunnen helpen om de dader te identificeren. Laten we dan geen moment verliezen. Ik zal met jou ondersteuning deze briefwisselingen grondig onderzoeken en elke aanwijzing nauwgezet bestuderen. Ik geloof dat we dichter bij de waarheid kunnen komen dan ooit tevoren.\"\n",
    "p2 = \"U hebt absoluut gelijk, de omstandigheden rond haar overlijden zijn uiterst mysterieus. Een vrouw van haar stand, gevonden dood in haar torenkamer, omgeven door intriges en verdachte testamenten. Het is begrijpelijk dat het bij u talloze vragen oproept. Precies, en u mag niet vergeten dat er vier personen zijn genoemd in dat testament, elk met een deel van de erfenis. Het lijkt bijna alsof de dader zichzelf wilde beschermen door anderen te betrekken bij de erfenis, om zo de aandacht af te leiden. Wat denkt u daarvan? Precies! U kan, door de inhoud van die brieven te analyseren, wellicht de motieven van elk van de erfgenamen achterhalen. En wie weet, misschien vind u zo wel de sleutel tot het oplossen van dit eeuwenoude mysterie.\"\n",
    "\n",
    "p1 = p1.lower()\n",
    "p2 = p2.lower()\n",
    "\n",
    "def count_keywords(text):\n",
    "    keywords = [\"ik\", \"mij\", \"u\", \"jij\", \"wij\", \"ons\", \"onze\" \"je\"]\n",
    "    frequencies = [0 for _ in keywords]\n",
    "    for word in text:\n",
    "        if word in keywords:\n",
    "            frequencies[keywords.index(word)] += 1\n",
    "            \n",
    "    totalCount = sum(frequencies)\n",
    "    frequencies = [int(f / totalCount * 100) for f in frequencies]\n",
    "    return frequencies\n",
    "\n",
    "frequencies1 = count_keywords(p1.split())\n",
    "frequencies2 = count_keywords(p2.split())\n",
    "\n",
    "print(frequencies1)\n",
    "print(frequencies2)"
   ]
  },
  {
   "cell_type": "code",
   "execution_count": 5,
   "metadata": {},
   "outputs": [
    {
     "name": "stdout",
     "output_type": "stream",
     "text": [
      "69\n",
      "108\n",
      "105\n",
      "115\n",
      "97\n",
      "98\n",
      "101\n",
      "116\n",
      "104\n",
      "913\n"
     ]
    }
   ],
   "source": [
    "name = \"Elisabeth\"\n",
    "\n",
    "number = 0\n",
    "for letter in name:\n",
    "    print(ord(letter))\n",
    "    number+= ord(letter)\n",
    "    \n",
    "print(number)"
   ]
  }
 ],
 "metadata": {
  "kernelspec": {
   "display_name": "Python 3",
   "language": "python",
   "name": "python3"
  },
  "language_info": {
   "codemirror_mode": {
    "name": "ipython",
    "version": 3
   },
   "file_extension": ".py",
   "mimetype": "text/x-python",
   "name": "python",
   "nbconvert_exporter": "python",
   "pygments_lexer": "ipython3",
   "version": "3.12.0b2"
  }
 },
 "nbformat": 4,
 "nbformat_minor": 2
}
