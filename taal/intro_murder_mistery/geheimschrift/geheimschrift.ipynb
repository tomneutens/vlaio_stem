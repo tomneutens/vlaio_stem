{
 "cells": [
  {
   "cell_type": "markdown",
   "metadata": {},
   "source": [
    "# Het de geheime brieven\n",
    "\n",
    "Vele honderden jaren na de dood van barones Heloisa werd er, op de plaats waar vroeger de stallingen van het kasteel stonden, een kistje opgegraven. In dat kistje zat een reeks van brieven. Koolstofdatering wijst aan dat de brieven geschreven werden in de periode rond de dood van barones Heloisa. Ze zouden dus informatie kunnen bevatten over hoe Heloisa aan haar einde is gekomen. Helaas is het niet zo eenvoudig om te achterhalen wat de inhoud van de brieven juist is. De brieven zijn namelijk geschreven in geheimschrift. In deze notebook proberen we de brieven te ontcijferen."
   ]
  },
  {
   "cell_type": "markdown",
   "metadata": {},
   "source": [
    "## Twee soorten brieven\n",
    "\n",
    "Wanneer we de brieven bekijken, zien we dat er twee verschillende soorten versleuteling gebruikt werden. In de ene soort zijn de letters van het afabet nog te herkennen. In de tweede soort zien we enkel symbolen. Hiender starten we met het ontcijferen van de teksten die gebruik maken van letters."
   ]
  },
  {
   "cell_type": "markdown",
   "metadata": {},
   "source": [
    "## Met letters\n",
    "\n",
    "We starten met het ontcijferen van de brieven die enkel letters uit het alfabet bevatten. Dit lijkt op het eerste zicht het eenvoudigste probleem.  De brieven met enkel letters bevinden zich in de map *brieven/met_letters*.\n"
   ]
  },
  {
   "cell_type": "markdown",
   "metadata": {},
   "source": [
    "### Analyse van de brieven"
   ]
  },
  {
   "cell_type": "markdown",
   "metadata": {},
   "source": [
    "**Opdracht:** Je weet intussen hoe je de tekstbestanden in een map moet inlezen in Python. Dat heb je immers gedaan in de notebook *auteur_herkennen.ipynb*. Schrijf hieronder een python functie die alle tekstbestanden in een opgegeven map leest en opslaat in een lijst. De functie geeft ook deze lijst terug."
   ]
  },
  {
   "cell_type": "code",
   "execution_count": 1,
   "metadata": {},
   "outputs": [],
   "source": [
    "#import os\n",
    "\n",
    "# Deze functie leest de tekst in een bestand en geeft die terug als een string.\n",
    "#def lees_bestand(bestandsnaam):\n",
    "    # Vul deze functie aan\n",
    "\n",
    "# Deze functie leest de tekst in alle bestanden in een map en geeft die terug als een lijst van strings.\n",
    "#def lees_bestanden_in_map(mapnaam):\n",
    "    # Vul deze functie aan"
   ]
  },
  {
   "cell_type": "code",
   "execution_count": 2,
   "metadata": {},
   "outputs": [],
   "source": [
    "import os\n",
    "\n",
    "# Deze functie leest de tekst in een bestand en geeft die terug als een string.\n",
    "def lees_bestand(bestandsnaam):\n",
    "    with open(bestandsnaam, encoding=\"utf-8\") as f:\n",
    "        inhoud = f.read()\n",
    "    return inhoud\n",
    "\n",
    "# Deze functie leest de tekst in alle bestanden in een map en geeft die terug als een lijst van strings.\n",
    "def lees_bestanden_in_map(mapnaam):\n",
    "    bestanden = os.listdir(mapnaam)\n",
    "    inhoud = []\n",
    "    for bestand in bestanden:\n",
    "        if bestand.endswith(\".txt\"):\n",
    "            inhoud.append(lees_bestand(mapnaam + \"/\" + bestand))\n",
    "    return inhoud"
   ]
  },
  {
   "cell_type": "markdown",
   "metadata": {},
   "source": [
    "**Opdracht:** Roep de functie `lees_bestanden_in_map` op en sla de waarde op in de variabele met naam `brieven_met_letters`."
   ]
  },
  {
   "cell_type": "code",
   "execution_count": 3,
   "metadata": {},
   "outputs": [],
   "source": [
    "#brieven_met_letters = # Vul hier de juiste functie aan"
   ]
  },
  {
   "cell_type": "code",
   "execution_count": 4,
   "metadata": {},
   "outputs": [],
   "source": [
    "brieven_met_letters = lees_bestanden_in_map(\"brieven\\\\met_letters\")"
   ]
  },
  {
   "cell_type": "markdown",
   "metadata": {},
   "source": [
    "**Opdracht:** Druk de vier eerste brieven af op het scherm."
   ]
  },
  {
   "cell_type": "code",
   "execution_count": 5,
   "metadata": {},
   "outputs": [],
   "source": [
    "#for i in range(4):\n",
    "    # Vul hier de juiste code aan"
   ]
  },
  {
   "cell_type": "code",
   "execution_count": 6,
   "metadata": {},
   "outputs": [
    {
     "name": "stdout",
     "output_type": "stream",
     "text": [
      "------------------- BRIEF 1  -------------------\n",
      "zvwa tryvrsqr urpgbe,\n",
      "\n",
      "ryxr bpugraq ireynat vx anne wr nnajrmvturvq, anne qr grqreurvq ina wr nnaenxvat. wvw orag zvwa zrgtrmry, zvwa tryvwxr. zvwa zbrqre qevatg nna bc rra uhjryvwx zrg senaf, znne zvwa uneg orubbeg gbr nna wbh.\n",
      "\n",
      "zrg yvrsqr,\n",
      "\n",
      "ryvfnorgu\n",
      "\n",
      "------------------- BRIEF 2  -------------------\n",
      "zvwa qvreoner ryvfnorgu,\n",
      "\n",
      "zvwa uneg oerrxg ovw urg yrmra ina wr jbbeqra. znne trrs qr zbrq avrg bc, zvwa yvrsfgr. vx mny re nygvwq ibbe wr mvwa, jng re bbx trorheg. oyvws irpugra, fnzra mhyyra jr rra bcybffvat ivaqra.\n",
      "\n",
      "zrg bajnaxryoner yvrsqr,\n",
      "\n",
      "urpgbe\n",
      "\n",
      "------------------- BRIEF 3  -------------------\n",
      "zvwa qvreoner ryvfnorgu,\n",
      "\n",
      "wbhj jbbeqra ireyvpugra zvwa qbaxrefgr qntra. zvwa uneg vf ireihyq ina ierhtqr ovw qr trqnpugr nna baf fnzramvwa. yngra jr irpugra ibbe bamr yvrsqr, zvwa yvrsfgr.\n",
      "\n",
      "zrg yvrsqr,\n",
      "\n",
      "urpgbe\n",
      "\n",
      "------------------- BRIEF 4  -------------------\n",
      "zvwa yvrsfgr urpgbe,\n",
      "\n",
      "vx qebbz ina rra gbrxbzfg jnneva bamr yvrsqr ievw xna oybrvra. ynng baf zbrqvt mvwa ra qr bofgnxryf fnzra birejvaara. senaf vf avrg zvwa ybg, wvw orag qng jry.\n",
      "\n",
      "yvrsf,\n",
      "\n",
      "ryvfnorgu\n",
      "\n"
     ]
    }
   ],
   "source": [
    "for i in range(4):\n",
    "    print(\"------------------- BRIEF\", i+1, \" -------------------\")\n",
    "    print(brieven_met_letters[i])\n",
    "    print()"
   ]
  },
  {
   "cell_type": "markdown",
   "metadata": {},
   "source": [
    "Je merkt dat de brieven onleesbaar zijn. Toch zien we aan de structuur van de brieven dat deze een gesprek tussen twee personen bevatten. "
   ]
  },
  {
   "cell_type": "markdown",
   "metadata": {},
   "source": [
    "**Opdracht:** Bekijk nog een aantal andere brieven. Wat zijn volgens jou de namen van de personen die hier met elkaar communiceren?"
   ]
  },
  {
   "cell_type": "code",
   "execution_count": 7,
   "metadata": {},
   "outputs": [
    {
     "name": "stdout",
     "output_type": "stream",
     "text": [
      "zvwa tryvrsqr urpgbe,\n",
      "\n",
      "zvwa uneg xna avrg naqref qna wbhj annz syhvfgrera. ynng baf fnzra fgevwqra grtra qr qehx ina qr jreryq bz baf urra. wvw orag zvwa ybg, zvwa yvrsqr, zvwa nyyrf.\n",
      "\n",
      "nygvwq,\n",
      "\n",
      "ryvfnorgu\n"
     ]
    }
   ],
   "source": [
    "print(brieven_met_letters[5])"
   ]
  },
  {
   "cell_type": "markdown",
   "metadata": {},
   "source": [
    "### Een gokje wagen\n",
    "\n",
    "Wanneer je de brieven goed bekijkt, zie je dat deze telkens eindigen met de woorden *ryvfnorgu* of *urpgbe*. Dat doet ons vermoeden dat dit de namen zijn van de twee personen die met elkaar communiceren. We kennen intussen een aantal namen van personen uit de dichte omgeving van de barones: Elisabeth, Gregorius, Heloisa, Hugo, Johannes en Frans.\n",
    "\n",
    "**Opdracht:** Welke van de namen die we al kennen zou deze brieven geschreven kunnen hebben?"
   ]
  },
  {
   "cell_type": "markdown",
   "metadata": {},
   "source": [
    "#### De lengte controleren\n",
    "\n",
    "Een eerste vermoeden dat we kunnen hebben is dat de lengte van de namen gelijk moet zijn. Door dit te controleren kunnen we al heel wat namen uitsluiten. De code hieronder overloopt voor elke naam in geheimschrijft, alle namen die we kennen en controleert of die even lang zijn. Voer de code uit om te zien welke personen mogelijks met elkaar spreken in deze brieven."
   ]
  },
  {
   "cell_type": "code",
   "execution_count": 8,
   "metadata": {},
   "outputs": [
    {
     "name": "stdout",
     "output_type": "stream",
     "text": [
      "ryvfnorgu kan elisabeth zijn\n",
      "ryvfnorgu kan gregorius zijn\n"
     ]
    }
   ],
   "source": [
    "gekende_namen = [\"elisabeth\", \"gregorius\", \"heloisa\", \"hugo\", \"johannes\", \"frans\"]\n",
    "geheime_namen = [\"ryvfnorgu\", \"nygvwq\"]\n",
    "\n",
    "for geheime_naam in geheime_namen:\n",
    "    for gekende_naam in gekende_namen:\n",
    "        if len(geheime_naam) == len(gekende_naam):\n",
    "            print(geheime_naam, \"kan\", gekende_naam, \"zijn\")"
   ]
  },
  {
   "cell_type": "markdown",
   "metadata": {},
   "source": [
    "*ryvfnorgu* zou Elisabeth of Gregorius kunnen zijn. Voor *nygvwq* zijn er geen namen met evenveel letters gevonden. Over *nygvwq* kunnen we dus nog niets zeggen. "
   ]
  },
  {
   "cell_type": "markdown",
   "metadata": {},
   "source": [
    "Wanneer we veronderstellen dat elke letter een-op-een vervangen werd door een andere letter, kunnen we ook uitsluiten dat *ryvfnorgu* overeenkomt met de naam Gregorius. Zie jij waarom? Om dezelfde reden lijkt de kans groot dat *ryvfnorgu* overeenkomt met Elisabeth."
   ]
  },
  {
   "cell_type": "markdown",
   "metadata": {},
   "source": [
    "#### Letters vervangen\n",
    "\n",
    "Nu we een vermoeden hebben dat de letters van *ryvfnorgu* overeenkomen met de letters van Elisabeth, kunnen we in onze brieven de letters van *ryvfnorgu* overal vervangen. Dat doen we in de codecellen hieronder."
   ]
  },
  {
   "cell_type": "code",
   "execution_count": 9,
   "metadata": {},
   "outputs": [],
   "source": [
    "mapping_letters = {\n",
    "    \"r\": \"e\",\n",
    "    \"y\": \"l\",\n",
    "    \"v\": \"i\",\n",
    "    \"f\": \"s\",\n",
    "    \"n\": \"a\",\n",
    "    \"o\": \"b\",\n",
    "    \"g\": \"t\",\n",
    "    \"u\": \"h\",\n",
    "}\n",
    "\n",
    "def vervang_letters_in_brieven(brieven, mapping):\n",
    "    nieuwe_brieven = []\n",
    "    for brief in brieven:\n",
    "        nieuwe_brief = \"\"\n",
    "        for letter in brief:\n",
    "            if letter.lower() in mapping:\n",
    "                nieuwe_brief += mapping[letter.lower()].upper()\n",
    "            else:\n",
    "                nieuwe_brief += letter\n",
    "        nieuwe_brieven.append(nieuwe_brief)\n",
    "    return nieuwe_brieven\n",
    "\n",
    "brieven_met_letters_vervangen = vervang_letters_in_brieven(brieven_met_letters, mapping_letters)"
   ]
  },
  {
   "cell_type": "markdown",
   "metadata": {},
   "source": [
    "**Opdracht:** Bekijk de eerste drie brieven waarin je de letters vervangen hebt. Herken je bepaalde woorden? "
   ]
  },
  {
   "cell_type": "code",
   "execution_count": 10,
   "metadata": {},
   "outputs": [
    {
     "name": "stdout",
     "output_type": "stream",
     "text": [
      "------------------- BRIEF 1  -------------------\n",
      "zIwa tELIEsqE HEpTbe,\n",
      "\n",
      "ELxE bpHTEaq iEeLAat Ix aAAe wE AAajEmItHEIq, aAAe qE TEqEeHEIq iAa wE AAaeAxIat. wIw BEaT zIwa zETtEmEL, zIwa tELIwxE. zIwa zbEqEe qeIatT AAa bc EEa HhjELIwx zET seAaS, zAAe zIwa HAeT BEHbbeT TbE AAa wbh.\n",
      "\n",
      "zET LIEsqE,\n",
      "\n",
      "ELISABETH\n",
      "\n",
      "------------------- BRIEF 2  -------------------\n",
      "zIwa qIEeBAeE ELISABETH,\n",
      "\n",
      "zIwa HAeT BeEExT BIw HET LEmEa iAa wE jbbeqEa. zAAe tEEs qE zbEq aIET bc, zIwa LIEsSTE. Ix mAL Ee ALTIwq ibbe wE mIwa, jAT Ee bbx tEBEheT. BLIws iEpHTEa, SAzEa mhLLEa jE EEa bcLbSSIat iIaqEa.\n",
      "\n",
      "zET bajAaxELBAeE LIEsqE,\n",
      "\n",
      "HEpTbe\n",
      "\n",
      "------------------- BRIEF 3  -------------------\n",
      "zIwa qIEeBAeE ELISABETH,\n",
      "\n",
      "wbhj jbbeqEa iEeLIpHTEa zIwa qbaxEeSTE qAtEa. zIwa HAeT IS iEeihLq iAa ieEhtqE BIw qE tEqApHTE AAa baS SAzEamIwa. LATEa jE iEpHTEa ibbe bamE LIEsqE, zIwa LIEsSTE.\n",
      "\n",
      "zET LIEsqE,\n",
      "\n",
      "HEpTbe\n",
      "\n"
     ]
    }
   ],
   "source": [
    "for i in range(3):\n",
    "    print(\"------------------- BRIEF\", i+1, \" -------------------\")\n",
    "    print(brieven_met_letters_vervangen[i])\n",
    "    print()"
   ]
  },
  {
   "cell_type": "markdown",
   "metadata": {},
   "source": [
    "**Opdracht:** Ga op zoek naar woorden die je mogelijks herkent. Voeg de ontbrekende letters toe aan de mapping van de letters (`mapping_letters`). Voer dan bovenstaande twee codecellen opnieuw uit. Als je nieuwe mapping correct is, zou je de tekst nu nog beter moeten begrijpen. Herhaal deze stappen tot je de volledige tekst kan lezen."
   ]
  },
  {
   "cell_type": "code",
   "execution_count": 11,
   "metadata": {},
   "outputs": [],
   "source": [
    "mapping_letters = {\n",
    "    \"r\": \"e\",\n",
    "    \"y\": \"l\",\n",
    "    \"v\": \"i\",\n",
    "    \"f\": \"s\",\n",
    "    \"n\": \"a\",\n",
    "    \"o\": \"b\",\n",
    "    \"g\": \"t\",\n",
    "    \"u\": \"h\",\n",
    "    \"s\": \"f\",\n",
    "    \"x\": \"k\",\n",
    "    \"q\": \"d\",\n",
    "    \"z\": \"m\",\n",
    "    \"w\": \"j\",\n",
    "    \"a\": \"n\",\n",
    "    \"t\": \"g\",\n",
    "    \"b\": \"o\",\n",
    "    \"p\": \"c\",\n",
    "    \"i\": \"v\",\n",
    "    \"e\": \"r\",\n",
    "    \"m\": \"z\",\n",
    "    \"c\": \"p\",\n",
    "    \"h\": \"u\",\n",
    "    \"j\": \"w\",\n",
    "}\n",
    "\n",
    "def vervang_letters_in_brieven(brieven, mapping):\n",
    "    nieuwe_brieven = []\n",
    "    for brief in brieven:\n",
    "        nieuwe_brief = \"\"\n",
    "        for letter in brief:\n",
    "            if letter.lower() in mapping:\n",
    "                nieuwe_brief += mapping[letter.lower()].upper()\n",
    "            else:\n",
    "                nieuwe_brief += letter\n",
    "        nieuwe_brieven.append(nieuwe_brief)\n",
    "    return nieuwe_brieven\n",
    "\n",
    "brieven_met_letters_vervangen = vervang_letters_in_brieven(brieven_met_letters, mapping_letters)"
   ]
  },
  {
   "cell_type": "code",
   "execution_count": 12,
   "metadata": {},
   "outputs": [
    {
     "name": "stdout",
     "output_type": "stream",
     "text": [
      "------------------- BRIEF 1  -------------------\n",
      "MIJN GELIEFDE HECTOR,\n",
      "\n",
      "ELKE OCHTEND VERLANG IK NAAR JE AANWEZIGHEID, NAAR DE TEDERHEID VAN JE AANRAKING. JIJ BENT MIJN METGEZEL, MIJN GELIJKE. MIJN MOEDER DRINGT AAN OP EEN HUWELIJK MET FRANS, MAAR MIJN HART BEHOORT TOE AAN JOU.\n",
      "\n",
      "MET LIEFDE,\n",
      "\n",
      "ELISABETH\n",
      "\n",
      "------------------- BRIEF 2  -------------------\n",
      "MIJN DIERBARE ELISABETH,\n",
      "\n",
      "MIJN HART BREEKT BIJ HET LEZEN VAN JE WOORDEN. MAAR GEEF DE MOED NIET OP, MIJN LIEFSTE. IK ZAL ER ALTIJD VOOR JE ZIJN, WAT ER OOK GEBEURT. BLIJF VECHTEN, SAMEN ZULLEN WE EEN OPLOSSING VINDEN.\n",
      "\n",
      "MET ONWANKELBARE LIEFDE,\n",
      "\n",
      "HECTOR\n",
      "\n",
      "------------------- BRIEF 3  -------------------\n",
      "MIJN DIERBARE ELISABETH,\n",
      "\n",
      "JOUW WOORDEN VERLICHTEN MIJN DONKERSTE DAGEN. MIJN HART IS VERVULD VAN VREUGDE BIJ DE GEDACHTE AAN ONS SAMENZIJN. LATEN WE VECHTEN VOOR ONZE LIEFDE, MIJN LIEFSTE.\n",
      "\n",
      "MET LIEFDE,\n",
      "\n",
      "HECTOR\n",
      "\n",
      "------------------- BRIEF 4  -------------------\n",
      "MIJN LIEFSTE HECTOR,\n",
      "\n",
      "IK DROOM VAN EEN TOEKOMST WAARIN ONZE LIEFDE VRIJ KAN BLOEIEN. LAAT ONS MOEDIG ZIJN EN DE OBSTAKELS SAMEN OVERWINNEN. FRANS IS NIET MIJN LOT, JIJ BENT DAT WEL.\n",
      "\n",
      "LIEFS,\n",
      "\n",
      "ELISABETH\n",
      "\n",
      "------------------- BRIEF 5  -------------------\n",
      "MIJN DIERBARE ELISABETH,\n",
      "\n",
      "SAMEN ZIJN WE STERK. LATEN WE ONZE DROMEN NAJAGEN, ONGEACHT DE VERWACHTINGEN VAN ANDEREN. ONZE LIEFDE ZAL ALLES OVERWINNEN.\n",
      "\n",
      "MET PASSIE,\n",
      "\n",
      "HECTOR\n",
      "\n",
      "------------------- BRIEF 6  -------------------\n",
      "MIJN GELIEFDE HECTOR,\n",
      "\n",
      "MIJN HART KAN NIET ANDERS DAN JOUW NAAM FLUISTEREN. LAAT ONS SAMEN STRIJDEN TEGEN DE DRUK VAN DE WERELD OM ONS HEEN. JIJ BENT MIJN LOT, MIJN LIEFDE, MIJN ALLES.\n",
      "\n",
      "ALTIJD,\n",
      "\n",
      "ELISABETH\n",
      "\n",
      "------------------- BRIEF 7  -------------------\n",
      "MIJN DIERBARE ELISABETH,\n",
      "\n",
      "JOUW LIEFDE IS MIJN KRACHT. LAAT ONS SAMEN VECHTEN VOOR ONZE TOEKOMST, ONGEACHT DE HINDERNISSEN DIE OP ONS PAD KOMEN. ONZE LIEFDE ZAL ALTIJD ZEGEVIEREN.\n",
      "\n",
      "MET EEUWIGE LIEFDE,\n",
      "\n",
      "HECTOR\n",
      "\n",
      "------------------- BRIEF 8  -------------------\n",
      "MIJN GELIEFDE HECTOR,\n",
      "\n",
      "IK SCHRIJF JE MET EEN ZWAAR HART, DOORDRONGEN VAN WANHOOP. DE DRUK OM MET FRANS TE TROUWEN WORDT ONDRAAGLIJK. MIJN MOEDER BLIJFT ME BESTOKEN MET ZIJN DEUGDEN EN DE VOORDELEN VAN EEN DERGELIJK HUWELIJK, MAAR MIJN HART HUILT BIJ DE GEDACHTE AAN EEN LEVEN ZONDER JOU.\n",
      "\n",
      "MET EEN GEBROKEN HART,\n",
      "\n",
      "ELISABETH\n",
      "\n",
      "------------------- BRIEF 9  -------------------\n",
      "MIJN DIERBARE ELISABETH,\n",
      "\n",
      "MIJN HART HUILT MET HET JOUWE. MAAR LATEN WE NIET TOEGEVEN AAN WANHOOP. SAMEN ZULLEN WE EEN UITWEG VINDEN, HOE MOEILIJK HET OOK LIJKT. BLIJF MOEDIG, MIJN LIEFSTE.\n",
      "\n",
      "MET LIEFDE,\n",
      "\n",
      "HECTOR\n",
      "\n",
      "------------------- BRIEF 10  -------------------\n",
      "MIJN LIEFSTE HECTOR,\n",
      "\n",
      "IK BEN VERSTRIKT GERAAKT IN EEN WEB VAN VERPLICHTINGEN EN VERWACHTINGEN. HET LIJKT ALSOF ELKE WEG DIE IK PROBEER TE BEWANDELEN ME TERUGLEIDT NAAR HET ONVERMIJDELIJKE HUWELIJK MET FRANS. IK WEET NIET HOE IK NOG LANGER STAND KAN HOUDEN.\n",
      "\n",
      "GEBROKEN EN HOPELOOS,\n",
      "\n",
      "ELISABETH\n",
      "\n"
     ]
    }
   ],
   "source": [
    "for i in range(10):\n",
    "    print(\"------------------- BRIEF\", i+1, \" -------------------\")\n",
    "    print(brieven_met_letters_vervangen[i])\n",
    "    print()"
   ]
  },
  {
   "cell_type": "markdown",
   "metadata": {},
   "source": [
    "#### Het verhaal\n",
    "\n",
    "Na wat zoekwerk zou je de brieven met letters terug leesbaar hebben kunnen maken. Lees de brieven, geeft het je meer informatie over de dood van barones Heloisa?"
   ]
  },
  {
   "cell_type": "markdown",
   "metadata": {},
   "source": [
    "## Met tekens\n",
    "\n",
    "### Analyse van de brieven\n",
    "\n",
    "Naast de brieven met letters zijn er ook een aantal brieven waarin enkel speciale tekens staan. Gebruik Python om deze brieven in te lezen en de inhoud ervan te bekijken."
   ]
  },
  {
   "cell_type": "code",
   "execution_count": 13,
   "metadata": {},
   "outputs": [],
   "source": [
    "brieven_met_tekens = lees_bestanden_in_map(\"brieven\\\\met_tekens\")"
   ]
  },
  {
   "cell_type": "code",
   "execution_count": 14,
   "metadata": {},
   "outputs": [
    {
     "name": "stdout",
     "output_type": "stream",
     "text": [
      "------------------- BRIEF 1  -------------------\n",
      "◘◔◕◙ ◚◛ ◘◔◕◙ ◘◔◕◙◐ ○◙●◐◝◞ ◥◚●○◟ ◖◔◐◥◐◙▮\n",
      "◒◐◗◔◐◑●◐ ◘◔◕◙ ◘◚◐●◐◝ ◔◞▮ ●○◙ ◔◖ ◡◐◝◗◚◝◐◙\n",
      "◓◐◎◟◚◝▬ ◞◎◓◚◠●◐◝◞▬ ◘◐ ◞◚◘◞▬ ◢◐◙◞◐◙ ◡◝◔◕ ◔◙\n",
      "●◐ ◐◙ ●◢◔◙◒◟ ◔◙ ●○◟ ◥◚◠ ◘◔◕◙\n",
      "◗○◞◟ ◔◖ ◟◚◟ ◘◔◕◙ ◥◐ ◥◔◕◙ ◡◐◝◗○◙◒◐◙\n",
      "◡○◙ ◖○◙ ◐◐◙ ●◚◙◖◐◝◞◟◐ ◐◝ ◚◘ ◙○○◝\n",
      "◘◔◕◙ ◙◔◐◟ ◗◐◡◐◙ ◘◚◘◐◙◟◐◙▬ ◙◔◐◟ ◘◔◕◙ ◡◝◔◕◓◐◔●▬\n",
      "◗◐◡◐◙ ◗○◙◒◐◝ ●○◟ ◖○◙ ◘◐◐◝ ◐◔◒◐◙ ◐◗◔◞○◍◐◟◓\n",
      "●◝◠◖◟ ◡◐◝●◝○◒◐◙ ◙◔◐◟ ◔◖ ◥◚◠ ◛○●\n",
      "◥◢○○◝ ●○◟ ◓◐◟ ◙◔◐◟ ◥◔◕◙▬ ◟◐\n",
      "\n",
      "------------------- BRIEF 2  -------------------\n",
      "◘◔◕◙ ◍◐◒◝◔◕◛ ◢◔◗ ◢◐ ◥○◗ ◡◝◔◕◓◐◔● ◓◐◎◟◚◝\n",
      "●◔◐◝◍○◝◐ ◕◐ ◡○◙ ◞○◘◐◙ ◍◐◡◝◔◕●◐◙ ◥○◗\n",
      "◐◗◔◞○◍◐◟◓▬ ◢○◙◓◚◚◛▮ ○◙●◐◝◐◙▬ ◙○●◐◙◖◐◙ ◡○◙ ◒◐◡◐◙\n",
      "◕◚◠◢ ○◗◞ ◘◚◐◟◐◙ ◚◡◐◝ ●◐ ◚◘\n",
      "◢◚◚◝●◐◙ ◚◙◥◐ ◢◐ ◐◐◙ ◖◐◟◐◙◐◙ ◚◙◥◐\n",
      "◍◝◐◖◐◙ ◗◔◐◑●◐ ◞◚◘◞ ◛◗○◙▬ ◡○◙ ◗◔◐◑●◐\n",
      "◘◔◕◙ ◍◐●◝◐◔◒● ◐◣◟◝◐◘◐ ◐◐◙ ◚◙●◐◝●◝◠◖◖◔◙◒ ◟◐\n",
      "◓○◝◟▬ ◢◚◝●◟ ◘○○◟◝◐◒◐◗◐◙ ◛◗○◙ ◐◙ ◗◐◡◐◙▮\n",
      "◘○○◝ ●◚◚◝ ◚◡◐◝◢◐◒◐◙▮ ●○◟ ◚◙◞ ◘◐◟\n",
      "◔◖ ●◐ ◗○◟◐◙ ◚◙◞ ●◐ ◡○◞◟◍◐◝○●◐◙◓◐◔●▬\n",
      "\n",
      "------------------- BRIEF 3  -------------------\n",
      "◘◔◕◙ ◔◖ ◚◘ ◠◔◟ ◓○◙●▬ ◚◛ ◟◚◐◖◚◘◞◟ ◐◗◔◞○◍◐◟◓\n",
      "◗◔◐◑◞◟◐ ◢○◎◓◟ ◚◙◞ ●◐ ◐◙ ◕◚◠▬ ◢○○◝◔◙\n",
      "◓◐◎◟◚◝▬ ◚◙◒◐●◠◗●◔◒ ◛◗○◙ ◢◐◒ ◚◙◥◐ ◘◔◕◙ ◢◐\n",
      "●○◙◖ ◚◛ ◔◙ ◟◐ ◗◔◐◑●◐ ◗◔◐◑◞◟◐▬ ◡◝◔◕\n",
      "◕◐ ◕◐ ○◎◟◔◐ ◝◠◔◘◐◙▮ ◥○◗ ◚◘ ◖◠◙◙◐◙\n",
      "◢◐◗ ◍◔◕ ◟◐ ◢◐ ○◗◗◐ ◚◙◞ ◥◔◕◙▮\n",
      "◡◚◚◝ ●◐ ◍◝◐◙◒◐◙ ◥◠◗◗◐◙ ◚◍◞◟○◖◐◗◞ ◟◐ ◘◐◟\n",
      "◕◐ ◚◠●◐ ◐◙ ◞○◘◐◙◢◐◝◖◐◙▬ ◚◡◐◝◢◔◙◙◐◙▮ ◗◐◔●◐◙ ◗◔◐◑●◐\n",
      "◞◙◐◗◗◐ ◐◔◖▬ ◘◔◕◙ ◓○◙● ◔◖ ◙○○◝ ◐◙\n",
      "◝◐○◎◟◔◐▮ ◖◗○○◝ ◘◚◐●◐◝ ◔◙ ◡◐◝◟◝◚◠◢ ◐◐◙ ◡◐◝◟◝◚◠◢◐◙▬\n",
      "\n",
      "------------------- BRIEF 4  -------------------\n",
      "◘◔◕◙ ◘◔◕◙ ◛◗○◙◟◐◙ ●◐ ◠◔◟◡◚◐◝◐◙ ◍◔◕ ◚◙◢○◙◖◐◗◍○◝◐\n",
      "●◔◐◝◍○◝◐ ◗◔◐◑◞◟◐▬ ◡◐◔◗◔◒ ◚◠●◐ ◐◙ ◕◐ ◗◔◐◑●◐▬\n",
      "◐◗◔◞○◍◐◟◓▬ ◔◙ ◡◐◝◥○◘◐◗● ◐◔◖ ◚◙◥◐ ◥◔◕◙▬ ◓◐◎◟◚◝\n",
      "◔◖ ◡◚◚◝▭ ◐◙ ◟◐ ◟◚◐◖◚◘◞◟ ◘◔◕◙\n",
      "◥○◗ ◐◙ ◔◖ ◖◚◘◐◙▬ ◞○◘◐◙ ◗◔◐◑◞◟◐▬\n",
      "○◗◟◔◕● ◟◐◒◐◙◞◛◚◐●▮ ◘○○◖ ◢○○◝ ◥◠◗◗◐◙ ◐◙\n",
      "○○◙ ◔◖ ◘◐ ◢◐ ◡◐◔◗◔◒◞◟◐◗◗◐◙▮ ◢◐\n",
      "◕◐ ◓◐◍ ◖◗○○◝ ◚◙◞ ◔◖ ◥◠◗◗◐◙\n",
      "◥◔◕●◐ ●◐ ◚◘ ◛◗○◙ ◥○◗ ◟◝◔◚◘◑◐◝◐◙▮\n",
      "◞◟○○◙▬ ◒◔◑◟◔◒◐ ◙○○◝ ◥◠◗◗◐◙ ◞◙◐◗ ◘◐◟\n",
      "\n"
     ]
    }
   ],
   "source": [
    "for i in range(4):\n",
    "    print(\"------------------- BRIEF\", i+1, \" -------------------\")\n",
    "    print(brieven_met_tekens[i])\n",
    "    print()"
   ]
  },
  {
   "cell_type": "markdown",
   "metadata": {},
   "source": [
    "Bekijk de teksten in de brieven. De structuur is hier al een stuk minder duidelijk. Het is dus moeilijk om te achterhalen wat de betekenis van de verschillende woorden is. Dat maakt het veel moeilijker om te gokken welke tekens overeenkomen met welke letters."
   ]
  },
  {
   "cell_type": "markdown",
   "metadata": {},
   "source": [
    "#### Frequentieanalyse\n",
    "\n",
    "In de Nederlandse taal komen bepaalde letters vaker voor dan anderen. De letter *e* komt bijvoorbeeld veel vaker voor dan de letter *q*. Deze informatie zouden we kunnen gebruiken om ons te helpen bij het ontcijferen van de tekst. Door te analyseren hoe vaak een teken voorkomt in de brieven, kunnen we een beredeneerde gok maken over de betekenis van de tekens in de tekst.\n",
    "\n",
    "Toen we onderzochten wat de vingerafdruk was van een bepaalde auteur, hebben we ook al een frequentianalyse uitgevoerd. Toen telden we hoeveel bepaalde woorden voorkwamen in de tekst. Hier willen we nu hetzelfde doen maar dan voor de individuele letters van het alfabet."
   ]
  },
  {
   "cell_type": "code",
   "execution_count": null,
   "metadata": {},
   "outputs": [],
   "source": []
  },
  {
   "cell_type": "markdown",
   "metadata": {},
   "source": [
    "**Opdracht:** Baseer je op de functie `zet_tekst_om_naar_vingerafdruk` uit de notebook *auteur_herkennen.ipynb* om een frequentieanalyse te doen van de letters in de teksten met tekens."
   ]
  },
  {
   "cell_type": "code",
   "execution_count": 15,
   "metadata": {},
   "outputs": [],
   "source": [
    "def bepaal_frequentie_tekens_in_tekst(tekst):\n",
    "    frequentie = {}\n",
    "    for teken in tekst:\n",
    "        if teken == \" \" or teken == \"\\n\":\n",
    "            continue\n",
    "        if teken not in frequentie:\n",
    "            frequentie[teken] = 1\n",
    "        else:\n",
    "            frequentie[teken] += 1\n",
    "    return frequentie\n",
    "\n"
   ]
  },
  {
   "cell_type": "code",
   "execution_count": 16,
   "metadata": {},
   "outputs": [
    {
     "name": "stdout",
     "output_type": "stream",
     "text": [
      "{'◐': 697, '◙': 433, '◔': 266, '○': 261, '◟': 221, '◚': 208, '◝': 190, '●': 182, '◗': 178, '◞': 128, '◘': 116, '◕': 93, '◖': 91, '◡': 84, '◓': 82, '◒': 81, '◥': 74, '◍': 68, '◢': 66, '▬': 55, '◠': 47, '▮': 41, '◑': 38, '◛': 35, '◎': 29, '◣': 1, '▭': 1}\n"
     ]
    }
   ],
   "source": [
    "frequenties_tekens = bepaal_frequentie_tekens_in_tekst(\" \".join(brieven_met_tekens))\n",
    "# sorteer de frequenties op basis van de frequentie\n",
    "frequenties_tekens = dict(sorted(frequenties_tekens.items(), key=lambda item: item[1], reverse=True))\n",
    "print(frequenties_tekens)"
   ]
  },
  {
   "cell_type": "code",
   "execution_count": 17,
   "metadata": {},
   "outputs": [
    {
     "name": "stdout",
     "output_type": "stream",
     "text": [
      "{'r': 329, 'a': 181, 'v': 145, 'n': 129, 'g': 121, 'b': 104, 'e': 100, 'y': 89, 'q': 81, 'w': 75, 'z': 71, 'u': 63, 'f': 59, 'x': 42, 't': 40, 'o': 37, ',': 36, 'j': 36, 'i': 34, '.': 32, 's': 31, 'h': 25, 'p': 24, 'm': 22, 'c': 11}\n"
     ]
    }
   ],
   "source": [
    "frequenties_letters = bepaal_frequentie_tekens_in_tekst(\" \".join(brieven_met_letters))\n",
    "# sorteer de frequenties op basis van de frequentie\n",
    "frequenties_letters = dict(sorted(frequenties_letters.items(), key=lambda item: item[1], reverse=True))\n",
    "print(frequenties_letters)"
   ]
  },
  {
   "cell_type": "code",
   "execution_count": 18,
   "metadata": {},
   "outputs": [
    {
     "name": "stdout",
     "output_type": "stream",
     "text": [
      "{'e': 684, 'n': 433, 'a': 260, 'i': 252, 't': 221, 'o': 206, 'r': 190, 'd': 179, 'l': 172, 's': 127, 'm': 92, 'k': 91, 'j': 90, 'v': 83, 'g': 80, 'z': 74, 'h': 67, 'b': 67, 'w': 62, ',': 55, 'u': 47, '.': 41, 'f': 38, 'p': 35, 'c': 29, 'M': 24, 'H': 15, 'I': 14, 'E': 13, 'L': 6, 'W': 4, 'D': 3, 'J': 3, 'O': 2, 'V': 1, 'S': 1, 'A': 1, 'x': 1, '-': 1, 'G': 1, 'B': 1}\n"
     ]
    }
   ],
   "source": [
    "brieven_met_tekens_origineel = lees_bestanden_in_map(\"brieven\\\\in_cols\")\n",
    "frequenties_letters = bepaal_frequentie_tekens_in_tekst(\" \".join(brieven_met_tekens_origineel))\n",
    "# sorteer de frequenties op basis van de frequentie\n",
    "frequenties_letters = dict(sorted(frequenties_letters.items(), key=lambda item: item[1], reverse=True))\n",
    "print(frequenties_letters)"
   ]
  }
 ],
 "metadata": {
  "kernelspec": {
   "display_name": "Python 3",
   "language": "python",
   "name": "python3"
  },
  "language_info": {
   "codemirror_mode": {
    "name": "ipython",
    "version": 3
   },
   "file_extension": ".py",
   "mimetype": "text/x-python",
   "name": "python",
   "nbconvert_exporter": "python",
   "pygments_lexer": "ipython3",
   "version": "3.12.0b2"
  }
 },
 "nbformat": 4,
 "nbformat_minor": 2
}
