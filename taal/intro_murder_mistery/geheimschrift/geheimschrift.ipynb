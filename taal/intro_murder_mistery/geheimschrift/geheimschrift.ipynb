{
 "cells": [
  {
   "cell_type": "markdown",
   "metadata": {},
   "source": [
    "# Het de geheime brieven\n",
    "\n",
    "Vele honderden jaren na de dood van barones Heloisa werd er, op de plaats waar vroeger de stallingen van het kasteel stonden, een kistje opgegraven. In dat kistje zat een reeks van brieven. Koolstofdatering wijst aan dat de brieven geschreven werden in de periode rond de dood van barones Heloisa. Ze zouden dus informatie kunnen bevatten over hoe Heloisa aan haar einde is gekomen. Helaas is het niet zo eenvoudig om te achterhalen wat de inhoud van de brieven juist is. De brieven zijn namelijk geschreven in geheimschrift. In deze notebook proberen we de brieven te ontcijferen."
   ]
  },
  {
   "cell_type": "markdown",
   "metadata": {},
   "source": [
    "## Twee soorten brieven\n",
    "\n",
    "Wanneer we de brieven bekijken, zien we dat er twee verschillende soorten versleuteling gebruikt werden. In de ene soort zijn de letters van het alfabet nog te herkennen. In de tweede soort zien we enkel symbolen. Hieronder starten we met het ontcijferen van de teksten die gebruik maken van letters."
   ]
  },
  {
   "cell_type": "markdown",
   "metadata": {},
   "source": [
    "## Met letters\n",
    "\n",
    "We starten met het ontcijferen van de brieven die enkel letters uit het alfabet bevatten. Dit lijkt op het eerste zicht het eenvoudigste probleem.  De brieven met enkel letters bevinden zich in de map *brieven/met_letters*.\n"
   ]
  },
  {
   "cell_type": "markdown",
   "metadata": {},
   "source": [
    "### Analyse van de brieven"
   ]
  },
  {
   "cell_type": "markdown",
   "metadata": {},
   "source": [
    "**Opdracht:** Je weet intussen hoe je de tekstbestanden in een map moet inlezen in Python. Dat heb je immers gedaan in de notebook *auteur_herkennen.ipynb*. Schrijf hieronder een python functie die alle tekstbestanden in een opgegeven map leest en opslaat in een lijst. De functie geeft ook deze lijst terug."
   ]
  },
  {
   "cell_type": "code",
   "execution_count": 1,
   "metadata": {},
   "outputs": [],
   "source": [
    "#import os\n",
    "\n",
    "# Deze functie leest de tekst in een bestand en geeft die terug als een string.\n",
    "#def lees_bestand(bestandsnaam):\n",
    "    # Vul deze functie aan\n",
    "\n",
    "# Deze functie leest de tekst in alle bestanden in een map en geeft die terug als een lijst van strings.\n",
    "#def lees_bestanden_in_map(mapnaam):\n",
    "    # Vul deze functie aan"
   ]
  },
  {
   "cell_type": "code",
   "execution_count": 2,
   "metadata": {},
   "outputs": [],
   "source": [
    "import os\n",
    "\n",
    "# Deze functie leest de tekst in een bestand en geeft die terug als een string.\n",
    "def lees_bestand(bestandsnaam):\n",
    "    with open(bestandsnaam, encoding=\"utf-8\") as f:\n",
    "        inhoud = f.read()\n",
    "    return inhoud\n",
    "\n",
    "# Deze functie leest de tekst in alle bestanden in een map en geeft die terug als een lijst van strings.\n",
    "def lees_bestanden_in_map(mapnaam):\n",
    "    bestanden = os.listdir(mapnaam)\n",
    "    inhoud = []\n",
    "    for bestand in bestanden:\n",
    "        if bestand.endswith(\".txt\"):\n",
    "            inhoud.append(lees_bestand(mapnaam + \"/\" + bestand))\n",
    "    return inhoud"
   ]
  },
  {
   "cell_type": "markdown",
   "metadata": {},
   "source": [
    "**Opdracht:** Roep de functie `lees_bestanden_in_map` op en sla de waarde op in de variabele met naam `brieven_met_letters`."
   ]
  },
  {
   "cell_type": "code",
   "execution_count": 3,
   "metadata": {},
   "outputs": [],
   "source": [
    "#brieven_met_letters = # Vul hier de juiste functie aan"
   ]
  },
  {
   "cell_type": "code",
   "execution_count": 4,
   "metadata": {},
   "outputs": [],
   "source": [
    "brieven_met_letters = lees_bestanden_in_map(\"brieven\\\\met_letters\")"
   ]
  },
  {
   "cell_type": "markdown",
   "metadata": {},
   "source": [
    "**Opdracht:** Druk de vier eerste brieven af op het scherm."
   ]
  },
  {
   "cell_type": "code",
   "execution_count": 5,
   "metadata": {},
   "outputs": [],
   "source": [
    "#for i in range(4):\n",
    "    # Vul hier de juiste code aan"
   ]
  },
  {
   "cell_type": "code",
   "execution_count": 6,
   "metadata": {},
   "outputs": [
    {
     "name": "stdout",
     "output_type": "stream",
     "text": [
      "------------------- BRIEF 1  -------------------\n",
      "zvwa tryvrsqr urpgbe,\n",
      "\n",
      "ryxr bpugraq ireynat vx anne wr nnajrmvturvq, anne qr grqreurvq ina wr nnaenxvat. wvw orag zvwa zrgtrmry, zvwa tryvwxr. zvwa zbrqre qevatg nna bc rra uhjryvwx zrg senaf, znne zvwa uneg orubbeg gbr nna wbh.\n",
      "\n",
      "zrg yvrsqr,\n",
      "\n",
      "ryvfnorgu\n",
      "\n",
      "------------------- BRIEF 2  -------------------\n",
      "zvwa qvreoner ryvfnorgu,\n",
      "\n",
      "zvwa uneg oerrxg ovw urg yrmra ina wr jbbeqra. znne trrs qr zbrq avrg bc, zvwa yvrsfgr. vx mny re nygvwq ibbe wr mvwa, jng re bbx trorheg. oyvws irpugra, fnzra mhyyra jr rra bcybffvat ivaqra.\n",
      "\n",
      "zrg bajnaxryoner yvrsqr,\n",
      "\n",
      "urpgbe\n",
      "\n",
      "------------------- BRIEF 3  -------------------\n",
      "zvwa qvreoner ryvfnorgu,\n",
      "\n",
      "wbhj jbbeqra ireyvpugra zvwa qbaxrefgr qntra. zvwa uneg vf ireihyq ina ierhtqr ovw qr trqnpugr nna baf fnzramvwa. yngra jr irpugra ibbe bamr yvrsqr, zvwa yvrsfgr.\n",
      "\n",
      "zrg yvrsqr,\n",
      "\n",
      "urpgbe\n",
      "\n",
      "------------------- BRIEF 4  -------------------\n",
      "zvwa yvrsfgr urpgbe,\n",
      "\n",
      "vx qebbz ina rra gbrxbzfg jnneva bamr yvrsqr ievw xna oybrvra. ynng baf zbrqvt mvwa ra qr bofgnxryf fnzra birejvaara. senaf vf avrg zvwa ybg, wvw orag qng jry.\n",
      "\n",
      "yvrsf,\n",
      "\n",
      "ryvfnorgu\n",
      "\n"
     ]
    }
   ],
   "source": [
    "for i in range(4):\n",
    "    print(\"------------------- BRIEF\", i+1, \" -------------------\")\n",
    "    print(brieven_met_letters[i])\n",
    "    print()"
   ]
  },
  {
   "cell_type": "markdown",
   "metadata": {},
   "source": [
    "Je merkt dat de brieven onleesbaar zijn. Toch zien we aan de structuur van de brieven dat deze een gesprek tussen twee personen bevatten. "
   ]
  },
  {
   "cell_type": "markdown",
   "metadata": {},
   "source": [
    "**Opdracht:** Bekijk nog een aantal andere brieven. Wat zijn volgens jou de namen van de personen die hier met elkaar communiceren?"
   ]
  },
  {
   "cell_type": "code",
   "execution_count": 7,
   "metadata": {},
   "outputs": [
    {
     "name": "stdout",
     "output_type": "stream",
     "text": [
      "zvwa tryvrsqr urpgbe,\n",
      "\n",
      "zvwa uneg xna avrg naqref qna wbhj annz syhvfgrera. ynng baf fnzra fgevwqra grtra qr qehx ina qr jreryq bz baf urra. wvw orag zvwa ybg, zvwa yvrsqr, zvwa nyyrf.\n",
      "\n",
      "nygvwq,\n",
      "\n",
      "ryvfnorgu\n"
     ]
    }
   ],
   "source": [
    "print(brieven_met_letters[5])"
   ]
  },
  {
   "cell_type": "markdown",
   "metadata": {},
   "source": [
    "### Een gokje wagen\n",
    "\n",
    "Wanneer je de brieven goed bekijkt, zie je dat deze telkens eindigen met de woorden *ryvfnorgu* of *urpgbe*. Dat doet ons vermoeden dat dit de namen zijn van de twee personen die met elkaar communiceren. We kennen intussen een aantal namen van personen uit de dichte omgeving van de barones: Elisabeth, Gregorius, Heloisa, Hugo, Johannes en Frans.\n",
    "\n",
    "**Opdracht:** Welke van de namen die we al kennen zou deze brieven geschreven kunnen hebben?"
   ]
  },
  {
   "cell_type": "markdown",
   "metadata": {},
   "source": [
    "#### De lengte controleren\n",
    "\n",
    "Een eerste vermoeden dat we kunnen hebben is dat de lengte van de namen gelijk moet zijn. Door dit te controleren kunnen we al heel wat namen uitsluiten. De code hieronder overloopt voor elke naam in geheimschrift, alle namen die we kennen en controleert of die even lang zijn. Voer de code uit om te zien welke personen mogelijks met elkaar spreken in deze brieven."
   ]
  },
  {
   "cell_type": "code",
   "execution_count": 8,
   "metadata": {},
   "outputs": [
    {
     "name": "stdout",
     "output_type": "stream",
     "text": [
      "ryvfnorgu kan elisabeth zijn\n",
      "ryvfnorgu kan gregorius zijn\n"
     ]
    }
   ],
   "source": [
    "gekende_namen = [\"elisabeth\", \"gregorius\", \"heloisa\", \"hugo\", \"johannes\", \"frans\"]\n",
    "geheime_namen = [\"ryvfnorgu\", \"nygvwq\"]\n",
    "\n",
    "for geheime_naam in geheime_namen:\n",
    "    for gekende_naam in gekende_namen:\n",
    "        if len(geheime_naam) == len(gekende_naam):\n",
    "            print(geheime_naam, \"kan\", gekende_naam, \"zijn\")"
   ]
  },
  {
   "cell_type": "markdown",
   "metadata": {},
   "source": [
    "*ryvfnorgu* zou Elisabeth of Gregorius kunnen zijn. Voor *nygvwq* zijn er geen namen met evenveel letters gevonden. Over *nygvwq* kunnen we dus nog niets zeggen. "
   ]
  },
  {
   "cell_type": "markdown",
   "metadata": {},
   "source": [
    "Wanneer we veronderstellen dat elke letter een-op-een vervangen werd door een andere letter, kunnen we ook uitsluiten dat *ryvfnorgu* overeenkomt met de naam Gregorius. **Zie jij waarom?** Om dezelfde reden lijkt de kans groot dat *ryvfnorgu* overeenkomt met Elisabeth."
   ]
  },
  {
   "cell_type": "markdown",
   "metadata": {},
   "source": [
    "#### Letters vervangen\n",
    "\n",
    "Nu we een vermoeden hebben dat de letters van *ryvfnorgu* overeenkomen met de letters van Elisabeth, kunnen we in onze brieven de letters van *ryvfnorgu* overal vervangen. Dat doen we in de codecellen hieronder."
   ]
  },
  {
   "cell_type": "code",
   "execution_count": 9,
   "metadata": {},
   "outputs": [],
   "source": [
    "mapping_letters = {\n",
    "    \"r\": \"e\",\n",
    "    \"y\": \"l\",\n",
    "    \"v\": \"i\",\n",
    "    \"f\": \"s\",\n",
    "    \"n\": \"a\",\n",
    "    \"o\": \"b\",\n",
    "    \"g\": \"t\",\n",
    "    \"u\": \"h\",\n",
    "}\n",
    "\n",
    "def vervang_letters_in_brieven(brieven, mapping):\n",
    "    nieuwe_brieven = []\n",
    "    for brief in brieven:\n",
    "        nieuwe_brief = \"\"\n",
    "        for letter in brief:\n",
    "            if letter.lower() in mapping:\n",
    "                nieuwe_brief += mapping[letter.lower()].upper()\n",
    "            else:\n",
    "                nieuwe_brief += letter\n",
    "        nieuwe_brieven.append(nieuwe_brief)\n",
    "    return nieuwe_brieven\n",
    "\n",
    "brieven_met_letters_vervangen = vervang_letters_in_brieven(brieven_met_letters, mapping_letters)"
   ]
  },
  {
   "cell_type": "markdown",
   "metadata": {},
   "source": [
    "**Opdracht:** Bekijk de eerste drie brieven waarin je de letters vervangen hebt. Herken je bepaalde woorden? "
   ]
  },
  {
   "cell_type": "code",
   "execution_count": 10,
   "metadata": {},
   "outputs": [
    {
     "name": "stdout",
     "output_type": "stream",
     "text": [
      "------------------- BRIEF 1  -------------------\n",
      "zIwa tELIEsqE HEpTbe,\n",
      "\n",
      "ELxE bpHTEaq iEeLAat Ix aAAe wE AAajEmItHEIq, aAAe qE TEqEeHEIq iAa wE AAaeAxIat. wIw BEaT zIwa zETtEmEL, zIwa tELIwxE. zIwa zbEqEe qeIatT AAa bc EEa HhjELIwx zET seAaS, zAAe zIwa HAeT BEHbbeT TbE AAa wbh.\n",
      "\n",
      "zET LIEsqE,\n",
      "\n",
      "ELISABETH\n",
      "\n",
      "------------------- BRIEF 2  -------------------\n",
      "zIwa qIEeBAeE ELISABETH,\n",
      "\n",
      "zIwa HAeT BeEExT BIw HET LEmEa iAa wE jbbeqEa. zAAe tEEs qE zbEq aIET bc, zIwa LIEsSTE. Ix mAL Ee ALTIwq ibbe wE mIwa, jAT Ee bbx tEBEheT. BLIws iEpHTEa, SAzEa mhLLEa jE EEa bcLbSSIat iIaqEa.\n",
      "\n",
      "zET bajAaxELBAeE LIEsqE,\n",
      "\n",
      "HEpTbe\n",
      "\n",
      "------------------- BRIEF 3  -------------------\n",
      "zIwa qIEeBAeE ELISABETH,\n",
      "\n",
      "wbhj jbbeqEa iEeLIpHTEa zIwa qbaxEeSTE qAtEa. zIwa HAeT IS iEeihLq iAa ieEhtqE BIw qE tEqApHTE AAa baS SAzEamIwa. LATEa jE iEpHTEa ibbe bamE LIEsqE, zIwa LIEsSTE.\n",
      "\n",
      "zET LIEsqE,\n",
      "\n",
      "HEpTbe\n",
      "\n"
     ]
    }
   ],
   "source": [
    "for i in range(3):\n",
    "    print(\"------------------- BRIEF\", i+1, \" -------------------\")\n",
    "    print(brieven_met_letters_vervangen[i])\n",
    "    print()"
   ]
  },
  {
   "cell_type": "markdown",
   "metadata": {},
   "source": [
    "**Opdracht:** Ga op zoek naar woorden die je mogelijks herkent. Voeg de ontbrekende letters toe aan de mapping van de letters (`mapping_letters`). Voer dan bovenstaande twee codecellen opnieuw uit. Als je nieuwe mapping correct is, zou je de tekst nu nog beter moeten begrijpen. Herhaal deze stappen tot je de volledige tekst kan lezen."
   ]
  },
  {
   "cell_type": "code",
   "execution_count": 11,
   "metadata": {},
   "outputs": [],
   "source": [
    "mapping_letters = {\n",
    "    \"r\": \"e\",\n",
    "    \"y\": \"l\",\n",
    "    \"v\": \"i\",\n",
    "    \"f\": \"s\",\n",
    "    \"n\": \"a\",\n",
    "    \"o\": \"b\",\n",
    "    \"g\": \"t\",\n",
    "    \"u\": \"h\",\n",
    "    \"s\": \"f\",\n",
    "    \"x\": \"k\",\n",
    "    \"q\": \"d\",\n",
    "    \"z\": \"m\",\n",
    "    \"w\": \"j\",\n",
    "    \"a\": \"n\",\n",
    "    \"t\": \"g\",\n",
    "    \"b\": \"o\",\n",
    "    \"p\": \"c\",\n",
    "    \"i\": \"v\",\n",
    "    \"e\": \"r\",\n",
    "    \"m\": \"z\",\n",
    "    \"c\": \"p\",\n",
    "    \"h\": \"u\",\n",
    "    \"j\": \"w\",\n",
    "}\n",
    "\n",
    "def vervang_letters_in_brieven(brieven, mapping):\n",
    "    nieuwe_brieven = []\n",
    "    for brief in brieven:\n",
    "        nieuwe_brief = \"\"\n",
    "        for letter in brief:\n",
    "            if letter.lower() in mapping:\n",
    "                nieuwe_brief += mapping[letter.lower()].upper()\n",
    "            else:\n",
    "                nieuwe_brief += letter\n",
    "        nieuwe_brieven.append(nieuwe_brief)\n",
    "    return nieuwe_brieven\n",
    "\n",
    "brieven_met_letters_vervangen = vervang_letters_in_brieven(brieven_met_letters, mapping_letters)"
   ]
  },
  {
   "cell_type": "code",
   "execution_count": 12,
   "metadata": {},
   "outputs": [
    {
     "name": "stdout",
     "output_type": "stream",
     "text": [
      "------------------- BRIEF 1  -------------------\n",
      "MIJN GELIEFDE HECTOR,\n",
      "\n",
      "ELKE OCHTEND VERLANG IK NAAR JE AANWEZIGHEID, NAAR DE TEDERHEID VAN JE AANRAKING. JIJ BENT MIJN METGEZEL, MIJN GELIJKE. MIJN MOEDER DRINGT AAN OP EEN HUWELIJK MET FRANS, MAAR MIJN HART BEHOORT TOE AAN JOU.\n",
      "\n",
      "MET LIEFDE,\n",
      "\n",
      "ELISABETH\n",
      "\n",
      "------------------- BRIEF 2  -------------------\n",
      "MIJN DIERBARE ELISABETH,\n",
      "\n",
      "MIJN HART BREEKT BIJ HET LEZEN VAN JE WOORDEN. MAAR GEEF DE MOED NIET OP, MIJN LIEFSTE. IK ZAL ER ALTIJD VOOR JE ZIJN, WAT ER OOK GEBEURT. BLIJF VECHTEN, SAMEN ZULLEN WE EEN OPLOSSING VINDEN.\n",
      "\n",
      "MET ONWANKELBARE LIEFDE,\n",
      "\n",
      "HECTOR\n",
      "\n",
      "------------------- BRIEF 3  -------------------\n",
      "MIJN DIERBARE ELISABETH,\n",
      "\n",
      "JOUW WOORDEN VERLICHTEN MIJN DONKERSTE DAGEN. MIJN HART IS VERVULD VAN VREUGDE BIJ DE GEDACHTE AAN ONS SAMENZIJN. LATEN WE VECHTEN VOOR ONZE LIEFDE, MIJN LIEFSTE.\n",
      "\n",
      "MET LIEFDE,\n",
      "\n",
      "HECTOR\n",
      "\n",
      "------------------- BRIEF 4  -------------------\n",
      "MIJN LIEFSTE HECTOR,\n",
      "\n",
      "IK DROOM VAN EEN TOEKOMST WAARIN ONZE LIEFDE VRIJ KAN BLOEIEN. LAAT ONS MOEDIG ZIJN EN DE OBSTAKELS SAMEN OVERWINNEN. FRANS IS NIET MIJN LOT, JIJ BENT DAT WEL.\n",
      "\n",
      "LIEFS,\n",
      "\n",
      "ELISABETH\n",
      "\n",
      "------------------- BRIEF 5  -------------------\n",
      "MIJN DIERBARE ELISABETH,\n",
      "\n",
      "SAMEN ZIJN WE STERK. LATEN WE ONZE DROMEN NAJAGEN, ONGEACHT DE VERWACHTINGEN VAN ANDEREN. ONZE LIEFDE ZAL ALLES OVERWINNEN.\n",
      "\n",
      "MET PASSIE,\n",
      "\n",
      "HECTOR\n",
      "\n",
      "------------------- BRIEF 6  -------------------\n",
      "MIJN GELIEFDE HECTOR,\n",
      "\n",
      "MIJN HART KAN NIET ANDERS DAN JOUW NAAM FLUISTEREN. LAAT ONS SAMEN STRIJDEN TEGEN DE DRUK VAN DE WERELD OM ONS HEEN. JIJ BENT MIJN LOT, MIJN LIEFDE, MIJN ALLES.\n",
      "\n",
      "ALTIJD,\n",
      "\n",
      "ELISABETH\n",
      "\n",
      "------------------- BRIEF 7  -------------------\n",
      "MIJN DIERBARE ELISABETH,\n",
      "\n",
      "JOUW LIEFDE IS MIJN KRACHT. LAAT ONS SAMEN VECHTEN VOOR ONZE TOEKOMST, ONGEACHT DE HINDERNISSEN DIE OP ONS PAD KOMEN. ONZE LIEFDE ZAL ALTIJD ZEGEVIEREN.\n",
      "\n",
      "MET EEUWIGE LIEFDE,\n",
      "\n",
      "HECTOR\n",
      "\n",
      "------------------- BRIEF 8  -------------------\n",
      "MIJN GELIEFDE HECTOR,\n",
      "\n",
      "IK SCHRIJF JE MET EEN ZWAAR HART, DOORDRONGEN VAN WANHOOP. DE DRUK OM MET FRANS TE TROUWEN WORDT ONDRAAGLIJK. MIJN MOEDER BLIJFT ME BESTOKEN MET ZIJN DEUGDEN EN DE VOORDELEN VAN EEN DERGELIJK HUWELIJK, MAAR MIJN HART HUILT BIJ DE GEDACHTE AAN EEN LEVEN ZONDER JOU.\n",
      "\n",
      "MET EEN GEBROKEN HART,\n",
      "\n",
      "ELISABETH\n",
      "\n",
      "------------------- BRIEF 9  -------------------\n",
      "MIJN DIERBARE ELISABETH,\n",
      "\n",
      "MIJN HART HUILT MET HET JOUWE. MAAR LATEN WE NIET TOEGEVEN AAN WANHOOP. SAMEN ZULLEN WE EEN UITWEG VINDEN, HOE MOEILIJK HET OOK LIJKT. BLIJF MOEDIG, MIJN LIEFSTE.\n",
      "\n",
      "MET LIEFDE,\n",
      "\n",
      "HECTOR\n",
      "\n",
      "------------------- BRIEF 10  -------------------\n",
      "MIJN LIEFSTE HECTOR,\n",
      "\n",
      "IK BEN VERSTRIKT GERAAKT IN EEN WEB VAN VERPLICHTINGEN EN VERWACHTINGEN. HET LIJKT ALSOF ELKE WEG DIE IK PROBEER TE BEWANDELEN ME TERUGLEIDT NAAR HET ONVERMIJDELIJKE HUWELIJK MET FRANS. IK WEET NIET HOE IK NOG LANGER STAND KAN HOUDEN.\n",
      "\n",
      "GEBROKEN EN HOPELOOS,\n",
      "\n",
      "ELISABETH\n",
      "\n"
     ]
    }
   ],
   "source": [
    "for i in range(10):\n",
    "    print(\"------------------- BRIEF\", i+1, \" -------------------\")\n",
    "    print(brieven_met_letters_vervangen[i])\n",
    "    print()"
   ]
  },
  {
   "cell_type": "markdown",
   "metadata": {},
   "source": [
    "#### Het verhaal\n",
    "\n",
    "Na wat zoekwerk zou je de brieven met letters terug leesbaar hebben kunnen maken. Lees de brieven, geeft het je meer informatie over de dood van barones Heloisa?"
   ]
  },
  {
   "cell_type": "markdown",
   "metadata": {},
   "source": [
    "## Met tekens\n",
    "\n",
    "### Analyse van de brieven\n",
    "\n",
    "Naast de brieven met letters zijn er ook een aantal brieven waarin enkel speciale tekens staan. Gebruik Python om deze brieven in te lezen en de inhoud ervan te bekijken."
   ]
  },
  {
   "cell_type": "code",
   "execution_count": 13,
   "metadata": {},
   "outputs": [],
   "source": [
    "brieven_met_tekens = lees_bestanden_in_map(\"brieven\\\\met_tekens\")"
   ]
  },
  {
   "cell_type": "code",
   "execution_count": 14,
   "metadata": {},
   "outputs": [
    {
     "name": "stdout",
     "output_type": "stream",
     "text": [
      "------------------- BRIEF 1  -------------------\n",
      "◘◔◕◙ ◚◛ ◘◔◕◙ ◘◔◕◙◐ ○◙●◐◝◞ ◥◚●○◟ ◖◔◐◥◐◙▮\n",
      "◒◐◗◔◐◑●◐ ◘◔◕◙ ◘◚◐●◐◝ ◔◞▮ ●○◙ ◔◖ ◡◐◝◗◚◝◐◙\n",
      "◓◐◎◟◚◝▬ ◞◎◓◚◠●◐◝◞▬ ◘◐ ◞◚◘◞▬ ◢◐◙◞◐◙ ◡◝◔◕ ◔◙\n",
      "●◐ ◐◙ ●◢◔◙◒◟ ◔◙ ●○◟ ◥◚◠ ◘◔◕◙\n",
      "◗○◞◟ ◔◖ ◟◚◟ ◘◔◕◙ ◥◐ ◥◔◕◙ ◡◐◝◗○◙◒◐◙\n",
      "◡○◙ ◖○◙ ◐◐◙ ●◚◙◖◐◝◞◟◐ ◐◝ ◚◘ ◙○○◝\n",
      "◘◔◕◙ ◙◔◐◟ ◗◐◡◐◙ ◘◚◘◐◙◟◐◙▬ ◙◔◐◟ ◘◔◕◙ ◡◝◔◕◓◐◔●▬\n",
      "◗◐◡◐◙ ◗○◙◒◐◝ ●○◟ ◖○◙ ◘◐◐◝ ◐◔◒◐◙ ◐◗◔◞○◍◐◟◓\n",
      "●◝◠◖◟ ◡◐◝●◝○◒◐◙ ◙◔◐◟ ◔◖ ◥◚◠ ◛○●\n",
      "◥◢○○◝ ●○◟ ◓◐◟ ◙◔◐◟ ◥◔◕◙▬ ◟◐\n",
      "\n",
      "------------------- BRIEF 2  -------------------\n",
      "◘◔◕◙ ◍◐◒◝◔◕◛ ◢◔◗ ◢◐ ◥○◗ ◡◝◔◕◓◐◔● ◓◐◎◟◚◝\n",
      "●◔◐◝◍○◝◐ ◕◐ ◡○◙ ◞○◘◐◙ ◍◐◡◝◔◕●◐◙ ◥○◗\n",
      "◐◗◔◞○◍◐◟◓▬ ◢○◙◓◚◚◛▮ ○◙●◐◝◐◙▬ ◙○●◐◙◖◐◙ ◡○◙ ◒◐◡◐◙\n",
      "◕◚◠◢ ○◗◞ ◘◚◐◟◐◙ ◚◡◐◝ ●◐ ◚◘\n",
      "◢◚◚◝●◐◙ ◚◙◥◐ ◢◐ ◐◐◙ ◖◐◟◐◙◐◙ ◚◙◥◐\n",
      "◍◝◐◖◐◙ ◗◔◐◑●◐ ◞◚◘◞ ◛◗○◙▬ ◡○◙ ◗◔◐◑●◐\n",
      "◘◔◕◙ ◍◐●◝◐◔◒● ◐◣◟◝◐◘◐ ◐◐◙ ◚◙●◐◝●◝◠◖◖◔◙◒ ◟◐\n",
      "◓○◝◟▬ ◢◚◝●◟ ◘○○◟◝◐◒◐◗◐◙ ◛◗○◙ ◐◙ ◗◐◡◐◙▮\n",
      "◘○○◝ ●◚◚◝ ◚◡◐◝◢◐◒◐◙▮ ●○◟ ◚◙◞ ◘◐◟\n",
      "◔◖ ●◐ ◗○◟◐◙ ◚◙◞ ●◐ ◡○◞◟◍◐◝○●◐◙◓◐◔●▬\n",
      "\n",
      "------------------- BRIEF 3  -------------------\n",
      "◘◔◕◙ ◔◖ ◚◘ ◠◔◟ ◓○◙●▬ ◚◛ ◟◚◐◖◚◘◞◟ ◐◗◔◞○◍◐◟◓\n",
      "◗◔◐◑◞◟◐ ◢○◎◓◟ ◚◙◞ ●◐ ◐◙ ◕◚◠▬ ◢○○◝◔◙\n",
      "◓◐◎◟◚◝▬ ◚◙◒◐●◠◗●◔◒ ◛◗○◙ ◢◐◒ ◚◙◥◐ ◘◔◕◙ ◢◐\n",
      "●○◙◖ ◚◛ ◔◙ ◟◐ ◗◔◐◑●◐ ◗◔◐◑◞◟◐▬ ◡◝◔◕\n",
      "◕◐ ◕◐ ○◎◟◔◐ ◝◠◔◘◐◙▮ ◥○◗ ◚◘ ◖◠◙◙◐◙\n",
      "◢◐◗ ◍◔◕ ◟◐ ◢◐ ○◗◗◐ ◚◙◞ ◥◔◕◙▮\n",
      "◡◚◚◝ ●◐ ◍◝◐◙◒◐◙ ◥◠◗◗◐◙ ◚◍◞◟○◖◐◗◞ ◟◐ ◘◐◟\n",
      "◕◐ ◚◠●◐ ◐◙ ◞○◘◐◙◢◐◝◖◐◙▬ ◚◡◐◝◢◔◙◙◐◙▮ ◗◐◔●◐◙ ◗◔◐◑●◐\n",
      "◞◙◐◗◗◐ ◐◔◖▬ ◘◔◕◙ ◓○◙● ◔◖ ◙○○◝ ◐◙\n",
      "◝◐○◎◟◔◐▮ ◖◗○○◝ ◘◚◐●◐◝ ◔◙ ◡◐◝◟◝◚◠◢ ◐◐◙ ◡◐◝◟◝◚◠◢◐◙▬\n",
      "\n",
      "------------------- BRIEF 4  -------------------\n",
      "◘◔◕◙ ◘◔◕◙ ◛◗○◙◟◐◙ ●◐ ◠◔◟◡◚◐◝◐◙ ◍◔◕ ◚◙◢○◙◖◐◗◍○◝◐\n",
      "●◔◐◝◍○◝◐ ◗◔◐◑◞◟◐▬ ◡◐◔◗◔◒ ◚◠●◐ ◐◙ ◕◐ ◗◔◐◑●◐▬\n",
      "◐◗◔◞○◍◐◟◓▬ ◔◙ ◡◐◝◥○◘◐◗● ◐◔◖ ◚◙◥◐ ◥◔◕◙▬ ◓◐◎◟◚◝\n",
      "◔◖ ◡◚◚◝▭ ◐◙ ◟◐ ◟◚◐◖◚◘◞◟ ◘◔◕◙\n",
      "◥○◗ ◐◙ ◔◖ ◖◚◘◐◙▬ ◞○◘◐◙ ◗◔◐◑◞◟◐▬\n",
      "○◗◟◔◕● ◟◐◒◐◙◞◛◚◐●▮ ◘○○◖ ◢○○◝ ◥◠◗◗◐◙ ◐◙\n",
      "○○◙ ◔◖ ◘◐ ◢◐ ◡◐◔◗◔◒◞◟◐◗◗◐◙▮ ◢◐\n",
      "◕◐ ◓◐◍ ◖◗○○◝ ◚◙◞ ◔◖ ◥◠◗◗◐◙\n",
      "◥◔◕●◐ ●◐ ◚◘ ◛◗○◙ ◥○◗ ◟◝◔◚◘◑◐◝◐◙▮\n",
      "◞◟○○◙▬ ◒◔◑◟◔◒◐ ◙○○◝ ◥◠◗◗◐◙ ◞◙◐◗ ◘◐◟\n",
      "\n"
     ]
    }
   ],
   "source": [
    "for i in range(4):\n",
    "    print(\"------------------- BRIEF\", i+1, \" -------------------\")\n",
    "    print(brieven_met_tekens[i])\n",
    "    print()"
   ]
  },
  {
   "cell_type": "markdown",
   "metadata": {},
   "source": [
    "Bekijk de teksten in de brieven. De structuur is hier al een stuk minder duidelijk. Het is dus moeilijk om te achterhalen wat de betekenis van de verschillende woorden is. Dat maakt het veel moeilijker om te gokken welke tekens overeenkomen met welke letters."
   ]
  },
  {
   "cell_type": "markdown",
   "metadata": {},
   "source": [
    "#### Frequentie-analyse\n",
    "\n",
    "In de Nederlandse taal komen bepaalde letters vaker voor dan anderen. De letter *e* komt bijvoorbeeld veel vaker voor dan de letter *q*. Deze informatie zouden we kunnen gebruiken om ons te helpen bij het ontcijferen van de tekst. Door te analyseren hoe vaak een teken voorkomt in de brieven, kunnen we een beredeneerde gok maken over de betekenis van de tekens in de tekst.\n",
    "\n",
    "Toen we onderzochten wat de vingerafdruk was van een bepaalde auteur, hebben we ook al een frequentie-analyse uitgevoerd. Toen telden we hoeveel bepaalde woorden voorkwamen in de tekst. Hier willen we nu hetzelfde doen maar dan voor de individuele letters van het alfabet."
   ]
  },
  {
   "cell_type": "markdown",
   "metadata": {},
   "source": [
    "**Opdracht:** Baseer je op de functie `zet_tekst_om_naar_vingerafdruk` uit de notebook *auteur_herkennen.ipynb* om een frequentieanalyse te doen van de letters in de teksten met tekens."
   ]
  },
  {
   "cell_type": "code",
   "execution_count": 15,
   "metadata": {},
   "outputs": [],
   "source": [
    "def bepaal_frequentie_tekens_in_tekst(tekst):\n",
    "    frequentie = {}\n",
    "    for teken in tekst:\n",
    "        if teken == \" \" or teken == \"\\n\":\n",
    "            continue\n",
    "        if teken not in frequentie:\n",
    "            frequentie[teken] = 1\n",
    "        else:\n",
    "            frequentie[teken] += 1\n",
    "    return frequentie\n",
    "\n"
   ]
  },
  {
   "cell_type": "code",
   "execution_count": 16,
   "metadata": {},
   "outputs": [
    {
     "name": "stdout",
     "output_type": "stream",
     "text": [
      "{'◐': 697, '◙': 433, '◔': 266, '○': 261, '◟': 221, '◚': 208, '◝': 190, '●': 182, '◗': 178, '◞': 128, '◘': 116, '◕': 93, '◖': 91, '◡': 84, '◓': 82, '◒': 81, '◥': 74, '◍': 68, '◢': 66, '▬': 55, '◠': 47, '▮': 41, '◑': 38, '◛': 35, '◎': 29, '◣': 1, '▭': 1}\n"
     ]
    }
   ],
   "source": [
    "frequenties_tekens = bepaal_frequentie_tekens_in_tekst(\" \".join(brieven_met_tekens))\n",
    "# sorteer de frequenties op basis van de frequentie\n",
    "frequenties_tekens = dict(sorted(frequenties_tekens.items(), key=lambda item: item[1], reverse=True))\n",
    "print(frequenties_tekens)"
   ]
  },
  {
   "cell_type": "markdown",
   "metadata": {},
   "source": [
    "Uit de frequentieanalyse van de tekens komt naar voor dat bepaalde tekens een stuk vaker gebruikt worden dan andere. De vraag is nu natuurlijk welke tekens dit kunnen zijn. Om dat te weten te komen vergelijken we bovenstaande frequenties met de frequenties van de letters uit het gewone alfabet. \n",
    "\n",
    "Om een schatting te maken van hoe vaak een letter gemiddeld voorkomt in de Nederlandse taal, gebruiken wij een tekstbestand met daarin de inhoud van een aantal Wikipedia artikels (*wikipedia.txt*). De codecel hieronder leest het bestand en berekend hoe vaak elke letter voorkomt in de tekst."
   ]
  },
  {
   "cell_type": "code",
   "execution_count": 36,
   "metadata": {},
   "outputs": [
    {
     "name": "stdout",
     "output_type": "stream",
     "text": [
      "{'e': 18.305882352941175, 'n': 9.437015781922526, 'a': 7.36700143472023, 'i': 6.476327116212339, 'r': 6.363845050215208, 't': 6.045911047345768, 'd': 5.425538020086083, 'o': 5.3044476327116215, 's': 4.078622668579627, 'l': 3.75896700143472, 'g': 3.231563845050215, 'v': 2.3466284074605452, 'm': 2.1784791965566717, 'h': 1.951219512195122, 'k': 1.8553802008608322, 'u': 1.7010043041606886, 'w': 1.430703012912482, 'p': 1.3991391678622669, 'c': 1.3773314203730274, 'b': 1.1936872309899569, '.': 1.0048780487804878, 'j': 0.9440459110473458, 'z': 0.8906743185078909, ',': 0.7385939741750359, 'f': 0.6398852223816356, 'V': 0.36441893830703015, 'D': 0.32080344332855093, '1': 0.2657101865136298, '-': 0.22496413199426113, 'B': 0.18995695839311336, '9': 0.15781922525107603, 'H': 0.14634146341463414, '0': 0.13314203730272597, 'E': 0.13142037302725967, '2': 0.12740315638450503, 'W': 0.12568149210903873, 'I': 0.09985652797704447, 'O': 0.09411764705882353, '[': 0.09296987087517934, ']': 0.09296987087517934, 'C': 0.08608321377331421, 'N': 0.08550932568149211, '5': 0.08436154949784792, 'L': 0.08321377331420372, 'ë': 0.08263988522238164, 'y': 0.07747489239598278, 'P': 0.07690100430416069, '4': 0.07403156384505022, '6': 0.07288378766140603, 'S': 0.06944045911047346, '3': 0.06886657101865136, '(': 0.06714490674318507, ')': 0.06657101865136299, 'F': 0.06312769010043041, '7': 0.06025824964131994, 'M': 0.06025824964131994, ':': 0.05968436154949785, 'G': 0.056814921090387376, '8': 0.056814921090387376, 'A': 0.05509325681492109, 'T': 0.0539454806312769, '’': 0.0539454806312769, 'Z': 0.05107604017216643, '‘': 0.05050215208034433, 'K': 0.04878048780487805, ';': 0.040172166427546625, 'é': 0.036154949784791966, 'x': 0.036154949784791966, 'R': 0.0327116212338594, \"'\": 0.0321377331420373, '%': 0.021233859397417502, 'U': 0.020086083213773313, 'J': 0.01951219512195122, 'è': 0.014921090387374462, '\"': 0.013773314203730272, 'q': 0.00975609756097561, 'ï': 0.007460545193687231, '/': 0.007460545193687231, '?': 0.006312769010043041, '•': 0.0028694404591104736, '\\t': 0.0022955523672883787, '“': 0.0022955523672883787, 'ê': 0.0022955523672883787, 'ó': 0.001721664275466284, '+': 0.001721664275466284, '”': 0.001721664275466284, '!': 0.001721664275466284, 'à': 0.0011477761836441894, 'X': 0.0005738880918220947, '°': 0.0005738880918220947, 'á': 0.0005738880918220947, '„': 0.0005738880918220947, 'ü': 0.0005738880918220947, 'ç': 0.0005738880918220947, 'ö': 0.0005738880918220947, '=': 0.0005738880918220947}\n"
     ]
    }
   ],
   "source": [
    "wikipedia = lees_bestand(\"wikipedia.txt\")\n",
    "frequentie_tekens_wikipedia = bepaal_frequentie_tekens_in_tekst(wikipedia)\n",
    "# sorteer de frequenties op basis van de frequentie\n",
    "frequentie_tekens_wikipedia = dict(sorted(frequentie_tekens_wikipedia.items(), key=lambda item: item[1], reverse=True))\n",
    "# normaliseer de frequenties\n",
    "aantal_tekens = sum(frequentie_tekens_wikipedia.values())\n",
    "for teken in frequentie_tekens_wikipedia:\n",
    "    frequentie_tekens_wikipedia[teken] /= aantal_tekens/100\n",
    "print(frequentie_tekens_wikipedia)"
   ]
  },
  {
   "cell_type": "code",
   "execution_count": 38,
   "metadata": {},
   "outputs": [
    {
     "name": "stderr",
     "output_type": "stream",
     "text": [
      "C:\\Users\\tomne\\AppData\\Roaming\\Python\\Python312\\site-packages\\IPython\\core\\pylabtools.py:152: UserWarning: Glyph 9 (\t) missing from current font.\n",
      "  fig.canvas.print_figure(bytes_io, **kw)\n"
     ]
    },
    {
     "data": {
      "image/png": "[encoded data removed]",
      "text/plain": [
       "<Figure size 2000x1000 with 1 Axes>"
      ]
     },
     "metadata": {},
     "output_type": "display_data"
    }
   ],
   "source": [
    "from matplotlib import pyplot as plt\n",
    "import numpy as np\n",
    "# Maak voor elke auteur en voor het testament een histogram van de frequenties van de woorden.\n",
    "x = np.arange(len(frequentie_tekens_wikipedia))\n",
    "breedte = 1\n",
    "\n",
    "fig, ax = plt.subplots(figsize=(20, 10))\n",
    "rects_testament = ax.bar(x - breedte/2, list(frequentie_tekens_wikipedia.values()), breedte, label='Testament')\n",
    "ax.set_xticks(x)\n",
    "ax.set_xticklabels(frequentie_tekens_wikipedia, rotation=45, ha=\"right\")\n",
    "ax.legend()\n",
    "plt.show()"
   ]
  },
  {
   "cell_type": "markdown",
   "metadata": {},
   "source": [
    "We zien dat de letter *e* veruit het vaakst voorkomt. Daarna komt de letter *n*. De letters *a*, *i* en *r* komen ongeveer even vaak voor. Dus deze zullen moeilijker te onderscheiden zijn.\n",
    "\n",
    "Om te controleren of we op het goede spoor zitten kunnen we al eens de twee meest frequente tekens vervangen door de twee meest frequente letters. Die code zie je hieronder staan."
   ]
  },
  {
   "cell_type": "code",
   "execution_count": 26,
   "metadata": {},
   "outputs": [],
   "source": [
    "mapping_tekens = {\n",
    "    \"◐\": \"e\",\n",
    "    \"◙\": \"n\",\n",
    "}\n",
    "\n",
    "def vervang_letters_in_brieven(brieven, mapping):\n",
    "    nieuwe_brieven = []\n",
    "    for brief in brieven:\n",
    "        nieuwe_brief = \"\"\n",
    "        for letter in brief:\n",
    "            if letter.lower() in mapping:\n",
    "                nieuwe_brief += mapping[letter.lower()].upper()\n",
    "            else:\n",
    "                nieuwe_brief += letter\n",
    "        nieuwe_brieven.append(nieuwe_brief)\n",
    "    return nieuwe_brieven\n",
    "\n",
    "brieven_met_tekens_vervangen = vervang_letters_in_brieven(brieven_met_tekens, mapping_tekens)"
   ]
  },
  {
   "cell_type": "code",
   "execution_count": 27,
   "metadata": {},
   "outputs": [
    {
     "name": "stdout",
     "output_type": "stream",
     "text": [
      "------------------- BRIEF 1  -------------------\n",
      "◘◔◕N ◚◛ ◘◔◕N ◘◔◕NE ○N●E◝◞ ◥◚●○◟ ◖◔E◥EN▮\n",
      "◒E◗◔E◑●E ◘◔◕N ◘◚E●E◝ ◔◞▮ ●○N ◔◖ ◡E◝◗◚◝EN\n",
      "◓E◎◟◚◝▬ ◞◎◓◚◠●E◝◞▬ ◘E ◞◚◘◞▬ ◢EN◞EN ◡◝◔◕ ◔N\n",
      "●E EN ●◢◔N◒◟ ◔N ●○◟ ◥◚◠ ◘◔◕N\n",
      "◗○◞◟ ◔◖ ◟◚◟ ◘◔◕N ◥E ◥◔◕N ◡E◝◗○N◒EN\n",
      "◡○N ◖○N EEN ●◚N◖E◝◞◟E E◝ ◚◘ N○○◝\n",
      "◘◔◕N N◔E◟ ◗E◡EN ◘◚◘EN◟EN▬ N◔E◟ ◘◔◕N ◡◝◔◕◓E◔●▬\n",
      "◗E◡EN ◗○N◒E◝ ●○◟ ◖○N ◘EE◝ E◔◒EN E◗◔◞○◍E◟◓\n",
      "●◝◠◖◟ ◡E◝●◝○◒EN N◔E◟ ◔◖ ◥◚◠ ◛○●\n",
      "◥◢○○◝ ●○◟ ◓E◟ N◔E◟ ◥◔◕N▬ ◟E\n",
      "\n",
      "------------------- BRIEF 2  -------------------\n",
      "◘◔◕N ◍E◒◝◔◕◛ ◢◔◗ ◢E ◥○◗ ◡◝◔◕◓E◔● ◓E◎◟◚◝\n",
      "●◔E◝◍○◝E ◕E ◡○N ◞○◘EN ◍E◡◝◔◕●EN ◥○◗\n",
      "E◗◔◞○◍E◟◓▬ ◢○N◓◚◚◛▮ ○N●E◝EN▬ N○●EN◖EN ◡○N ◒E◡EN\n",
      "◕◚◠◢ ○◗◞ ◘◚E◟EN ◚◡E◝ ●E ◚◘\n",
      "◢◚◚◝●EN ◚N◥E ◢E EEN ◖E◟ENEN ◚N◥E\n",
      "◍◝E◖EN ◗◔E◑●E ◞◚◘◞ ◛◗○N▬ ◡○N ◗◔E◑●E\n",
      "◘◔◕N ◍E●◝E◔◒● E◣◟◝E◘E EEN ◚N●E◝●◝◠◖◖◔N◒ ◟E\n",
      "◓○◝◟▬ ◢◚◝●◟ ◘○○◟◝E◒E◗EN ◛◗○N EN ◗E◡EN▮\n",
      "◘○○◝ ●◚◚◝ ◚◡E◝◢E◒EN▮ ●○◟ ◚N◞ ◘E◟\n",
      "◔◖ ●E ◗○◟EN ◚N◞ ●E ◡○◞◟◍E◝○●EN◓E◔●▬\n",
      "\n",
      "------------------- BRIEF 3  -------------------\n",
      "◘◔◕N ◔◖ ◚◘ ◠◔◟ ◓○N●▬ ◚◛ ◟◚E◖◚◘◞◟ E◗◔◞○◍E◟◓\n",
      "◗◔E◑◞◟E ◢○◎◓◟ ◚N◞ ●E EN ◕◚◠▬ ◢○○◝◔N\n",
      "◓E◎◟◚◝▬ ◚N◒E●◠◗●◔◒ ◛◗○N ◢E◒ ◚N◥E ◘◔◕N ◢E\n",
      "●○N◖ ◚◛ ◔N ◟E ◗◔E◑●E ◗◔E◑◞◟E▬ ◡◝◔◕\n",
      "◕E ◕E ○◎◟◔E ◝◠◔◘EN▮ ◥○◗ ◚◘ ◖◠NNEN\n",
      "◢E◗ ◍◔◕ ◟E ◢E ○◗◗E ◚N◞ ◥◔◕N▮\n",
      "◡◚◚◝ ●E ◍◝EN◒EN ◥◠◗◗EN ◚◍◞◟○◖E◗◞ ◟E ◘E◟\n",
      "◕E ◚◠●E EN ◞○◘EN◢E◝◖EN▬ ◚◡E◝◢◔NNEN▮ ◗E◔●EN ◗◔E◑●E\n",
      "◞NE◗◗E E◔◖▬ ◘◔◕N ◓○N● ◔◖ N○○◝ EN\n",
      "◝E○◎◟◔E▮ ◖◗○○◝ ◘◚E●E◝ ◔N ◡E◝◟◝◚◠◢ EEN ◡E◝◟◝◚◠◢EN▬\n",
      "\n",
      "------------------- BRIEF 4  -------------------\n",
      "◘◔◕N ◘◔◕N ◛◗○N◟EN ●E ◠◔◟◡◚E◝EN ◍◔◕ ◚N◢○N◖E◗◍○◝E\n",
      "●◔E◝◍○◝E ◗◔E◑◞◟E▬ ◡E◔◗◔◒ ◚◠●E EN ◕E ◗◔E◑●E▬\n",
      "E◗◔◞○◍E◟◓▬ ◔N ◡E◝◥○◘E◗● E◔◖ ◚N◥E ◥◔◕N▬ ◓E◎◟◚◝\n",
      "◔◖ ◡◚◚◝▭ EN ◟E ◟◚E◖◚◘◞◟ ◘◔◕N\n",
      "◥○◗ EN ◔◖ ◖◚◘EN▬ ◞○◘EN ◗◔E◑◞◟E▬\n",
      "○◗◟◔◕● ◟E◒EN◞◛◚E●▮ ◘○○◖ ◢○○◝ ◥◠◗◗EN EN\n",
      "○○N ◔◖ ◘E ◢E ◡E◔◗◔◒◞◟E◗◗EN▮ ◢E\n",
      "◕E ◓E◍ ◖◗○○◝ ◚N◞ ◔◖ ◥◠◗◗EN\n",
      "◥◔◕●E ●E ◚◘ ◛◗○N ◥○◗ ◟◝◔◚◘◑E◝EN▮\n",
      "◞◟○○N▬ ◒◔◑◟◔◒E N○○◝ ◥◠◗◗EN ◞NE◗ ◘E◟\n",
      "\n",
      "------------------- BRIEF 5  -------------------\n",
      "◘◔◕N ◘◔◕N ◡E◝◞◟◔◖◖EN ◢E◝E◗● ◡◝◔◕ ◚◑\n",
      "◗◔E◑◞◟E ◘◚E●E◝ ◚N●E◝ ◢○○◝◔N ◥◚◠●EN ◡E◝◚◚◝●E◗◔N◒▮\n",
      "◓E◎◟◚◝▬ ◚N◞ ◓○○◝ ◥◔◕ ◥◔◕N ◒E◡○N◒EN\n",
      "◔◖ ◍◗◔◕◑◟ ◟◔◝○NN◔E▮ E◝ ◚◘ ◔N\n",
      "◖○N ◞◎◓E◔●EN▬ ◔◖ N◔E◟ ◚N◥E ◘◔◕N\n",
      "●E ●○◟ ◓E◍ ◘EE◝ ◗◔E◑●E ◡E◝◗○N◒EN\n",
      "◒E●○◎◓◟E ◥E ◡○○◖ ◥◚◠ ◟E N○○◝\n",
      "N◔E◟ ◚N◥E ◒E●◝◚◚◘● ◥◔◕N▬ ◍E◗E◡EN ◡E◝◗◚◞◞◔N◒▬\n",
      "◡E◝●◝○◒EN ◗◔E◑●E ◡○N ◢○○◝◔N ◥◚N●E◝ E◗◔◞○◍E◟◓\n",
      "●○◟ ◍◗◔◕◑◟ EEN ◢◔◕ ○N◒◞◟\n",
      "\n",
      "------------------- BRIEF 6  -------------------\n",
      "◘◔◕N ◔◖ ●E EEN ◚N◍E◖EN● ◞◘E●EN ◢○N◓◚◛◔◒\n",
      "●◔E◝◍○◝E N○ ◖E◟ENEN ◢E◒ ◚◚◖▮ ●○◟ ◡E◝◗○N◒EN▮\n",
      "E◗◔◞○◍E◟◓▬ ◚◡E◝ ●◔E ●◔E ◗○◟EN ◚N◞ ◘E◟\n",
      "E◗◖E EEN ◚N◞ ◢E ◢E ●E ◡○◞◟◍E◝○●EN◓E◔●\n",
      "N○◎◓◟ ◘○N◔E◝ ◍◔N●EN▮ ◞○◘EN ◚N◥E ◡◝◔◕◓E◔● EN\n",
      "◗◔◒ ◚◘ ◘◔◞◞◎◓◔EN ◖◠NNEN ◖◝○◎◓◟EN ◥○◗ ◗◔E◑●E▬\n",
      "◔◖ ◚N◞ ◔◞ ◍E◢○N●E◗EN▬ ◍◠N●E◗EN ◞◎◓EN◖EN ◓E◎◟◚◝\n",
      "◢○◖◖E◝ ◟E E◝ ◓◚E EN ●◔E\n",
      "EN ◍E◡◝◔◕●EN EEN ◒E◡○○◝◗◔◕◖ EEN ◢E\n",
      "●EN◖ ◡○N ◢E◒▬ EN ◛◗○N ◥◚\n",
      "\n",
      "------------------- BRIEF 7  -------------------\n",
      "◘◔◕N ◔N ◟E◝◢◔◕◗ ◛◗○N ◒◝EE◛ ◥◔◕N▮ ◚N◞ E◗◔◞○◍E◟◓\n",
      "◒E◗◔E◑●E ●○●EN ◘◔◕N ◍E●○◎◓◟▬ EN ◗○◟EN ◛○●\n",
      "◓E◎◟◚◝▬ ◚◘ ◘◚E●E◝ EEN ◚N◞ ◢E N○○◝\n",
      "●E ◟E ◚N◞ ◛◗○N ●E ◞NE◗ ◍E◡◝◔◕●◔N◒\n",
      "◟◔◕● ◥E◟◟EN▮ ◠◔◟ ●○◟ ◡◝◔◕◓E◔● ◞○◘EN◖◚◘EN ◟E\n",
      "◔◞ ◢E E◗◖○○◝ ◚N◞ ◥○◗ ◚◘ ◛◗○NNEN▮\n",
      "◒E◖◚◘EN ◖◠NNEN ●◝◔◕◑◟▮ ◥○◗ ◒E◡EN ○◗◗E◞ ◘E◟\n",
      "◚◘ N◔E◟ ◔◖ ◍E◡◝◔◕●EN ◚◘ ◟E ◡○◞◟◍E◝○●EN◓E◔●\n",
      "◚N◥E ◗○N◒E◝ ◓E◍ ◡○N ◞○◘EN ◍E◞◛◝E◖EN EN\n",
      "●◝◚◘EN ◟◚E◖◔◕◖EN EEN ◓○○◝ ◟E EN ◡E◝◗○N◒EN▬\n",
      "\n",
      "------------------- BRIEF 8  -------------------\n",
      "◘◔◕N ◡○◞◟◍E◝○●EN◓E◔●▮ ◗E◡EN ●◚EN ◍◝EN◒EN ◍◔N●EN▮ ◗◔E◑◞◟E▮\n",
      "●◔E◝◍○◝E ◓E◟ ◟E◝◠◒NE◘EN ◢○◟ EN ◗○◟EN ◘E◟\n",
      "E◗◔◞○◍E◟◓▬ ◔◞ EN N◚●◔◒ ◚N◞ ◢E ◡○◞◟◍E◝○●EN◓E◔●\n",
      "◕E ◟◔◕● ◚N◥E ◔◞ ◟E ◞○◘EN◖◚◘EN EN\n",
      "◢◚◚◝●EN ●○◟ ◗◔E◑●E ◚◘ ◡E◝◗◚◞◞EN EN ◗◔E◑●E▬\n",
      "◡E◝◡◠◗◗EN ◢E ◗○◟EN ◚N◞ ◡○N ●E ◓E◎◟◚◝\n",
      "◘E ●E ◥E◒E◡◔E◝EN▮ ◛◗○N ●E ◗○○◟◞◟E\n",
      "◘E◟ ◎◚N◟◝◚◗E ◔◖ ◟◚◟ ◖E◟ENEN ●E◟○◔◗◞\n",
      "◓◚◚◛ ◚◡E◝ ◥○◗ ◠◔◟◡◚E◝◔N◒ ●◔E ◠◔◟◢E◝◖EN▬\n",
      "EN ◚N◞ ○◗◗E◞ ◟E ◚N◞ ◘◔◕N\n",
      "\n",
      "------------------- BRIEF 9  -------------------\n",
      "◘◔◕N ◘◔◕N ◢E ◗○◟EN ◢E ◢E ◞○◘EN\n",
      "◗◔E◑◞◟E ◓◚◚◑●▬ ◘◚E◟EN ●◔E ◞○◘EN ◚N◞ ◍○NEN▮\n",
      "◓E◎◟◚◝▬ ○◗◞ ◥◚◝◒◡◠◗●◔◒ ◚N◞ ◞◟E◝◖ ◓○◝◟ ◘E◟\n",
      "◓E◟ EEN ◟E ◥◚◠●EN ◒EN◚E◒ ◡◚◗◒EN ◗◔E◑●E\n",
      "◛◗○N ◢E◒ ◢E◝◖ ◖◠NNEN ◥◔◕N EN EN\n",
      "◍E◒◔N◟ ●◔E ◒○○N▬ ◡E◝◝○●EN▮ ◚◘ ●E ◡○◞◟◍E◝○●EN◓E◔●▬\n",
      "◡◚◝◘ N○○◝ ◥◚N●E◝ ◘○○◝ ○◗◗E◞ ◢E◒ E◗◔◞○◍E◟◓\n",
      "◟E ◚N◥E ◞◛◚◝EN ◔◖ ◟E N○○◝\n",
      "◖◝◔◕◒EN ◡◝◔◕◓E◔● ○◎◓◟E◝ ◒E◗◚◚◑ ◚◡E◝◢◔NNEN▮ ◚N◥E\n",
      "◔N ◗E◔●◟▮ ◟E ●○◟ ◗○◟EN ◟◚E◖◚◘◞◟\n",
      "\n",
      "------------------- BRIEF 10  -------------------\n",
      "◘◔◕N ◓EEN ◍◔◕ ◡◝◔◕◓E◔●▮ ◗○◟EN ◚N◞▬ ◓E◎◟◚◝\n",
      "●◔E◝◍○◝E ◗E◔●EN▬ E◗◖E ◗○◟EN ◟E◒EN◓◚◠●EN EN\n",
      "E◗◔◞○◍E◟◓▬ ◘◔◕N ◞◟○◛ ◢E ●◚◚◝ ◞○◘EN\n",
      "◚N◥E ◗◔E◑◞◟E▮ ●◔E ◞○◘EN◢E◝◖EN▬ ○N◒◞◟ ◥◠◗◗EN\n",
      "◗◔E◑●E ◔◖ ◢E ◓○N● ◚◑ ◢E\n",
      "◥○◗ ◥○◗ ◥E◟◟EN ◔N ◟◢◔◕◑E◗▮ ◓○○◝\n",
      "◚N◞ ○○N ◚◛ ◓○N●▬ ◚N◥E ◡E◝◚◡E◝EN▮\n",
      "●◚◚◝ ◕E ◢E◒ EN ◟◚E◖◚◘◞◟ ◘E◟\n",
      "●◔◟ ◥◔◕●E N○○◝ ◚N◞ ◢○◎◓◟ ◚N◢○N◖E◗◍○◝E\n",
      "○◗◗E◞ ◞◟○○N▬ ◚N◥E N◔E◟ ◚◛ ◗◔E◑●E▬\n",
      "\n"
     ]
    }
   ],
   "source": [
    "for i in range(10):\n",
    "    print(\"------------------- BRIEF\", i+1, \" -------------------\")\n",
    "    print(brieven_met_tekens_vervangen[i])\n",
    "    print()"
   ]
  },
  {
   "cell_type": "markdown",
   "metadata": {},
   "source": [
    "We lijken wel op goede weg met onze vervanging door de letters *e* en *n*. We zien dat deze letters op logische plaatsen komen in de tekst. \n",
    "\n",
    "**Opdracht:** Probeer de volgende meest frequente letters in het alfabet (*a*, *i*, *r* en *t*) uit voor het derde meest frequente teken (◔). Kijk of de tekst die je krijgt logisch lijkt. Probeer daarna de mapping van de andere tekens te vinden. Je zal merken dat er geen een-op-een mapping is tussen de frequenties in de Wikipedia teksten en die in de brieven. "
   ]
  },
  {
   "cell_type": "code",
   "execution_count": 78,
   "metadata": {},
   "outputs": [],
   "source": [
    "mapping_tekens = {\n",
    "    \"◐\": \"e\",\n",
    "    \"◙\": \"n\",\n",
    "    \"◔\": \"i\",\n",
    "    \"○\": \"a\",\n",
    "    \"◟\": \"t\",\n",
    "    \"◚\": \"o\",\n",
    "    \"◝\": \"r\",\n",
    "    \"●\": \"d\",\n",
    "    \"◗\": \"l\",\n",
    "    \"◞\": \"s\",\n",
    "    \"◘\": \"m\",\n",
    "    \"◕\": \"j\",\n",
    "    \"◒\": \"g\",\n",
    "    \"◑\": \"f\",\n",
    "    \"◓\": \"h\",\n",
    "    \"◎\": \"c\",\n",
    "    \"◡\": \"v\",\n",
    "    \"◠\": \"u\",\n",
    "    \"◖\": \"k\",\n",
    "    \"◥\": \"z\",\n",
    "    \"◢\": \"w\",\n",
    "    \"◛\": \"p\",\n",
    "    \"◍\": \"b\",\n",
    "    \"▬\": \",\",\n",
    "    \"▮\": \".\",\n",
    "    \"◣\": \"x\",\n",
    "    \"▭\": \"-\"\n",
    "    \n",
    "}\n",
    "\n",
    "def vervang_letters_in_brieven(brieven, mapping):\n",
    "    nieuwe_brieven = []\n",
    "    for brief in brieven:\n",
    "        nieuwe_brief = \"\"\n",
    "        for letter in brief:\n",
    "            if letter.lower() in mapping:\n",
    "                nieuwe_brief += mapping[letter.lower()].upper()\n",
    "            else:\n",
    "                nieuwe_brief += letter\n",
    "        nieuwe_brieven.append(nieuwe_brief)\n",
    "    return nieuwe_brieven\n",
    "\n",
    "brieven_met_tekens_vervangen = vervang_letters_in_brieven(brieven_met_tekens, mapping_tekens)"
   ]
  },
  {
   "cell_type": "code",
   "execution_count": 79,
   "metadata": {},
   "outputs": [
    {
     "name": "stdout",
     "output_type": "stream",
     "text": [
      "------------------- BRIEF 1  -------------------\n",
      "MIJN OP MIJN MIJNE ANDERS ZODAT KIEZEN.\n",
      "GELIEFDE MIJN MOEDER IS. DAN IK VERLOREN\n",
      "HECTOR, SCHOUDERS, ME SOMS, WENSEN VRIJ IN\n",
      "DE EN DWINGT IN DAT ZOU MIJN\n",
      "LAST IK TOT MIJN ZE ZIJN VERLANGEN\n",
      "VAN KAN EEN DONKERSTE ER OM NAAR\n",
      "MIJN NIET LEVEN MOMENTEN, NIET MIJN VRIJHEID,\n",
      "LEVEN LANGER DAT KAN MEER EIGEN ELISABETH\n",
      "DRUKT VERDRAGEN NIET IK ZOU PAD\n",
      "ZWAAR DAT HET NIET ZIJN, TE\n",
      "\n",
      "------------------- BRIEF 2  -------------------\n",
      "MIJN BEGRIJP WIL WE ZAL VRIJHEID HECTOR\n",
      "DIERBARE JE VAN SAMEN BEVRIJDEN ZAL\n",
      "ELISABETH, WANHOOP. ANDEREN, NADENKEN VAN GEVEN\n",
      "JOUW ALS MOETEN OVER DE OM\n",
      "WOORDEN ONZE WE EEN KETENEN ONZE\n",
      "BREKEN LIEFDE SOMS PLAN, VAN LIEFDE\n",
      "MIJN BEDREIGD EXTREME EEN ONDERDRUKKING TE\n",
      "HART, WORDT MAATREGELEN PLAN EN LEVEN.\n",
      "MAAR DOOR OVERWEGEN. DAT ONS MET\n",
      "IK DE LATEN ONS DE VASTBERADENHEID,\n",
      "\n",
      "------------------- BRIEF 3  -------------------\n",
      "MIJN IK OM UIT HAND, OP TOEKOMST ELISABETH\n",
      "LIEFSTE WACHT ONS DE EN JOU, WAARIN\n",
      "HECTOR, ONGEDULDIG PLAN WEG ONZE MIJN WE\n",
      "DANK OP IN TE LIEFDE LIEFSTE, VRIJ\n",
      "JE JE ACTIE RUIMEN. ZAL OM KUNNEN\n",
      "WEL BIJ TE WE ALLE ONS ZIJN.\n",
      "VOOR DE BRENGEN ZULLEN OBSTAKELS TE MET\n",
      "JE OUDE EN SAMENWERKEN, OVERWINNEN. LEIDEN LIEFDE\n",
      "SNELLE EIK, MIJN HAND IK NAAR EN\n",
      "REACTIE. KLAAR MOEDER IN VERTROUW EEN VERTROUWEN,\n",
      "\n",
      "------------------- BRIEF 4  -------------------\n",
      "MIJN MIJN PLANTEN DE UITVOEREN BIJ ONWANKELBARE\n",
      "DIERBARE LIEFSTE, VEILIG OUDE EN JE LIEFDE,\n",
      "ELISABETH, IN VERZAMELD EIK ONZE ZIJN, HECTOR\n",
      "IK VOOR- EN TE TOEKOMST MIJN\n",
      "ZAL EN IK KOMEN, SAMEN LIEFSTE,\n",
      "ALTIJD TEGENSPOED. MAAK WAAR ZULLEN EN\n",
      "AAN IK ME WE VEILIGSTELLEN. WE\n",
      "JE HEB KLAAR ONS IK ZULLEN\n",
      "ZIJDE DE OM PLAN ZAL TRIOMFEREN.\n",
      "STAAN, GIFTIGE NAAR ZULLEN SNEL MET\n",
      "\n",
      "------------------- BRIEF 5  -------------------\n",
      "MIJN MIJN VERSTIKKEN WERELD VRIJ OF\n",
      "LIEFSTE MOEDER ONDER WAARIN ZOUDEN VEROORDELING.\n",
      "HECTOR, ONS HAAR ZIJ ZIJN GEVANGEN\n",
      "IK BLIJFT TIRANNIE. ER OM IN\n",
      "KAN SCHEIDEN, IK NIET ONZE MIJN\n",
      "DE DAT HEB MEER LIEFDE VERLANGEN\n",
      "GEDACHTE ZE VAAK ZOU TE NAAR\n",
      "NIET ONZE GEDROOMD ZIJN, BELEVEN VERLOSSING,\n",
      "VERDRAGEN LIEFDE VAN WAARIN ZONDER ELISABETH\n",
      "DAT BLIJFT EEN WIJ ANGST\n",
      "\n",
      "------------------- BRIEF 6  -------------------\n",
      "MIJN IK DE EEN ONBEKEND SMEDEN WANHOPIG\n",
      "DIERBARE NA KETENEN WEG OOK. DAT VERLANGEN.\n",
      "ELISABETH, OVER DIE DIE LATEN ONS MET\n",
      "ELKE EEN ONS WE WE DE VASTBERADENHEID\n",
      "NACHT MANIER BINDEN. SAMEN ONZE VRIJHEID EN\n",
      "LIG OM MISSCHIEN KUNNEN KRACHTEN ZAL LIEFDE,\n",
      "IK ONS IS BEWANDELEN, BUNDELEN SCHENKEN HECTOR\n",
      "WAKKER TE ER HOE EN DIE\n",
      "EN BEVRIJDEN EEN GEVAARLIJK EEN WE\n",
      "DENK VAN WEG, EN PLAN ZO\n",
      "\n",
      "------------------- BRIEF 7  -------------------\n",
      "MIJN IN TERWIJL PLAN GREEP ZIJN. ONS ELISABETH\n",
      "GELIEFDE DADEN MIJN BEDACHT, EN LATEN PAD\n",
      "HECTOR, OM MOEDER EEN ONS WE NAAR\n",
      "DE TE ONS PLAN DE SNEL BEVRIJDING\n",
      "TIJD ZETTEN. UIT DAT VRIJHEID SAMENKOMEN TE\n",
      "IS WE ELKAAR ONS ZAL OM PLANNEN.\n",
      "GEKOMEN KUNNEN DRIJFT. ZAL GEVEN ALLES MET\n",
      "OM NIET IK BEVRIJDEN OM TE VASTBERADENHEID\n",
      "ONZE LANGER HEB VAN SAMEN BESPREKEN EN\n",
      "DROMEN TOEKIJKEN EEN HAAR TE EN VERLANGEN,\n",
      "\n",
      "------------------- BRIEF 8  -------------------\n",
      "MIJN VASTBERADENHEID. LEVEN DOEN BRENGEN BINDEN. LIEFSTE.\n",
      "DIERBARE HET TERUGNEMEN WAT EN LATEN MET\n",
      "ELISABETH, IS EN NODIG ONS WE VASTBERADENHEID\n",
      "JE TIJD ONZE IS TE SAMENKOMEN EN\n",
      "WOORDEN DAT LIEFDE OM VERLOSSEN EN LIEFDE,\n",
      "VERVULLEN WE LATEN ONS VAN DE HECTOR\n",
      "ME DE ZEGEVIEREN. PLAN DE LAATSTE\n",
      "MET CONTROLE IK TOT KETENEN DETAILS\n",
      "HOOP OVER ZAL UITVOERING DIE UITWERKEN,\n",
      "EN ONS ALLES TE ONS MIJN\n",
      "\n",
      "------------------- BRIEF 9  -------------------\n",
      "MIJN MIJN WE LATEN WE WE SAMEN\n",
      "LIEFSTE HOOFD, MOETEN DIE SAMEN ONS BANEN.\n",
      "HECTOR, ALS ZORGVULDIG ONS STERK HART MET\n",
      "HET EEN TE ZOUDEN GENOEG VOLGEN LIEFDE\n",
      "PLAN WEG WERK KUNNEN ZIJN EN EN\n",
      "BEGINT DIE GAAN, VERRADEN. OM DE VASTBERADENHEID,\n",
      "VORM NAAR ZONDER MAAR ALLES WEG ELISABETH\n",
      "TE ONZE SPOREN IK TE NAAR\n",
      "KRIJGEN VRIJHEID ACHTER GELOOF OVERWINNEN. ONZE\n",
      "IN LEIDT. TE DAT LATEN TOEKOMST\n",
      "\n",
      "------------------- BRIEF 10  -------------------\n",
      "MIJN HEEN BIJ VRIJHEID. LATEN ONS, HECTOR\n",
      "DIERBARE LEIDEN, ELKE LATEN TEGENHOUDEN EN\n",
      "ELISABETH, MIJN STAP WE DOOR SAMEN\n",
      "ONZE LIEFSTE. DIE SAMENWERKEN, ANGST ZULLEN\n",
      "LIEFDE IK WE HAND OF WE\n",
      "ZAL ZAL ZETTEN IN TWIJFEL. HAAR\n",
      "ONS AAN OP HAND, ONZE VEROVEREN.\n",
      "DOOR JE WEG EN TOEKOMST MET\n",
      "DIT ZIJDE NAAR ONS WACHT ONWANKELBARE\n",
      "ALLES STAAN, ONZE NIET OP LIEFDE,\n",
      "\n"
     ]
    }
   ],
   "source": [
    "for i in range(10):\n",
    "    print(\"------------------- BRIEF\", i+1, \" -------------------\")\n",
    "    print(brieven_met_tekens_vervangen[i])\n",
    "    print()"
   ]
  },
  {
   "cell_type": "markdown",
   "metadata": {},
   "source": [
    "Nu je de tekst hebt kunnen ontcijferen zie je dat deze vreemde zinnen bevat. Zie jij hoe je de tekst moet lezen?\n",
    "\n",
    "**Opdracht:** Gebruik Python om de tekst in een leesbaar formaat af te drukken."
   ]
  },
  {
   "cell_type": "code",
   "execution_count": 84,
   "metadata": {},
   "outputs": [
    {
     "name": "stdout",
     "output_type": "stream",
     "text": [
      "------------------- BRIEF 1  -------------------\n",
      "MIJN GELIEFDE HECTOR, DE LAST VAN MIJN LEVEN DRUKT ZWAAR MIJN DIERBARE ELISABETH, JOUW WOORDEN BREKEN MIJN HART, MAAR IK MIJN LIEFSTE HECTOR, DANK JE WEL VOOR JE SNELLE REACTIE. MIJN DIERBARE ELISABETH, IK ZAL ALTIJD AAN JE ZIJDE STAAN, MIJN LIEFSTE HECTOR, IK KAN DE GEDACHTE NIET VERDRAGEN DAT MIJN DIERBARE ELISABETH, ELKE NACHT LIG IK WAKKER EN DENK MIJN GELIEFDE HECTOR, DE TIJD IS GEKOMEN OM ONZE DROMEN MIJN DIERBARE ELISABETH, JE WOORDEN VERVULLEN ME MET HOOP EN MIJN LIEFSTE HECTOR, HET PLAN BEGINT VORM TE KRIJGEN IN MIJN DIERBARE ELISABETH, ONZE LIEFDE ZAL ONS DOOR DIT ALLES MIJN GELIEFDE HECTOR, IK HEB ONTDEKT DAT ER EEN KRACHTIGE MIJN DIERBARE ELISABETH, JE WOORDEN HEBBEN MIJN HART MET OPWINDING\n",
      "\n",
      "------------------- BRIEF 2  -------------------\n",
      "OP MIJN SCHOUDERS, EN IK KAN NIET LANGER VERDRAGEN DAT BEGRIJP JE WANHOOP. ALS ONZE LIEFDE BEDREIGD WORDT DOOR DE IK WACHT ONGEDULDIG OP JE BIJ DE OUDE EIK, KLAAR MIJN LIEFSTE, IN VOOR- EN TEGENSPOED. IK HEB DE GIFTIGE MIJN MOEDER ONS BLIJFT SCHEIDEN, DAT ZE ONZE LIEFDE BLIJFT IK NA OVER EEN MANIER OM ONS TE BEVRIJDEN VAN IN DADEN OM TE ZETTEN. WE KUNNEN NIET LANGER TOEKIJKEN VASTBERADENHEID. HET IS TIJD DAT WE DE CONTROLE OVER ONS MIJN HOOFD, ALS EEN WEG DIE NAAR ONZE VRIJHEID LEIDT. HEEN LEIDEN, MIJN LIEFSTE. IK ZAL AAN JE ZIJDE STAAN, GIFTIGE PLANT GROEIT IN DE GROENTETUIN NAAST DE STALLEN. HET VERVULD. IK ZAL ZO SNEL MOGELIJK NAAR DE GROENTETUIN GAAN\n",
      "\n",
      "------------------- BRIEF 3  -------------------\n",
      "MIJN MOEDER ME DWINGT TOT EEN LEVEN DAT NIET HET WIL VAN ANDEREN, MOETEN WE SOMS EXTREME MAATREGELEN OVERWEGEN. LATEN OM ONS PLAN IN ACTIE TE BRENGEN EN MIJN MOEDER PLANTEN VEILIG VERZAMELD EN IK MAAK ME KLAAR OM NAAR VERSTIKKEN ONDER HAAR TIRANNIE. IK HEB VAAK GEDROOMD VAN EEN DE KETENEN DIE ONS BINDEN. MISSCHIEN IS ER EEN WEG, TERWIJL MIJN MOEDER ONS UIT ELKAAR DRIJFT. IK HEB EEN LEVEN TERUGNEMEN EN ONZE LIEFDE LATEN ZEGEVIEREN. IK ZAL ALLES WE MOETEN ZORGVULDIG TE WERK GAAN, ZONDER SPOREN ACHTER TE BIJ ELKE STAP DIE WE ZETTEN OP WEG NAAR ONZE IS ONZE KANS OM ONS PLAN TOT UITVOERING TE BRENGEN EN EEN AANTAL VAN DE GIFTIGE PLANTEN VOOR ONS VERZAMELEN.\n",
      "\n",
      "------------------- BRIEF 4  -------------------\n",
      "MIJNE IS. SOMS, IN MIJN DONKERSTE MOMENTEN, KAN IK NIET WE SAMEN NADENKEN OVER EEN PLAN, EEN PLAN DAT ONS UIT DE WEG TE RUIMEN. WE ZULLEN SAMENWERKEN, HAND IN DE OUDE EIK TE KOMEN, WAAR WE ONS PLAN ZULLEN WERELD WAARIN ZIJ ER NIET MEER ZOU ZIJN, WAARIN WIJ EEN WEG DIE WE SAMEN KUNNEN BEWANDELEN, HOE GEVAARLIJK EN PLAN BEDACHT, EEN PLAN DAT ONS ZAL BEVRIJDEN VAN HAAR DOEN WAT NODIG IS OM ONS PLAN TOT UITVOERING TE LATEN DIE ONS ZOUDEN KUNNEN VERRADEN. MAAR IK GELOOF DAT VRIJHEID. LATEN WE SAMENWERKEN, HAND IN HAND, EN ONS NIET EN MIJN MOEDER UIT DE WEG TE RUIMEN. BRENG ALSJEBLIEFT WE ZULLEN ZE GEBRUIKEN OM ONS DOEL TE BEREIKEN EN\n",
      "\n",
      "------------------- BRIEF 5  -------------------\n",
      "ANDERS DAN WENSEN DAT ZE ER NIET MEER ZOU ZIJN, ZAL BEVRIJDEN VAN DE KETENEN VAN ONDERDRUKKING EN ONS DE HAND, EN ONZE LIEFDE ZAL ALLE OBSTAKELS OVERWINNEN. IK VERTROUW UITVOEREN EN ONZE TOEKOMST SAMEN ZULLEN VEILIGSTELLEN. IK ZAL SNEL VRIJ ZOUDEN ZIJN OM ONZE LIEFDE TE BELEVEN ZONDER ANGST ONBEKEND OOK. LATEN WE ONZE KRACHTEN BUNDELEN EN EEN PLAN GREEP EN ONS DE VRIJHEID ZAL GEVEN OM SAMEN TE BRENGEN EN ONS TE VERLOSSEN VAN DE KETENEN DIE ONS WE SAMEN STERK GENOEG ZIJN OM ALLES TE OVERWINNEN. LATEN LATEN TEGENHOUDEN DOOR ANGST OF TWIJFEL. ONZE TOEKOMST WACHT OP ZO SNEL MOGELIJK EEN AANTAL VAN DEZE PLANTEN NAAR MIJ ONZE TOEKOMST VEILIG TE STELLEN. IK ZAL BIJ JE ZIJN\n",
      "\n",
      "------------------- BRIEF 6  -------------------\n",
      "ZODAT IK VRIJ ZOU ZIJN OM MIJN EIGEN PAD TE VRIJHEID ZAL GEVEN OM ONZE LIEFDE TE LEVEN. MET VASTBERADENHEID, OP JOU, MIJN LIEFSTE, OM ONS TE LEIDEN NAAR EEN BIJ JE ZIJN, MIJN LIEFSTE, EN WE ZULLEN TRIOMFEREN. MET OF VEROORDELING. GEVANGEN IN MIJN VERLANGEN NAAR VERLOSSING, ELISABETH  SMEDEN DAT ONS DE VRIJHEID ZAL SCHENKEN DIE WE ZO ZIJN. LATEN WE SNEL SAMENKOMEN OM ALLES TE BESPREKEN EN BINDEN. LATEN WE SAMENKOMEN EN DE LAATSTE DETAILS UITWERKEN, MIJN WE ONS HART VOLGEN EN DE WEG NAAR ONZE TOEKOMST ONS, EN SAMEN ZULLEN WE HAAR VEROVEREN. MET ONWANKELBARE LIEFDE, TOE, ZODAT WE ONS PLAN KUNNEN VOLTOOIEN. IK ZAL OP BIJ DE OUDE EIK ZODRA IK DE PLANTEN HEB VERZAMELD.\n",
      "\n",
      "------------------- BRIEF 7  -------------------\n",
      "KIEZEN. VERLOREN IN MIJN VERLANGEN NAAR VRIJHEID, ELISABETH   HECTOR          TOEKOMST WAARIN WE VRIJ KUNNEN ZIJN. MET LIEFDE EN VERTROUWEN, ONWANKELBARE LIEFDE, HECTOR                  WANHOPIG VERLANGEN. MET VASTBERADENHEID EN LIEFDE, HECTOR    ONS PAD NAAR BEVRIJDING TE PLANNEN. MET VASTBERADENHEID EN VERLANGEN, LIEFSTE. MET VASTBERADENHEID EN LIEFDE, HECTOR     SAMEN BANEN. MET LIEFDE EN VASTBERADENHEID, ELISABETH    HECTOR          JE WACHTEN BIJ DE OUDE EIK ACHTER HET LANDHUIS. MET MET VASTBERADENHEID EN LIEFDE, HECTOR     \n",
      "\n",
      "------------------- BRIEF 8  -------------------\n",
      "                    ELISABETH                                        ELISABETH                                        HAAST EN VASTBERADENHEID, ELISABETH                \n",
      "\n"
     ]
    }
   ],
   "source": [
    "woordenmatrix = []\n",
    "for brief in brieven_met_tekens_vervangen:\n",
    "    lijnen = brief.split(\"\\n\")\n",
    "    for lijn in lijnen:\n",
    "        woorden = lijn.split(\" \")\n",
    "        woordenmatrix.append(woorden)\n",
    "        \n",
    "    \n",
    "# Find the length of the longest list\n",
    "max_len = max(len(woorden) for woorden in woordenmatrix)\n",
    "\n",
    "# Pad shorter lists with None\n",
    "woordenmatrix = [woorden + [\"\"]*(max_len - len(woorden)) for woorden in woordenmatrix]\n",
    "\n",
    "array = np.array(woordenmatrix)\n",
    "# Transponeer de array\n",
    "array = array.T\n",
    "# Maak van de transponering een lijst van lijsten\n",
    "woordenmatrix = array.tolist()\n",
    "\n",
    "for i in range(len(woordenmatrix)):\n",
    "    print(\"------------------- BRIEF\", i+1, \" -------------------\")\n",
    "    print(\" \".join(woordenmatrix[i]))\n",
    "    print()\n",
    "    "
   ]
  },
  {
   "cell_type": "markdown",
   "metadata": {},
   "source": [
    "Lees de ontcijferde brieven. Geven ze meer info over de dood van barones Heloisa?"
   ]
  }
 ],
 "metadata": {
  "kernelspec": {
   "display_name": "Python 3",
   "language": "python",
   "name": "python3"
  },
  "language_info": {
   "codemirror_mode": {
    "name": "ipython",
    "version": 3
   },
   "file_extension": ".py",
   "mimetype": "text/x-python",
   "name": "python",
   "nbconvert_exporter": "python",
   "pygments_lexer": "ipython3",
   "version": "3.12.0b2"
  }
 },
 "nbformat": 4,
 "nbformat_minor": 2
}
