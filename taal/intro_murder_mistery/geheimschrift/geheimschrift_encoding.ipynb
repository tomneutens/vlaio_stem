{
 "cells": [
  {
   "cell_type": "markdown",
   "metadata": {},
   "source": [
    "# Substitutie"
   ]
  },
  {
   "cell_type": "code",
   "execution_count": 2,
   "metadata": {},
   "outputs": [],
   "source": [
    "# This function reads all the text files in a given folder and returns a list of texts for each file.\n",
    "import os\n",
    "\n",
    "def read_files_in_folder(folder_path):\n",
    "    texts = []\n",
    "    for file in os.listdir(folder_path):\n",
    "        with open(os.path.join(folder_path, file), 'r') as f:\n",
    "            texts.append(f.read())\n",
    "    return texts"
   ]
  },
  {
   "cell_type": "code",
   "execution_count": 25,
   "metadata": {},
   "outputs": [],
   "source": [
    "# This function writes a list of texts to files in a given directory\n",
    "def write_files_to_folder(texts, folder_path):\n",
    "    for i, text in enumerate(texts):\n",
    "        with open(os.path.join(folder_path, f\"brief_geheim_{i}.txt\"), 'w', encoding=\"utf-8\") as f:\n",
    "            f.write(text)"
   ]
  },
  {
   "cell_type": "code",
   "execution_count": 7,
   "metadata": {},
   "outputs": [],
   "source": [
    "def read_alphabet_file(filename):\n",
    "    with open(filename, 'r', encoding=\"utf-8\") as f:\n",
    "        return f.read().splitlines()"
   ]
  },
  {
   "cell_type": "code",
   "execution_count": 44,
   "metadata": {},
   "outputs": [],
   "source": [
    "def reorder_words_in_text_to_columns(text):\n",
    "    words = text.split()\n",
    "    reordered_tekst = []\n",
    "    for j in range(0, 10):\n",
    "        line = []\n",
    "        for i in range(j, len(words), 10):\n",
    "            if j < len(words):\n",
    "                line.append(words[i])\n",
    "        line = \" \".join(line)\n",
    "        reordered_tekst.append(line)\n",
    "    return \"\\n\".join(reordered_tekst)\n",
    "        \n",
    "        "
   ]
  },
  {
   "cell_type": "code",
   "execution_count": 5,
   "metadata": {},
   "outputs": [
    {
     "name": "stdout",
     "output_type": "stream",
     "text": [
      "97\n"
     ]
    }
   ],
   "source": [
    "print(ord(\"a\"))\n"
   ]
  },
  {
   "cell_type": "code",
   "execution_count": 46,
   "metadata": {},
   "outputs": [
    {
     "name": "stdout",
     "output_type": "stream",
     "text": [
      "['Mijn op mijn mijne anders zodat kiezen.\\ngeliefde mijn moeder is. dan ik Verloren\\nHector, schouders, me Soms, wensen vrij in\\nDe en dwingt in dat zou mijn\\nlast ik tot mijn ze zijn verlangen\\nvan kan een donkerste er om naar\\nmijn niet leven momenten, niet mijn vrijheid,\\nleven langer dat kan meer eigen Elisabeth\\ndrukt verdragen niet ik zou pad\\nzwaar dat het niet zijn, te', 'Mijn begrijp wil we zal vrijheid Hector\\ndierbare je van samen bevrijden zal\\nElisabeth, wanhoop. anderen, nadenken van geven\\nJouw Als moeten over de om\\nwoorden onze we een ketenen onze\\nbreken liefde soms plan, van liefde\\nmijn bedreigd extreme een onderdrukking te\\nhart, wordt maatregelen plan en leven.\\nmaar door overwegen. dat ons Met\\nik de Laten ons de vastberadenheid,', 'Mijn mijn verstikken wereld vrij of\\nliefste moeder onder waarin zouden veroordeling.\\nHector, ons haar zij zijn Gevangen\\nIk blijft tirannie. er om in\\nkan scheiden, Ik niet onze mijn\\nde dat heb meer liefde verlangen\\ngedachte ze vaak zou te naar\\nniet onze gedroomd zijn, beleven verlossing,\\nverdragen liefde van waarin zonder Elisabeth\\ndat blijft een wij angst', 'Mijn ik de een onbekend smeden wanhopig\\ndierbare na ketenen weg ook. dat verlangen.\\nElisabeth, over die die Laten ons Met\\nElke een ons we we de vastberadenheid\\nnacht manier binden. samen onze vrijheid en\\nlig om Misschien kunnen krachten zal liefde,\\nik ons is bewandelen, bundelen schenken Hector\\nwakker te er hoe en die\\nen bevrijden een gevaarlijk een we\\ndenk van weg, en plan zo', 'Mijn in terwijl plan greep zijn. ons Elisabeth\\ngeliefde daden mijn bedacht, en Laten pad\\nHector, om moeder een ons we naar\\nDe te ons plan de snel bevrijding\\ntijd zetten. uit dat vrijheid samenkomen te\\nis We elkaar ons zal om plannen.\\ngekomen kunnen drijft. zal geven alles Met\\nom niet Ik bevrijden om te vastberadenheid\\nonze langer heb van samen bespreken en\\ndromen toekijken een haar te en verlangen,', 'Mijn vastberadenheid. leven doen brengen binden. liefste.\\ndierbare Het terugnemen wat en Laten Met\\nElisabeth, is en nodig ons we vastberadenheid\\nJe tijd onze is te samenkomen en\\nwoorden dat liefde om verlossen en liefde,\\nvervullen we laten ons van de Hector\\nme de zegevieren. plan de laatste\\nmet controle Ik tot ketenen details\\nhoop over zal uitvoering die uitwerken,\\nen ons alles te ons mijn', 'Mijn mijn We laten we we samen\\nliefste hoofd, moeten die samen ons banen.\\nHector, als zorgvuldig ons sterk hart Met\\nHet een te zouden genoeg volgen liefde\\nplan weg werk kunnen zijn en en\\nbegint die gaan, verraden. om de vastberadenheid,\\nvorm naar zonder Maar alles weg Elisabeth\\nte onze sporen ik te naar\\nkrijgen vrijheid achter geloof overwinnen. onze\\nin leidt. te dat Laten toekomst', 'Mijn heen bij vrijheid. laten ons, Hector\\ndierbare leiden, elke Laten tegenhouden en\\nElisabeth, mijn stap we door samen\\nOnze liefste. die samenwerken, angst zullen\\nliefde Ik we hand of we\\nzal zal zetten in twijfel. haar\\nons aan op hand, Onze veroveren.\\ndoor je weg en toekomst Met\\ndit zijde naar ons wacht onwankelbare\\nalles staan, onze niet op liefde,', 'Mijn giftige is en zo toe, je haast\\ngeliefde plant onze mijn snel zodat wachten en\\nHector, groeit kans moeder mogelijk we bij vastberadenheid,\\nIk in om uit een ons de Elisabeth\\nheb de ons de aantal plan oude\\nontdekt groentetuin plan weg van kunnen eik\\ndat naast tot te deze voltooien. achter\\ner de uitvoering ruimen. planten Ik het\\neen stallen. te Breng naar zal landhuis.\\nkrachtige Het brengen alsjeblieft mij op Met', 'Mijn vervuld. en We onze bij Met\\ndierbare Ik een zullen toekomst de vastberadenheid\\nElisabeth, zal aantal ze veilig oude en\\nJe zo van gebruiken te eik liefde,\\nwoorden snel de om stellen. zodra Hector\\nhebben mogelijk giftige ons Ik ik\\nmijn naar planten doel zal de\\nhart de voor te bij planten\\nmet groentetuin ons bereiken je heb\\nopwinding gaan verzamelen. en zijn verzameld.', 'Mijn Ik om uit hand, op toekomst Elisabeth\\nliefste wacht ons de en jou, waarin\\nHector, ongeduldig plan weg onze mijn we\\nDank op in te liefde liefste, vrij\\nje je actie ruimen. zal om kunnen\\nwel bij te We alle ons zijn.\\nvoor de brengen zullen obstakels te Met\\nje oude en samenwerken, overwinnen. leiden liefde\\nsnelle eik, mijn hand Ik naar en\\nreactie. klaar moeder in vertrouw een vertrouwen,', 'Mijn mijn planten de uitvoeren bij onwankelbare\\ndierbare liefste, veilig oude en je liefde,\\nElisabeth, in verzameld eik onze zijn, Hector\\nIk voor- en te toekomst mijn\\nzal en ik komen, samen liefste,\\naltijd tegenspoed. maak waar zullen en\\naan Ik me we veiligstellen. we\\nje heb klaar ons Ik zullen\\nzijde de om plan zal triomferen.\\nstaan, giftige naar zullen snel Met']\n"
     ]
    }
   ],
   "source": [
    "texts = read_files_in_folder(\"brieven/subst\")\n",
    "texts_reordered = [reorder_words_in_text_to_columns(text) for text in texts]\n",
    "print(texts_reordered)\n",
    "write_files_to_folder(texts_reordered, \"brieven\\\\in_cols\")\n",
    "texts_in_words = [[line.split() for line in text.splitlines()] for text in texts_reordered]\n",
    "alphabet = read_alphabet_file(\"alfabet.txt\")\n",
    "encoded_tests = [\"\\n\".join([\" \".join([\"\".join([alphabet[ord(c.upper()) - ord(\" \")] if ord(c.upper()) < 123 else alphabet[ord(c.upper()) - ord(\" \") - 26] for c in word]) for word in line ]) for line in text]) for text in texts_in_words]"
   ]
  },
  {
   "cell_type": "code",
   "execution_count": 47,
   "metadata": {},
   "outputs": [
    {
     "name": "stdout",
     "output_type": "stream",
     "text": [
      "['Mijn geliefde Hector,\\n\\nDe last van mijn leven drukt zwaar op mijn schouders, en ik kan niet langer verdragen dat mijn moeder me dwingt tot een leven dat niet het mijne is. Soms, in mijn donkerste momenten, kan ik niet anders dan wensen dat ze er niet meer zou zijn, zodat ik vrij zou zijn om mijn eigen pad te kiezen.\\n\\nVerloren in mijn verlangen naar vrijheid,\\n\\nElisabeth', 'Mijn dierbare Elisabeth,\\n\\nJouw woorden breken mijn hart, maar ik begrijp je wanhoop. Als onze liefde bedreigd wordt door de wil van anderen, moeten we soms extreme maatregelen overwegen. Laten we samen nadenken over een plan, een plan dat ons zal bevrijden van de ketenen van onderdrukking en ons de vrijheid zal geven om onze liefde te leven.\\n\\nMet vastberadenheid,\\n\\nHector', 'Mijn liefste Hector,\\n\\nIk kan de gedachte niet verdragen dat mijn moeder ons blijft scheiden, dat ze onze liefde blijft verstikken onder haar tirannie. Ik heb vaak gedroomd van een wereld waarin zij er niet meer zou zijn, waarin wij vrij zouden zijn om onze liefde te beleven zonder angst of veroordeling.\\n\\nGevangen in mijn verlangen naar verlossing,\\n\\nElisabeth', 'Mijn dierbare Elisabeth,\\n\\nElke nacht lig ik wakker en denk ik na over een manier om ons te bevrijden van de ketenen die ons binden. Misschien is er een weg, een weg die we samen kunnen bewandelen, hoe gevaarlijk en onbekend ook. Laten we onze krachten bundelen en een plan smeden dat ons de vrijheid zal schenken die we zo wanhopig verlangen.\\n\\nMet vastberadenheid en liefde,\\n\\nHector', 'Mijn geliefde Hector,\\n\\nDe tijd is gekomen om onze dromen in daden om te zetten. We kunnen niet langer toekijken terwijl mijn moeder ons uit elkaar drijft. Ik heb een plan bedacht, een plan dat ons zal bevrijden van haar greep en ons de vrijheid zal geven om samen te zijn. Laten we snel samenkomen om alles te bespreken en ons pad naar bevrijding te plannen.\\n\\nMet vastberadenheid en verlangen,\\n\\nElisabeth', 'Mijn dierbare Elisabeth,\\n\\nJe woorden vervullen me met hoop en vastberadenheid. Het is tijd dat we de controle over ons leven terugnemen en onze liefde laten zegevieren. Ik zal alles doen wat nodig is om ons plan tot uitvoering te brengen en ons te verlossen van de ketenen die ons binden. Laten we samenkomen en de laatste details uitwerken, mijn liefste.\\n\\nMet vastberadenheid en liefde,\\n\\nHector', 'Mijn liefste Hector,\\n\\nHet plan begint vorm te krijgen in mijn hoofd, als een weg die naar onze vrijheid leidt. We moeten zorgvuldig te werk gaan, zonder sporen achter te laten die ons zouden kunnen verraden. Maar ik geloof dat we samen sterk genoeg zijn om alles te overwinnen. Laten we ons hart volgen en de weg naar onze toekomst samen banen.\\n\\nMet liefde en vastberadenheid,\\n\\nElisabeth', 'Mijn dierbare Elisabeth,\\n\\nOnze liefde zal ons door dit alles heen leiden, mijn liefste. Ik zal aan je zijde staan, bij elke stap die we zetten op weg naar onze vrijheid. Laten we samenwerken, hand in hand, en ons niet laten tegenhouden door angst of twijfel. Onze toekomst wacht op ons, en samen zullen we haar veroveren.\\n\\nMet onwankelbare liefde,\\n\\nHector', 'Mijn geliefde Hector,\\n\\nIk heb ontdekt dat er een krachtige giftige plant groeit in de groentetuin naast de stallen. Het is onze kans om ons plan tot uitvoering te brengen en mijn moeder uit de weg te ruimen. Breng alsjeblieft zo snel mogelijk een aantal van deze planten naar mij toe, zodat we ons plan kunnen voltooien. Ik zal op je wachten bij de oude eik achter het landhuis.\\n\\nMet haast en vastberadenheid,\\n\\nElisabeth', 'Mijn dierbare Elisabeth,\\n\\nJe woorden hebben mijn hart met opwinding vervuld. Ik zal zo snel mogelijk naar de groentetuin gaan en een aantal van de giftige planten voor ons verzamelen. We zullen ze gebruiken om ons doel te bereiken en onze toekomst veilig te stellen. Ik zal bij je zijn bij de oude eik zodra ik de planten heb verzameld.\\n\\nMet vastberadenheid en liefde,\\n\\nHector', 'Mijn liefste Hector,\\n\\nDank je wel voor je snelle reactie. Ik wacht ongeduldig op je bij de oude eik, klaar om ons plan in actie te brengen en mijn moeder uit de weg te ruimen. We zullen samenwerken, hand in hand, en onze liefde zal alle obstakels overwinnen. Ik vertrouw op jou, mijn liefste, om ons te leiden naar een toekomst waarin we vrij kunnen zijn.\\n\\nMet liefde en vertrouwen,\\n\\nElisabeth', 'Mijn dierbare Elisabeth,\\n\\nIk zal altijd aan je zijde staan, mijn liefste, in voor- en tegenspoed. Ik heb de giftige planten veilig verzameld en ik maak me klaar om naar de oude eik te komen, waar we ons plan zullen uitvoeren en onze toekomst samen zullen veiligstellen. Ik zal snel bij je zijn, mijn liefste, en we zullen triomferen.\\n\\nMet onwankelbare liefde,\\n\\nHector']\n",
      "[[['Mijn', 'op', 'mijn', 'mijne', 'anders', 'zodat', 'kiezen.'], ['geliefde', 'mijn', 'moeder', 'is.', 'dan', 'ik', 'Verloren'], ['Hector,', 'schouders,', 'me', 'Soms,', 'wensen', 'vrij', 'in'], ['De', 'en', 'dwingt', 'in', 'dat', 'zou', 'mijn'], ['last', 'ik', 'tot', 'mijn', 'ze', 'zijn', 'verlangen'], ['van', 'kan', 'een', 'donkerste', 'er', 'om', 'naar'], ['mijn', 'niet', 'leven', 'momenten,', 'niet', 'mijn', 'vrijheid,'], ['leven', 'langer', 'dat', 'kan', 'meer', 'eigen', 'Elisabeth'], ['drukt', 'verdragen', 'niet', 'ik', 'zou', 'pad'], ['zwaar', 'dat', 'het', 'niet', 'zijn,', 'te']], [['Mijn', 'begrijp', 'wil', 'we', 'zal', 'vrijheid', 'Hector'], ['dierbare', 'je', 'van', 'samen', 'bevrijden', 'zal'], ['Elisabeth,', 'wanhoop.', 'anderen,', 'nadenken', 'van', 'geven'], ['Jouw', 'Als', 'moeten', 'over', 'de', 'om'], ['woorden', 'onze', 'we', 'een', 'ketenen', 'onze'], ['breken', 'liefde', 'soms', 'plan,', 'van', 'liefde'], ['mijn', 'bedreigd', 'extreme', 'een', 'onderdrukking', 'te'], ['hart,', 'wordt', 'maatregelen', 'plan', 'en', 'leven.'], ['maar', 'door', 'overwegen.', 'dat', 'ons', 'Met'], ['ik', 'de', 'Laten', 'ons', 'de', 'vastberadenheid,']], [['Mijn', 'mijn', 'verstikken', 'wereld', 'vrij', 'of'], ['liefste', 'moeder', 'onder', 'waarin', 'zouden', 'veroordeling.'], ['Hector,', 'ons', 'haar', 'zij', 'zijn', 'Gevangen'], ['Ik', 'blijft', 'tirannie.', 'er', 'om', 'in'], ['kan', 'scheiden,', 'Ik', 'niet', 'onze', 'mijn'], ['de', 'dat', 'heb', 'meer', 'liefde', 'verlangen'], ['gedachte', 'ze', 'vaak', 'zou', 'te', 'naar'], ['niet', 'onze', 'gedroomd', 'zijn,', 'beleven', 'verlossing,'], ['verdragen', 'liefde', 'van', 'waarin', 'zonder', 'Elisabeth'], ['dat', 'blijft', 'een', 'wij', 'angst']], [['Mijn', 'ik', 'de', 'een', 'onbekend', 'smeden', 'wanhopig'], ['dierbare', 'na', 'ketenen', 'weg', 'ook.', 'dat', 'verlangen.'], ['Elisabeth,', 'over', 'die', 'die', 'Laten', 'ons', 'Met'], ['Elke', 'een', 'ons', 'we', 'we', 'de', 'vastberadenheid'], ['nacht', 'manier', 'binden.', 'samen', 'onze', 'vrijheid', 'en'], ['lig', 'om', 'Misschien', 'kunnen', 'krachten', 'zal', 'liefde,'], ['ik', 'ons', 'is', 'bewandelen,', 'bundelen', 'schenken', 'Hector'], ['wakker', 'te', 'er', 'hoe', 'en', 'die'], ['en', 'bevrijden', 'een', 'gevaarlijk', 'een', 'we'], ['denk', 'van', 'weg,', 'en', 'plan', 'zo']], [['Mijn', 'in', 'terwijl', 'plan', 'greep', 'zijn.', 'ons', 'Elisabeth'], ['geliefde', 'daden', 'mijn', 'bedacht,', 'en', 'Laten', 'pad'], ['Hector,', 'om', 'moeder', 'een', 'ons', 'we', 'naar'], ['De', 'te', 'ons', 'plan', 'de', 'snel', 'bevrijding'], ['tijd', 'zetten.', 'uit', 'dat', 'vrijheid', 'samenkomen', 'te'], ['is', 'We', 'elkaar', 'ons', 'zal', 'om', 'plannen.'], ['gekomen', 'kunnen', 'drijft.', 'zal', 'geven', 'alles', 'Met'], ['om', 'niet', 'Ik', 'bevrijden', 'om', 'te', 'vastberadenheid'], ['onze', 'langer', 'heb', 'van', 'samen', 'bespreken', 'en'], ['dromen', 'toekijken', 'een', 'haar', 'te', 'en', 'verlangen,']], [['Mijn', 'vastberadenheid.', 'leven', 'doen', 'brengen', 'binden.', 'liefste.'], ['dierbare', 'Het', 'terugnemen', 'wat', 'en', 'Laten', 'Met'], ['Elisabeth,', 'is', 'en', 'nodig', 'ons', 'we', 'vastberadenheid'], ['Je', 'tijd', 'onze', 'is', 'te', 'samenkomen', 'en'], ['woorden', 'dat', 'liefde', 'om', 'verlossen', 'en', 'liefde,'], ['vervullen', 'we', 'laten', 'ons', 'van', 'de', 'Hector'], ['me', 'de', 'zegevieren.', 'plan', 'de', 'laatste'], ['met', 'controle', 'Ik', 'tot', 'ketenen', 'details'], ['hoop', 'over', 'zal', 'uitvoering', 'die', 'uitwerken,'], ['en', 'ons', 'alles', 'te', 'ons', 'mijn']], [['Mijn', 'mijn', 'We', 'laten', 'we', 'we', 'samen'], ['liefste', 'hoofd,', 'moeten', 'die', 'samen', 'ons', 'banen.'], ['Hector,', 'als', 'zorgvuldig', 'ons', 'sterk', 'hart', 'Met'], ['Het', 'een', 'te', 'zouden', 'genoeg', 'volgen', 'liefde'], ['plan', 'weg', 'werk', 'kunnen', 'zijn', 'en', 'en'], ['begint', 'die', 'gaan,', 'verraden.', 'om', 'de', 'vastberadenheid,'], ['vorm', 'naar', 'zonder', 'Maar', 'alles', 'weg', 'Elisabeth'], ['te', 'onze', 'sporen', 'ik', 'te', 'naar'], ['krijgen', 'vrijheid', 'achter', 'geloof', 'overwinnen.', 'onze'], ['in', 'leidt.', 'te', 'dat', 'Laten', 'toekomst']], [['Mijn', 'heen', 'bij', 'vrijheid.', 'laten', 'ons,', 'Hector'], ['dierbare', 'leiden,', 'elke', 'Laten', 'tegenhouden', 'en'], ['Elisabeth,', 'mijn', 'stap', 'we', 'door', 'samen'], ['Onze', 'liefste.', 'die', 'samenwerken,', 'angst', 'zullen'], ['liefde', 'Ik', 'we', 'hand', 'of', 'we'], ['zal', 'zal', 'zetten', 'in', 'twijfel.', 'haar'], ['ons', 'aan', 'op', 'hand,', 'Onze', 'veroveren.'], ['door', 'je', 'weg', 'en', 'toekomst', 'Met'], ['dit', 'zijde', 'naar', 'ons', 'wacht', 'onwankelbare'], ['alles', 'staan,', 'onze', 'niet', 'op', 'liefde,']], [['Mijn', 'giftige', 'is', 'en', 'zo', 'toe,', 'je', 'haast'], ['geliefde', 'plant', 'onze', 'mijn', 'snel', 'zodat', 'wachten', 'en'], ['Hector,', 'groeit', 'kans', 'moeder', 'mogelijk', 'we', 'bij', 'vastberadenheid,'], ['Ik', 'in', 'om', 'uit', 'een', 'ons', 'de', 'Elisabeth'], ['heb', 'de', 'ons', 'de', 'aantal', 'plan', 'oude'], ['ontdekt', 'groentetuin', 'plan', 'weg', 'van', 'kunnen', 'eik'], ['dat', 'naast', 'tot', 'te', 'deze', 'voltooien.', 'achter'], ['er', 'de', 'uitvoering', 'ruimen.', 'planten', 'Ik', 'het'], ['een', 'stallen.', 'te', 'Breng', 'naar', 'zal', 'landhuis.'], ['krachtige', 'Het', 'brengen', 'alsjeblieft', 'mij', 'op', 'Met']], [['Mijn', 'vervuld.', 'en', 'We', 'onze', 'bij', 'Met'], ['dierbare', 'Ik', 'een', 'zullen', 'toekomst', 'de', 'vastberadenheid'], ['Elisabeth,', 'zal', 'aantal', 'ze', 'veilig', 'oude', 'en'], ['Je', 'zo', 'van', 'gebruiken', 'te', 'eik', 'liefde,'], ['woorden', 'snel', 'de', 'om', 'stellen.', 'zodra', 'Hector'], ['hebben', 'mogelijk', 'giftige', 'ons', 'Ik', 'ik'], ['mijn', 'naar', 'planten', 'doel', 'zal', 'de'], ['hart', 'de', 'voor', 'te', 'bij', 'planten'], ['met', 'groentetuin', 'ons', 'bereiken', 'je', 'heb'], ['opwinding', 'gaan', 'verzamelen.', 'en', 'zijn', 'verzameld.']], [['Mijn', 'Ik', 'om', 'uit', 'hand,', 'op', 'toekomst', 'Elisabeth'], ['liefste', 'wacht', 'ons', 'de', 'en', 'jou,', 'waarin'], ['Hector,', 'ongeduldig', 'plan', 'weg', 'onze', 'mijn', 'we'], ['Dank', 'op', 'in', 'te', 'liefde', 'liefste,', 'vrij'], ['je', 'je', 'actie', 'ruimen.', 'zal', 'om', 'kunnen'], ['wel', 'bij', 'te', 'We', 'alle', 'ons', 'zijn.'], ['voor', 'de', 'brengen', 'zullen', 'obstakels', 'te', 'Met'], ['je', 'oude', 'en', 'samenwerken,', 'overwinnen.', 'leiden', 'liefde'], ['snelle', 'eik,', 'mijn', 'hand', 'Ik', 'naar', 'en'], ['reactie.', 'klaar', 'moeder', 'in', 'vertrouw', 'een', 'vertrouwen,']], [['Mijn', 'mijn', 'planten', 'de', 'uitvoeren', 'bij', 'onwankelbare'], ['dierbare', 'liefste,', 'veilig', 'oude', 'en', 'je', 'liefde,'], ['Elisabeth,', 'in', 'verzameld', 'eik', 'onze', 'zijn,', 'Hector'], ['Ik', 'voor-', 'en', 'te', 'toekomst', 'mijn'], ['zal', 'en', 'ik', 'komen,', 'samen', 'liefste,'], ['altijd', 'tegenspoed.', 'maak', 'waar', 'zullen', 'en'], ['aan', 'Ik', 'me', 'we', 'veiligstellen.', 'we'], ['je', 'heb', 'klaar', 'ons', 'Ik', 'zullen'], ['zijde', 'de', 'om', 'plan', 'zal', 'triomferen.'], ['staan,', 'giftige', 'naar', 'zullen', 'snel', 'Met']]]\n",
      "['■', '□', '▢', '▣', '▤', '▥', '▦', '▧', '▨', '▩', '▪', '▫', '▬', '▭', '▮', '▯', '▰', '▱', '▲', '△', '▴', '▶', '▷', '▸', '▽', '▾', '◀', '◁', '◆', '◇', '◈', '◉', '◊', '○', '◍', '◎', '●', '◐', '◑', '◒', '◓', '◔', '◕', '◖', '◗', '◘', '◙', '◚', '◛', '◜', '◝', '◞', '◟', '◠', '◡', '◢', '◣', '◤', '◥', '◦', '◧', '◨', '◩', '◪', '◫', '◬', '◭', '◮', '◯', '◰', '◱', '◲', '◳', '◴', '◵', '◶', '◷', '◸', '◹', '◺', '◿']\n",
      "◘◔◕◙ ◚◛ ◘◔◕◙ ◘◔◕◙◐ ○◙●◐◝◞ ◥◚●○◟ ◖◔◐◥◐◙▮\n",
      "◒◐◗◔◐◑●◐ ◘◔◕◙ ◘◚◐●◐◝ ◔◞▮ ●○◙ ◔◖ ◡◐◝◗◚◝◐◙\n",
      "◓◐◎◟◚◝▬ ◞◎◓◚◠●◐◝◞▬ ◘◐ ◞◚◘◞▬ ◢◐◙◞◐◙ ◡◝◔◕ ◔◙\n",
      "●◐ ◐◙ ●◢◔◙◒◟ ◔◙ ●○◟ ◥◚◠ ◘◔◕◙\n",
      "◗○◞◟ ◔◖ ◟◚◟ ◘◔◕◙ ◥◐ ◥◔◕◙ ◡◐◝◗○◙◒◐◙\n",
      "◡○◙ ◖○◙ ◐◐◙ ●◚◙◖◐◝◞◟◐ ◐◝ ◚◘ ◙○○◝\n",
      "◘◔◕◙ ◙◔◐◟ ◗◐◡◐◙ ◘◚◘◐◙◟◐◙▬ ◙◔◐◟ ◘◔◕◙ ◡◝◔◕◓◐◔●▬\n",
      "◗◐◡◐◙ ◗○◙◒◐◝ ●○◟ ◖○◙ ◘◐◐◝ ◐◔◒◐◙ ◐◗◔◞○◍◐◟◓\n",
      "●◝◠◖◟ ◡◐◝●◝○◒◐◙ ◙◔◐◟ ◔◖ ◥◚◠ ◛○●\n",
      "◥◢○○◝ ●○◟ ◓◐◟ ◙◔◐◟ ◥◔◕◙▬ ◟◐\n",
      "◘◔◕◙ ◍◐◒◝◔◕◛ ◢◔◗ ◢◐ ◥○◗ ◡◝◔◕◓◐◔● ◓◐◎◟◚◝\n",
      "●◔◐◝◍○◝◐ ◕◐ ◡○◙ ◞○◘◐◙ ◍◐◡◝◔◕●◐◙ ◥○◗\n",
      "◐◗◔◞○◍◐◟◓▬ ◢○◙◓◚◚◛▮ ○◙●◐◝◐◙▬ ◙○●◐◙◖◐◙ ◡○◙ ◒◐◡◐◙\n",
      "◕◚◠◢ ○◗◞ ◘◚◐◟◐◙ ◚◡◐◝ ●◐ ◚◘\n",
      "◢◚◚◝●◐◙ ◚◙◥◐ ◢◐ ◐◐◙ ◖◐◟◐◙◐◙ ◚◙◥◐\n",
      "◍◝◐◖◐◙ ◗◔◐◑●◐ ◞◚◘◞ ◛◗○◙▬ ◡○◙ ◗◔◐◑●◐\n",
      "◘◔◕◙ ◍◐●◝◐◔◒● ◐◣◟◝◐◘◐ ◐◐◙ ◚◙●◐◝●◝◠◖◖◔◙◒ ◟◐\n",
      "◓○◝◟▬ ◢◚◝●◟ ◘○○◟◝◐◒◐◗◐◙ ◛◗○◙ ◐◙ ◗◐◡◐◙▮\n",
      "◘○○◝ ●◚◚◝ ◚◡◐◝◢◐◒◐◙▮ ●○◟ ◚◙◞ ◘◐◟\n",
      "◔◖ ●◐ ◗○◟◐◙ ◚◙◞ ●◐ ◡○◞◟◍◐◝○●◐◙◓◐◔●▬\n",
      "◘◔◕◙ ◘◔◕◙ ◡◐◝◞◟◔◖◖◐◙ ◢◐◝◐◗● ◡◝◔◕ ◚◑\n",
      "◗◔◐◑◞◟◐ ◘◚◐●◐◝ ◚◙●◐◝ ◢○○◝◔◙ ◥◚◠●◐◙ ◡◐◝◚◚◝●◐◗◔◙◒▮\n",
      "◓◐◎◟◚◝▬ ◚◙◞ ◓○○◝ ◥◔◕ ◥◔◕◙ ◒◐◡○◙◒◐◙\n",
      "◔◖ ◍◗◔◕◑◟ ◟◔◝○◙◙◔◐▮ ◐◝ ◚◘ ◔◙\n",
      "◖○◙ ◞◎◓◐◔●◐◙▬ ◔◖ ◙◔◐◟ ◚◙◥◐ ◘◔◕◙\n",
      "●◐ ●○◟ ◓◐◍ ◘◐◐◝ ◗◔◐◑●◐ ◡◐◝◗○◙◒◐◙\n",
      "◒◐●○◎◓◟◐ ◥◐ ◡○○◖ ◥◚◠ ◟◐ ◙○○◝\n",
      "◙◔◐◟ ◚◙◥◐ ◒◐●◝◚◚◘● ◥◔◕◙▬ ◍◐◗◐◡◐◙ ◡◐◝◗◚◞◞◔◙◒▬\n",
      "◡◐◝●◝○◒◐◙ ◗◔◐◑●◐ ◡○◙ ◢○○◝◔◙ ◥◚◙●◐◝ ◐◗◔◞○◍◐◟◓\n",
      "●○◟ ◍◗◔◕◑◟ ◐◐◙ ◢◔◕ ○◙◒◞◟\n",
      "◘◔◕◙ ◔◖ ●◐ ◐◐◙ ◚◙◍◐◖◐◙● ◞◘◐●◐◙ ◢○◙◓◚◛◔◒\n",
      "●◔◐◝◍○◝◐ ◙○ ◖◐◟◐◙◐◙ ◢◐◒ ◚◚◖▮ ●○◟ ◡◐◝◗○◙◒◐◙▮\n",
      "◐◗◔◞○◍◐◟◓▬ ◚◡◐◝ ●◔◐ ●◔◐ ◗○◟◐◙ ◚◙◞ ◘◐◟\n",
      "◐◗◖◐ ◐◐◙ ◚◙◞ ◢◐ ◢◐ ●◐ ◡○◞◟◍◐◝○●◐◙◓◐◔●\n",
      "◙○◎◓◟ ◘○◙◔◐◝ ◍◔◙●◐◙▮ ◞○◘◐◙ ◚◙◥◐ ◡◝◔◕◓◐◔● ◐◙\n",
      "◗◔◒ ◚◘ ◘◔◞◞◎◓◔◐◙ ◖◠◙◙◐◙ ◖◝○◎◓◟◐◙ ◥○◗ ◗◔◐◑●◐▬\n",
      "◔◖ ◚◙◞ ◔◞ ◍◐◢○◙●◐◗◐◙▬ ◍◠◙●◐◗◐◙ ◞◎◓◐◙◖◐◙ ◓◐◎◟◚◝\n",
      "◢○◖◖◐◝ ◟◐ ◐◝ ◓◚◐ ◐◙ ●◔◐\n",
      "◐◙ ◍◐◡◝◔◕●◐◙ ◐◐◙ ◒◐◡○○◝◗◔◕◖ ◐◐◙ ◢◐\n",
      "●◐◙◖ ◡○◙ ◢◐◒▬ ◐◙ ◛◗○◙ ◥◚\n",
      "◘◔◕◙ ◔◙ ◟◐◝◢◔◕◗ ◛◗○◙ ◒◝◐◐◛ ◥◔◕◙▮ ◚◙◞ ◐◗◔◞○◍◐◟◓\n",
      "◒◐◗◔◐◑●◐ ●○●◐◙ ◘◔◕◙ ◍◐●○◎◓◟▬ ◐◙ ◗○◟◐◙ ◛○●\n",
      "◓◐◎◟◚◝▬ ◚◘ ◘◚◐●◐◝ ◐◐◙ ◚◙◞ ◢◐ ◙○○◝\n",
      "●◐ ◟◐ ◚◙◞ ◛◗○◙ ●◐ ◞◙◐◗ ◍◐◡◝◔◕●◔◙◒\n",
      "◟◔◕● ◥◐◟◟◐◙▮ ◠◔◟ ●○◟ ◡◝◔◕◓◐◔● ◞○◘◐◙◖◚◘◐◙ ◟◐\n",
      "◔◞ ◢◐ ◐◗◖○○◝ ◚◙◞ ◥○◗ ◚◘ ◛◗○◙◙◐◙▮\n",
      "◒◐◖◚◘◐◙ ◖◠◙◙◐◙ ●◝◔◕◑◟▮ ◥○◗ ◒◐◡◐◙ ○◗◗◐◞ ◘◐◟\n",
      "◚◘ ◙◔◐◟ ◔◖ ◍◐◡◝◔◕●◐◙ ◚◘ ◟◐ ◡○◞◟◍◐◝○●◐◙◓◐◔●\n",
      "◚◙◥◐ ◗○◙◒◐◝ ◓◐◍ ◡○◙ ◞○◘◐◙ ◍◐◞◛◝◐◖◐◙ ◐◙\n",
      "●◝◚◘◐◙ ◟◚◐◖◔◕◖◐◙ ◐◐◙ ◓○○◝ ◟◐ ◐◙ ◡◐◝◗○◙◒◐◙▬\n",
      "◘◔◕◙ ◡○◞◟◍◐◝○●◐◙◓◐◔●▮ ◗◐◡◐◙ ●◚◐◙ ◍◝◐◙◒◐◙ ◍◔◙●◐◙▮ ◗◔◐◑◞◟◐▮\n",
      "●◔◐◝◍○◝◐ ◓◐◟ ◟◐◝◠◒◙◐◘◐◙ ◢○◟ ◐◙ ◗○◟◐◙ ◘◐◟\n",
      "◐◗◔◞○◍◐◟◓▬ ◔◞ ◐◙ ◙◚●◔◒ ◚◙◞ ◢◐ ◡○◞◟◍◐◝○●◐◙◓◐◔●\n",
      "◕◐ ◟◔◕● ◚◙◥◐ ◔◞ ◟◐ ◞○◘◐◙◖◚◘◐◙ ◐◙\n",
      "◢◚◚◝●◐◙ ●○◟ ◗◔◐◑●◐ ◚◘ ◡◐◝◗◚◞◞◐◙ ◐◙ ◗◔◐◑●◐▬\n",
      "◡◐◝◡◠◗◗◐◙ ◢◐ ◗○◟◐◙ ◚◙◞ ◡○◙ ●◐ ◓◐◎◟◚◝\n",
      "◘◐ ●◐ ◥◐◒◐◡◔◐◝◐◙▮ ◛◗○◙ ●◐ ◗○○◟◞◟◐\n",
      "◘◐◟ ◎◚◙◟◝◚◗◐ ◔◖ ◟◚◟ ◖◐◟◐◙◐◙ ●◐◟○◔◗◞\n",
      "◓◚◚◛ ◚◡◐◝ ◥○◗ ◠◔◟◡◚◐◝◔◙◒ ●◔◐ ◠◔◟◢◐◝◖◐◙▬\n",
      "◐◙ ◚◙◞ ○◗◗◐◞ ◟◐ ◚◙◞ ◘◔◕◙\n",
      "◘◔◕◙ ◘◔◕◙ ◢◐ ◗○◟◐◙ ◢◐ ◢◐ ◞○◘◐◙\n",
      "◗◔◐◑◞◟◐ ◓◚◚◑●▬ ◘◚◐◟◐◙ ●◔◐ ◞○◘◐◙ ◚◙◞ ◍○◙◐◙▮\n",
      "◓◐◎◟◚◝▬ ○◗◞ ◥◚◝◒◡◠◗●◔◒ ◚◙◞ ◞◟◐◝◖ ◓○◝◟ ◘◐◟\n",
      "◓◐◟ ◐◐◙ ◟◐ ◥◚◠●◐◙ ◒◐◙◚◐◒ ◡◚◗◒◐◙ ◗◔◐◑●◐\n",
      "◛◗○◙ ◢◐◒ ◢◐◝◖ ◖◠◙◙◐◙ ◥◔◕◙ ◐◙ ◐◙\n",
      "◍◐◒◔◙◟ ●◔◐ ◒○○◙▬ ◡◐◝◝○●◐◙▮ ◚◘ ●◐ ◡○◞◟◍◐◝○●◐◙◓◐◔●▬\n",
      "◡◚◝◘ ◙○○◝ ◥◚◙●◐◝ ◘○○◝ ○◗◗◐◞ ◢◐◒ ◐◗◔◞○◍◐◟◓\n",
      "◟◐ ◚◙◥◐ ◞◛◚◝◐◙ ◔◖ ◟◐ ◙○○◝\n",
      "◖◝◔◕◒◐◙ ◡◝◔◕◓◐◔● ○◎◓◟◐◝ ◒◐◗◚◚◑ ◚◡◐◝◢◔◙◙◐◙▮ ◚◙◥◐\n",
      "◔◙ ◗◐◔●◟▮ ◟◐ ●○◟ ◗○◟◐◙ ◟◚◐◖◚◘◞◟\n",
      "◘◔◕◙ ◓◐◐◙ ◍◔◕ ◡◝◔◕◓◐◔●▮ ◗○◟◐◙ ◚◙◞▬ ◓◐◎◟◚◝\n",
      "●◔◐◝◍○◝◐ ◗◐◔●◐◙▬ ◐◗◖◐ ◗○◟◐◙ ◟◐◒◐◙◓◚◠●◐◙ ◐◙\n",
      "◐◗◔◞○◍◐◟◓▬ ◘◔◕◙ ◞◟○◛ ◢◐ ●◚◚◝ ◞○◘◐◙\n",
      "◚◙◥◐ ◗◔◐◑◞◟◐▮ ●◔◐ ◞○◘◐◙◢◐◝◖◐◙▬ ○◙◒◞◟ ◥◠◗◗◐◙\n",
      "◗◔◐◑●◐ ◔◖ ◢◐ ◓○◙● ◚◑ ◢◐\n",
      "◥○◗ ◥○◗ ◥◐◟◟◐◙ ◔◙ ◟◢◔◕◑◐◗▮ ◓○○◝\n",
      "◚◙◞ ○○◙ ◚◛ ◓○◙●▬ ◚◙◥◐ ◡◐◝◚◡◐◝◐◙▮\n",
      "●◚◚◝ ◕◐ ◢◐◒ ◐◙ ◟◚◐◖◚◘◞◟ ◘◐◟\n",
      "●◔◟ ◥◔◕●◐ ◙○○◝ ◚◙◞ ◢○◎◓◟ ◚◙◢○◙◖◐◗◍○◝◐\n",
      "○◗◗◐◞ ◞◟○○◙▬ ◚◙◥◐ ◙◔◐◟ ◚◛ ◗◔◐◑●◐▬\n",
      "◘◔◕◙ ◒◔◑◟◔◒◐ ◔◞ ◐◙ ◥◚ ◟◚◐▬ ◕◐ ◓○○◞◟\n",
      "◒◐◗◔◐◑●◐ ◛◗○◙◟ ◚◙◥◐ ◘◔◕◙ ◞◙◐◗ ◥◚●○◟ ◢○◎◓◟◐◙ ◐◙\n",
      "◓◐◎◟◚◝▬ ◒◝◚◐◔◟ ◖○◙◞ ◘◚◐●◐◝ ◘◚◒◐◗◔◕◖ ◢◐ ◍◔◕ ◡○◞◟◍◐◝○●◐◙◓◐◔●▬\n",
      "◔◖ ◔◙ ◚◘ ◠◔◟ ◐◐◙ ◚◙◞ ●◐ ◐◗◔◞○◍◐◟◓\n",
      "◓◐◍ ●◐ ◚◙◞ ●◐ ○○◙◟○◗ ◛◗○◙ ◚◠●◐\n",
      "◚◙◟●◐◖◟ ◒◝◚◐◙◟◐◟◠◔◙ ◛◗○◙ ◢◐◒ ◡○◙ ◖◠◙◙◐◙ ◐◔◖\n",
      "●○◟ ◙○○◞◟ ◟◚◟ ◟◐ ●◐◥◐ ◡◚◗◟◚◚◔◐◙▮ ○◎◓◟◐◝\n",
      "◐◝ ●◐ ◠◔◟◡◚◐◝◔◙◒ ◝◠◔◘◐◙▮ ◛◗○◙◟◐◙ ◔◖ ◓◐◟\n",
      "◐◐◙ ◞◟○◗◗◐◙▮ ◟◐ ◍◝◐◙◒ ◙○○◝ ◥○◗ ◗○◙●◓◠◔◞▮\n",
      "◖◝○◎◓◟◔◒◐ ◓◐◟ ◍◝◐◙◒◐◙ ○◗◞◕◐◍◗◔◐◑◟ ◘◔◕ ◚◛ ◘◐◟\n",
      "◘◔◕◙ ◡◐◝◡◠◗●▮ ◐◙ ◢◐ ◚◙◥◐ ◍◔◕ ◘◐◟\n",
      "●◔◐◝◍○◝◐ ◔◖ ◐◐◙ ◥◠◗◗◐◙ ◟◚◐◖◚◘◞◟ ●◐ ◡○◞◟◍◐◝○●◐◙◓◐◔●\n",
      "◐◗◔◞○◍◐◟◓▬ ◥○◗ ○○◙◟○◗ ◥◐ ◡◐◔◗◔◒ ◚◠●◐ ◐◙\n",
      "◕◐ ◥◚ ◡○◙ ◒◐◍◝◠◔◖◐◙ ◟◐ ◐◔◖ ◗◔◐◑●◐▬\n",
      "◢◚◚◝●◐◙ ◞◙◐◗ ●◐ ◚◘ ◞◟◐◗◗◐◙▮ ◥◚●◝○ ◓◐◎◟◚◝\n",
      "◓◐◍◍◐◙ ◘◚◒◐◗◔◕◖ ◒◔◑◟◔◒◐ ◚◙◞ ◔◖ ◔◖\n",
      "◘◔◕◙ ◙○○◝ ◛◗○◙◟◐◙ ●◚◐◗ ◥○◗ ●◐\n",
      "◓○◝◟ ●◐ ◡◚◚◝ ◟◐ ◍◔◕ ◛◗○◙◟◐◙\n",
      "◘◐◟ ◒◝◚◐◙◟◐◟◠◔◙ ◚◙◞ ◍◐◝◐◔◖◐◙ ◕◐ ◓◐◍\n",
      "◚◛◢◔◙●◔◙◒ ◒○○◙ ◡◐◝◥○◘◐◗◐◙▮ ◐◙ ◥◔◕◙ ◡◐◝◥○◘◐◗●▮\n",
      "◘◔◕◙ ◔◖ ◚◘ ◠◔◟ ◓○◙●▬ ◚◛ ◟◚◐◖◚◘◞◟ ◐◗◔◞○◍◐◟◓\n",
      "◗◔◐◑◞◟◐ ◢○◎◓◟ ◚◙◞ ●◐ ◐◙ ◕◚◠▬ ◢○○◝◔◙\n",
      "◓◐◎◟◚◝▬ ◚◙◒◐●◠◗●◔◒ ◛◗○◙ ◢◐◒ ◚◙◥◐ ◘◔◕◙ ◢◐\n",
      "●○◙◖ ◚◛ ◔◙ ◟◐ ◗◔◐◑●◐ ◗◔◐◑◞◟◐▬ ◡◝◔◕\n",
      "◕◐ ◕◐ ○◎◟◔◐ ◝◠◔◘◐◙▮ ◥○◗ ◚◘ ◖◠◙◙◐◙\n",
      "◢◐◗ ◍◔◕ ◟◐ ◢◐ ○◗◗◐ ◚◙◞ ◥◔◕◙▮\n",
      "◡◚◚◝ ●◐ ◍◝◐◙◒◐◙ ◥◠◗◗◐◙ ◚◍◞◟○◖◐◗◞ ◟◐ ◘◐◟\n",
      "◕◐ ◚◠●◐ ◐◙ ◞○◘◐◙◢◐◝◖◐◙▬ ◚◡◐◝◢◔◙◙◐◙▮ ◗◐◔●◐◙ ◗◔◐◑●◐\n",
      "◞◙◐◗◗◐ ◐◔◖▬ ◘◔◕◙ ◓○◙● ◔◖ ◙○○◝ ◐◙\n",
      "◝◐○◎◟◔◐▮ ◖◗○○◝ ◘◚◐●◐◝ ◔◙ ◡◐◝◟◝◚◠◢ ◐◐◙ ◡◐◝◟◝◚◠◢◐◙▬\n",
      "◘◔◕◙ ◘◔◕◙ ◛◗○◙◟◐◙ ●◐ ◠◔◟◡◚◐◝◐◙ ◍◔◕ ◚◙◢○◙◖◐◗◍○◝◐\n",
      "●◔◐◝◍○◝◐ ◗◔◐◑◞◟◐▬ ◡◐◔◗◔◒ ◚◠●◐ ◐◙ ◕◐ ◗◔◐◑●◐▬\n",
      "◐◗◔◞○◍◐◟◓▬ ◔◙ ◡◐◝◥○◘◐◗● ◐◔◖ ◚◙◥◐ ◥◔◕◙▬ ◓◐◎◟◚◝\n",
      "◔◖ ◡◚◚◝▭ ◐◙ ◟◐ ◟◚◐◖◚◘◞◟ ◘◔◕◙\n",
      "◥○◗ ◐◙ ◔◖ ◖◚◘◐◙▬ ◞○◘◐◙ ◗◔◐◑◞◟◐▬\n",
      "○◗◟◔◕● ◟◐◒◐◙◞◛◚◐●▮ ◘○○◖ ◢○○◝ ◥◠◗◗◐◙ ◐◙\n",
      "○○◙ ◔◖ ◘◐ ◢◐ ◡◐◔◗◔◒◞◟◐◗◗◐◙▮ ◢◐\n",
      "◕◐ ◓◐◍ ◖◗○○◝ ◚◙◞ ◔◖ ◥◠◗◗◐◙\n",
      "◥◔◕●◐ ●◐ ◚◘ ◛◗○◙ ◥○◗ ◟◝◔◚◘◑◐◝◐◙▮\n",
      "◞◟○○◙▬ ◒◔◑◟◔◒◐ ◙○○◝ ◥◠◗◗◐◙ ◞◙◐◗ ◘◐◟\n"
     ]
    }
   ],
   "source": [
    "print(texts)\n",
    "print(texts_in_words)\n",
    "print(alphabet)\n",
    "for text in encoded_tests:\n",
    "    print(text)"
   ]
  },
  {
   "cell_type": "code",
   "execution_count": 49,
   "metadata": {},
   "outputs": [],
   "source": [
    "write_files_to_folder(encoded_tests, \"brieven\\\\met_tekens\")"
   ]
  },
  {
   "cell_type": "markdown",
   "metadata": {},
   "source": [
    "# rot 13"
   ]
  },
  {
   "cell_type": "code",
   "execution_count": 31,
   "metadata": {},
   "outputs": [],
   "source": [
    "# The rot13 map. This is a dictionary that maps each character to its rot13 equivalent.\n",
    "rot13_map = {chr(i): chr((i - ord('a') + 13) % 26 + ord('a')) for i in range(ord('a'), ord('z') + 1)}"
   ]
  },
  {
   "cell_type": "code",
   "execution_count": 32,
   "metadata": {},
   "outputs": [
    {
     "name": "stdout",
     "output_type": "stream",
     "text": [
      "{'a': 'n', 'b': 'o', 'c': 'p', 'd': 'q', 'e': 'r', 'f': 's', 'g': 't', 'h': 'u', 'i': 'v', 'j': 'w', 'k': 'x', 'l': 'y', 'm': 'z', 'n': 'a', 'o': 'b', 'p': 'c', 'q': 'd', 'r': 'e', 's': 'f', 't': 'g', 'u': 'h', 'v': 'i', 'w': 'j', 'x': 'k', 'y': 'l', 'z': 'm'}\n"
     ]
    }
   ],
   "source": [
    "print(rot13_map)"
   ]
  },
  {
   "cell_type": "code",
   "execution_count": 33,
   "metadata": {},
   "outputs": [
    {
     "name": "stdout",
     "output_type": "stream",
     "text": [
      "['Mijn geliefde Hector,\\n\\nElke ochtend verlang ik naar je aanwezigheid, naar de tederheid van je aanraking. Jij bent mijn metgezel, mijn gelijke. Mijn moeder dringt aan op een huwelijk met Frans, maar mijn hart behoort toe aan jou.\\n\\nMet liefde,\\n\\nElisabeth', 'Mijn dierbare Elisabeth,\\n\\nMijn hart breekt bij het lezen van je woorden. Maar geef de moed niet op, mijn liefste. Ik zal er altijd voor je zijn, wat er ook gebeurt. Blijf vechten, samen zullen we een oplossing vinden.\\n\\nMet onwankelbare liefde,\\n\\nHector', 'Mijn dierbare Elisabeth,\\n\\nJouw woorden verlichten mijn donkerste dagen. Mijn hart is vervuld van vreugde bij de gedachte aan ons samenzijn. Laten we vechten voor onze liefde, mijn liefste.\\n\\nMet liefde,\\n\\nHector', 'Mijn liefste Hector,\\n\\nIk droom van een toekomst waarin onze liefde vrij kan bloeien. Laat ons moedig zijn en de obstakels samen overwinnen. Frans is niet mijn lot, jij bent dat wel.\\n\\nLiefs,\\n\\nElisabeth', 'Mijn dierbare Elisabeth,\\n\\nSamen zijn we sterk. Laten we onze dromen najagen, ongeacht de verwachtingen van anderen. Onze liefde zal alles overwinnen.\\n\\nMet passie,\\n\\nHector', 'Mijn geliefde Hector,\\n\\nMijn hart kan niet anders dan jouw naam fluisteren. Laat ons samen strijden tegen de druk van de wereld om ons heen. Jij bent mijn lot, mijn liefde, mijn alles.\\n\\nAltijd,\\n\\nElisabeth', 'Mijn dierbare Elisabeth,\\n\\nJouw liefde is mijn kracht. Laat ons samen vechten voor onze toekomst, ongeacht de hindernissen die op ons pad komen. Onze liefde zal altijd zegevieren.\\n\\nMet eeuwige liefde,\\n\\nHector', 'Mijn geliefde Hector,\\n\\nIk schrijf je met een zwaar hart, doordrongen van wanhoop. De druk om met Frans te trouwen wordt ondraaglijk. Mijn moeder blijft me bestoken met zijn deugden en de voordelen van een dergelijk huwelijk, maar mijn hart huilt bij de gedachte aan een leven zonder jou.\\n\\nMet een gebroken hart,\\n\\nElisabeth', 'Mijn dierbare Elisabeth,\\n\\nMijn hart huilt met het jouwe. Maar laten we niet toegeven aan wanhoop. Samen zullen we een uitweg vinden, hoe moeilijk het ook lijkt. Blijf moedig, mijn liefste.\\n\\nMet liefde,\\n\\nHector', 'Mijn liefste Hector,\\n\\nIk ben verstrikt geraakt in een web van verplichtingen en verwachtingen. Het lijkt alsof elke weg die ik probeer te bewandelen me terugleidt naar het onvermijdelijke huwelijk met Frans. Ik weet niet hoe ik nog langer stand kan houden.\\n\\nGebroken en hopeloos,\\n\\nElisabeth']\n"
     ]
    }
   ],
   "source": [
    "texts_for_rot = read_files_in_folder(\"brieven/rot13\")\n",
    "print(texts_for_rot)"
   ]
  },
  {
   "cell_type": "code",
   "execution_count": 34,
   "metadata": {},
   "outputs": [
    {
     "name": "stdout",
     "output_type": "stream",
     "text": [
      "['zvwa tryvrsqr urpgbe,\\n\\nryxr bpugraq ireynat vx anne wr nnajrmvturvq, anne qr grqreurvq ina wr nnaenxvat. wvw orag zvwa zrgtrmry, zvwa tryvwxr. zvwa zbrqre qevatg nna bc rra uhjryvwx zrg senaf, znne zvwa uneg orubbeg gbr nna wbh.\\n\\nzrg yvrsqr,\\n\\nryvfnorgu', 'zvwa qvreoner ryvfnorgu,\\n\\nzvwa uneg oerrxg ovw urg yrmra ina wr jbbeqra. znne trrs qr zbrq avrg bc, zvwa yvrsfgr. vx mny re nygvwq ibbe wr mvwa, jng re bbx trorheg. oyvws irpugra, fnzra mhyyra jr rra bcybffvat ivaqra.\\n\\nzrg bajnaxryoner yvrsqr,\\n\\nurpgbe', 'zvwa qvreoner ryvfnorgu,\\n\\nwbhj jbbeqra ireyvpugra zvwa qbaxrefgr qntra. zvwa uneg vf ireihyq ina ierhtqr ovw qr trqnpugr nna baf fnzramvwa. yngra jr irpugra ibbe bamr yvrsqr, zvwa yvrsfgr.\\n\\nzrg yvrsqr,\\n\\nurpgbe', 'zvwa yvrsfgr urpgbe,\\n\\nvx qebbz ina rra gbrxbzfg jnneva bamr yvrsqr ievw xna oybrvra. ynng baf zbrqvt mvwa ra qr bofgnxryf fnzra birejvaara. senaf vf avrg zvwa ybg, wvw orag qng jry.\\n\\nyvrsf,\\n\\nryvfnorgu', 'zvwa qvreoner ryvfnorgu,\\n\\nfnzra mvwa jr fgrex. yngra jr bamr qebzra anwntra, batrnpug qr irejnpugvatra ina naqrera. bamr yvrsqr mny nyyrf birejvaara.\\n\\nzrg cnffvr,\\n\\nurpgbe', 'zvwa tryvrsqr urpgbe,\\n\\nzvwa uneg xna avrg naqref qna wbhj annz syhvfgrera. ynng baf fnzra fgevwqra grtra qr qehx ina qr jreryq bz baf urra. wvw orag zvwa ybg, zvwa yvrsqr, zvwa nyyrf.\\n\\nnygvwq,\\n\\nryvfnorgu', 'zvwa qvreoner ryvfnorgu,\\n\\nwbhj yvrsqr vf zvwa xenpug. ynng baf fnzra irpugra ibbe bamr gbrxbzfg, batrnpug qr uvaqreavffra qvr bc baf cnq xbzra. bamr yvrsqr mny nygvwq mrtrivrera.\\n\\nzrg rrhjvtr yvrsqr,\\n\\nurpgbe', 'zvwa tryvrsqr urpgbe,\\n\\nvx fpuevws wr zrg rra mjnne uneg, qbbeqebatra ina jnaubbc. qr qehx bz zrg senaf gr gebhjra jbeqg baqenntyvwx. zvwa zbrqre oyvwsg zr orfgbxra zrg mvwa qrhtqra ra qr ibbeqryra ina rra qretryvwx uhjryvwx, znne zvwa uneg uhvyg ovw qr trqnpugr nna rra yrira mbaqre wbh.\\n\\nzrg rra troebxra uneg,\\n\\nryvfnorgu', 'zvwa qvreoner ryvfnorgu,\\n\\nzvwa uneg uhvyg zrg urg wbhjr. znne yngra jr avrg gbrtrira nna jnaubbc. fnzra mhyyra jr rra hvgjrt ivaqra, ubr zbrvyvwx urg bbx yvwxg. oyvws zbrqvt, zvwa yvrsfgr.\\n\\nzrg yvrsqr,\\n\\nurpgbe', 'zvwa yvrsfgr urpgbe,\\n\\nvx ora irefgevxg trennxg va rra jro ina irecyvpugvatra ra irejnpugvatra. urg yvwxg nyfbs ryxr jrt qvr vx ceborre gr orjnaqryra zr grehtyrvqg anne urg bairezvwqryvwxr uhjryvwx zrg senaf. vx jrrg avrg ubr vx abt ynatre fgnaq xna ubhqra.\\n\\ntroebxra ra ubcrybbf,\\n\\nryvfnorgu']\n"
     ]
    }
   ],
   "source": [
    "rotated_texts = [\"\\n\".join([\"\".join([rot13_map[c] if c.isalpha() else c for c in line]) for line in text.lower().splitlines()]) for text in texts_for_rot]\n",
    "print(rotated_texts)"
   ]
  },
  {
   "cell_type": "code",
   "execution_count": 35,
   "metadata": {},
   "outputs": [],
   "source": [
    "write_files_to_folder(rotated_texts, \"brieven\\\\rot_13\")"
   ]
  }
 ],
 "metadata": {
  "kernelspec": {
   "display_name": "Python 3",
   "language": "python",
   "name": "python3"
  },
  "language_info": {
   "codemirror_mode": {
    "name": "ipython",
    "version": 3
   },
   "file_extension": ".py",
   "mimetype": "text/x-python",
   "name": "python",
   "nbconvert_exporter": "python",
   "pygments_lexer": "ipython3",
   "version": "3.12.0b2"
  }
 },
 "nbformat": 4,
 "nbformat_minor": 2
}
